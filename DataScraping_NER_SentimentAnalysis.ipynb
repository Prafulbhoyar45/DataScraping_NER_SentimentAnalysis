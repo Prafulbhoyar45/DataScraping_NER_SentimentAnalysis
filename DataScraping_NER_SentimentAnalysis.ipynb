{
 "cells": [
  {
   "cell_type": "markdown",
   "metadata": {},
   "source": [
    "# Data retrieval"
   ]
  },
  {
   "cell_type": "code",
   "execution_count": 1,
   "metadata": {},
   "outputs": [],
   "source": [
    "import requests\n",
    "from bs4 import BeautifulSoup\n",
    "import pandas as pd\n",
    "import numpy as np\n",
    "import matplotlib.pyplot as plt\n",
    "import seaborn as sns\n",
    "import os\n",
    "\n",
    "%matplotlib inline"
   ]
  },
  {
   "cell_type": "code",
   "execution_count": 4,
   "metadata": {},
   "outputs": [],
   "source": [
    "url = 'https://inshorts.com/en/read/technology'"
   ]
  },
  {
   "cell_type": "code",
   "execution_count": 5,
   "metadata": {},
   "outputs": [],
   "source": [
    "news_data = []"
   ]
  },
  {
   "cell_type": "code",
   "execution_count": 6,
   "metadata": {},
   "outputs": [
    {
     "data": {
      "text/plain": [
       "['https:', '', 'inshorts.com', 'en', 'read', 'technology']"
      ]
     },
     "execution_count": 6,
     "metadata": {},
     "output_type": "execute_result"
    }
   ],
   "source": [
    "news_category = url.split('/')\n",
    "news_category"
   ]
  },
  {
   "cell_type": "code",
   "execution_count": 7,
   "metadata": {},
   "outputs": [],
   "source": [
    "news_category = news_category[-1]"
   ]
  },
  {
   "cell_type": "code",
   "execution_count": 8,
   "metadata": {},
   "outputs": [
    {
     "data": {
      "text/plain": [
       "b'<!doctype html>\\n<html lang=\"en\">\\n\\n<head>\\n  <meta charset=\"utf-8\" />\\n  <style>\\n    /* The Modal (background) */\\n    .modal_contact {\\n        display: none; /* Hidden by default */\\n        position: fixed; /* Stay in place */\\n        z-index: 8; /* Sit on top */\\n        left: 0;\\n        top: 0;\\n        width: 100%; /* Full width */\\n        height: 100%;\\n        overflow: auto; /* Enable scroll if needed */\\n        background-color: rgb(0,0,0); /* Fallback color */\\n        background-color: rgba(0,0,0,0.4); /* Black w/ opacity */\\n    }\\n\\n    /* Modal Content/Box */\\n    .modal-content {\\n        background-color: #fefefe;\\n        margin: 15% auto;\\n        padding: 20px !important;\\n        padding-top: 0 !important;\\n        /* border: 1px solid #888; */\\n        text-align: center;\\n        position: relative;\\n        border-radius: 6px;\\n    }\\n\\n    /* The Close Button */\\n    .close {\\n      left: 90%;\\n      color: #aaa;\\n      float: right;\\n      font-size: 28px;\\n      font-weight: bold;\\n    /* position: absolute; */\\n    /* bottom: 86%; */\\n    /* display: inline-block; */\\n    /* padding-left: 5%; */\\n    }\\n\\n    .close:hover,\\n    .close:focus {\\n        color: black;\\n        text-decoration: none;\\n        cursor: pointer;\\n    }\\n\\n    #myBtn {\\n      background: #999999;\\n      color: #ffffff;\\n      text-transform: uppercase;\\n      font-weight: bold;\\n      box-shadow: none;\\n      border-radius: 4px;\\n      border: none;\\n      font-size: .8rem;\\n      /* width: 8rem; */\\n      height: 2rem;\\n      line-height: 2rem;\\n    }\\n\\n    .contact {\\n      margin-bottom: 4%;\\n      clear: both;\\n    }\\n  </style>\\n\\n  \\n    \\n  <meta http-equiv=\"Content-Type\" content=\"text/html; charset=UTF-8\"/>\\n  <meta name=\"viewport\" content=\"width=device-width, initial-scale=1, maximum-scale=1.0, user-scalable=no\"/>\\n\\n  <meta http-equiv=\"X-UA-Compatible\" content=\"IE=edge\">\\n  <link rel=\"manifest\" href=\"manifest.json\">\\n\\n  <!-- Fallback to homescreen for Chrome   <39 on Android -->\\n  <meta name=\"mobile-web-app-capable\" content=\"yes\">\\n  <meta name=\"application-name\" content=\"inshorts\">\\n  <link rel=\"icon\" sizes=\"192x192\" href=\"https://assets.inshorts.com/website_assets/images/favicon.png\">\\n\\n  <!-- Add to homescreen for Safari on iOS -->\\n  <meta name=\"apple-mobile-web-app-capable\" content=\"yes\">\\n  <meta name=\"apple-mobile-web-app-status-bar-style\" content=\"#424242\">\\n  <meta name=\"apple-mobile-web-app-title\" content=\"inshorts\">\\n  <link rel=\"apple-touch-icon\" href=\"https://assets.inshorts.com/website_assets/images/favicon.png\">\\n\\n  <!-- Tile icon for Win8 (144x144 + tile color) -->\\n  <meta name=\"msapplication-TileImage\" content=\"fav/favicon.png\">\\n  <meta name=\"msapplication-TileColor\" content=\"#424242\">\\n\\n  <meta name=\"theme-color\" content=\"#424242\">\\n  <meta http-equiv=\"content-type\" content=\"text/html; charset=UTF-8\"/>\\n  <meta name=\"msapplication-navbutton-color\" content=\"#424242\">\\n  <meta name=\"apple-mobile-web-app-status-bar-style\" content=\"#424242\">\\n  <link rel=\"apple-touch-startup-image\" href=\"https://assets.inshorts.com/website_assets/images/favicon.png\">\\n  <meta name=\"apple-mobile-web-app-status-bar-style\" content=\"black-translucent\">\\n    <meta name=\"twitter:card\" content=\"app\"/>\\n  <meta name=\"twitter:site\" content=\"@inshorts\"/>\\n  <meta name=\"twitter:creator\" content=\"@inshorts\"/>\\n  <meta name=\"twitter:description\" content=\"Inshorts delivers news in less than 60 words, containing only the essential facts, compromising on anything that is close to opinionating and storytelling.\"/>\\n  <meta name=\"twitter:app:country\" content=\"IN\"/>\\n  <meta name=\"twitter:app:name:iphone\" content=\"Inshorts - Stay Informed\"/>\\n  <meta name=\"twitter:app:id:iphone\" content=\"892146527\"/>\\n  <meta name=\"twitter:app:url:iphone\" content=\"nis://news\"/>\\n  <meta name=\"twitter:app:name:ipad\" content=\"Inshorts - Stay Informed\"/>\\n  <meta name=\"twitter:app:id:ipad\" content=\"892146527\"/>\\n  <meta name=\"twitter:app:url:ipad\" content=\"nis://news\"/>\\n  <meta name=\"twitter:app:name:googleplay\" content=\"Inshorts - Stay Informed\"/>\\n  <meta name=\"twitter:app:id:googleplay\" content=\"com.nis.app\"/>\\n  <meta name=\"twitter:app:url:googleplay\" content=\"nis://news\"/>\\n\\n  <meta name=\"description\" content=\"Read technology news in English in less that 60 words and get updated with all top news and current affairs related to mobile, internet and computer in a fast and easy way with inshorts.\"/>\\n  <link href=\"https://inshorts.com/en/read/technology\" rel=\"canonical\" />\\n  <link href=\"https://inshorts.com/en/read/technology\" rel=\"alternate\" reflang=\"en\" />\\n  <meta name=\"apple-itunes-app\" content=\"app-id=892146527\">\\n  <meta name=\"google-play-app\" content=\"app-id=com.nis.app\">\\n\\n  <title>Technology News: Moblie News, Computer News in English with Inshorts</title>\\n  <!-- CSS  -->\\n  <link href=\\'https://fonts.googleapis.com/css?family=Roboto\\' rel=\\'stylesheet\\' type=\\'text/css\\'>\\n  <link href=\"https://fonts.googleapis.com/icon?family=Material+Icons\" rel=\"stylesheet\">\\n  <link rel=\"stylesheet\" href=\"https://cdnjs.cloudflare.com/ajax/libs/materialize/0.97.1/css/materialize.min.css\">\\n  <link href=\\'https://fonts.googleapis.com/css?family=Hind:500,600,400&subset=latin,devanagari\\' rel=\\'stylesheet\\' type=\\'text/css\\'>\\n  <link href=\"/dist/styles/main.css\" type=\"text/css\" rel=\"stylesheet\" media=\"screen,projection\"/>\\n  <link href=\"/dist/styles/index.css\" type=\"text/css\" rel=\"stylesheet\" media=\"screen,projection\"/>\\n  <link href=\"/dist/styles/read.css\" type=\"text/css\" rel=\"stylesheet\" media=\"screen,projection\"/>\\n  <link href=\"/dist/styles/news-card.css\" type=\"text/css\" rel=\"stylesheet\" media=\"screen,projection\"/>\\n  <link rel=\"icon\" type=\"image/png\" href=\"https://assets.inshorts.com/website_assets/images/favicon.png\" />\\n  <link rel=\"manifest\" href=\"/dist/manifest.json\">\\n  <script async=\\'async\\' src=\\'https://www.googletagservices.com/tag/js/gpt.js\\'></script>\\n  <script>\\n    var googletag = googletag || {};\\n    googletag.cmd = googletag.cmd || [];\\n    let top_banner_slot;\\n  </script>\\n\\n  <!-- Top banner for desktop-->\\n  <script>\\n    googletag.cmd.push(function() {\\n      \\n      \\n        //Top banner for desktop\\n        top_banner_slot = googletag.defineSlot(\\'/142919096/inshorts_website_728x90\\', [728, 90], \\'div-gpt-ad-1536585015617-0\\')\\n        .addService(googletag.pubads())\\n        .setCollapseEmptyDiv(true,true);\\n      \\n\\n      googletag.pubads().disableInitialLoad();\\n      googletag.pubads().enableSingleRequest();\\n      googletag.enableServices();\\n    });\\n  </script>\\n\\n</head>\\n<script>\\n  (function(i,s,o,g,r,a,m){i[\\'GoogleAnalyticsObject\\']=r;i[r]=i[r]||function(){\\n  (i[r].q=i[r].q||[]).push(arguments)},i[r].l=1*new Date();a=s.createElement(o),\\n  m=s.getElementsByTagName(o)[0];a.async=1;a.src=g;m.parentNode.insertBefore(a,m)\\n  })(window,document,\\'script\\',\\'//www.google-analytics.com/analytics.js\\',\\'ga\\');\\n\\n  ga(\\'create\\', \\'UA-55157535-6\\', \\'auto\\');\\n  ga(\\'send\\', \\'pageview\\');  \\n</script>\\n\\n<body>\\n\\n\\n  <!-- Begin comScore Tag -->\\n  <script>\\n    var _comscore = _comscore || [];\\n    _comscore.push({ c1: \"2\", c2: \"28268321\" });\\n    (function() {\\n      var s = document.createElement(\"script\"), el = document.getElementsByTagName(\"script\")[0]; s.async = true;\\n      s.src = (document.location.protocol == \"https:\" ? \"https://sb\" : \"http://b\") + \".scorecardresearch.com/beacon.js\";\\n      el.parentNode.insertBefore(s, el);\\n    })();\\n  </script>\\n  <noscript>\\n    <img src=\"https://sb.scorecardresearch.com/p?c1=2&c2=28268321&cv=2.0&cj=1\" />\\n  </noscript>\\n  \\n  \\n  <!-- HEADER START -->\\n  <div class=\"header z-depth-1\">\\n    <div class=\"menu clickable\">\\n      <button class=\"c-hamburger c-hamburger--htx\" ><span>toggle menu</span></button><span class=\"unselectable\">Menu</span>\\n    </div>\\n    <!--\\n    <div class=\"search-wrapper hide-on-small-only\">\\n      <input class=\"search-box\" placeholder=\"Search\" id=\"search\"/>\\n      <i id=\"search_icon\" class=\"material-icons search-icon\">search</i>\\n      <div class=\"search-box-ul\">&nbsp;</div>\\n    </div>\\n    -->\\n    <a href=\"/\"><img src=\"https://assets.inshorts.com/website_assets/images/logo_inshorts.png\" class=\"logo\"/></a>\\n  </div>\\n  <!-- HEADER END -->\\n\\n  \\n<!--SIDEBAR START -->\\n    <div class=\"hide-on-med-and-up sidebar-bg\" style=\"display: none;\">&nbsp;</div>\\n    <div class=\"sidebar\" style=\"overflow-y: scroll;\">\\n      <div class=\"lang-bar\" style=\"\">\\n        <div class=\"lang-selector clickable\">\\n          <a href=\\'/en/read/technology\\'><div class=\"lang-en selected\">English</div></a>\\n          <a href=\\'/hi/read/technology\\'><div class=\"lang-hi \">\\xe0\\xa4\\xb9\\xe0\\xa4\\xbf\\xe0\\xa4\\xa8\\xe0\\xa5\\x8d\\xe0\\xa4\\xa6\\xe0\\xa5\\x80</div></a>\\n        </div>\\n      </div>\\n\\n      <div>\\n        <div class=\"category-header\">Categories</div>\\n        <ul class=\"category-list\">\\n\\n          <a onclick=\"ga(\\'send\\', {\\'hitType\\': \\'event\\', \\'eventCategory\\': \\'LinkToAllNews\\', \\'eventAction\\': \\'clicked\\', \\'eventLabel\\': \\'RedirectedToAllNews\\' });\" href=\\'/en/read\\'> <li class=\"active-category \" >All News</li> </a>\\n\\n\\n          <a onclick=\"ga(\\'send\\', {\\'hitType\\': \\'event\\', \\'eventCategory\\': \\'LinkToIndiaNews\\', \\'eventAction\\': \\'clicked\\', \\'eventLabel\\': \\'RedirectedToIndiaNews\\' });\" href=\\'/en/read/national\\'> <li class=\"active-category \">India</li> </a>\\n\\n          <a onclick=\"ga(\"send\", {\"hitType\": \"event\", \"eventCategory\": \"LinkToIndiaNews\", \"eventAction\": \"clicked\", \"eventLabel\":  \"RedirectedToIndiaNews\" });\"  href=\\'/en/read/business\\'> <li class=\"active-category \">Business</li> </a>\\n\\n          <a onclick=\"ga(\\'send\\', {\\'hitType\\': \\'event\\', \\'eventCategory\\': \\'LinkTosportsNews\\', \\'eventAction\\': \\'clicked\\', \\'eventLabel\\': \\'RedirectedToSportsNews\\' });\"  href=\\'/en/read/sports\\'> <li class=\"active-category \">Sports</li> </a>\\n          <a onclick=\"ga(\\'send\\', {\\'hitType\\': \\'event\\', \\'eventCategory\\': \\'LinkToworldNews\\', \\'eventAction\\': \\'clicked\\', \\'eventLabel\\': \\'RedirectedToworldNews\\' });\" href=\\'/en/read/world\\'> <li class=\"active-category \">World</li> </a>\\n\\n          <a onclick=\"ga(\\'send\\', {\\'hitType\\': \\'event\\', \\'eventCategory\\': \\'LinkToworldNews\\', \\'eventAction\\': \\'clicked\\',   \\'eventLabel\\': \\'RedirectedToworldNews\\' });\"  href=\\'/en/read/politics\\'> <li class=\"active-category \">Politics</li> </a>\\n          <a onclick=\"ga(\\'send\\', {\\'hitType\\': \\'event\\', \\'eventCategory\\': \\'LinkTotechnologyNews\\', \\'eventAction\\': \\'clicked\\', \\'eventLabel\\': \\'RedirectedTotechnologyNews\\' });\" href=\\'/en/read/technology\\'> <li class=\"active-category selected\">Technology</li> </a>\\n\\n          <a onclick=\"ga(\\'send\\', {\\'hitType\\': \\'event\\', \\'eventCategory\\': \\'LinkTostartupNews\\', \\'eventAction\\': \\'clicked\\', \\'eventLabel\\': \\'RedirectedTostartupNews\\' });\"  href=\\'/en/read/startup\\'> <li class=\"active-category \">Startup</li> </a>\\n\\n\\n          <a onclick=\"ga(\\'send\\', {\\'hitType\\': \\'event\\', \\'eventCategory\\': \\'LinkToEntertainmentNews\\', \\'eventAction\\': \\'clicked\\', \\'eventLabel\\': \\'RedirectedToEntertainmentNews\\' });\"  href=\\'/en/read/entertainment\\'> <li class=\"active-category \">Entertainment</li> </a>\\n\\n\\n          <a onclick=\"ga(\\'send\\', {\\'hitType\\': \\'event\\', \\'eventCategory\\': \\'LinkToMiscellaneousNews\\', \\'eventAction\\': \\'clicked\\', \\'eventLabel\\': \\'RedirectedToMiscellaneousNews\\' });\"  href=\\'/en/read/miscellaneous\\'> <li class=\"active-category \">Miscellaneous</li> </a>\\n\\n          <a onclick=\"ga(\\'send\\', {\\'hitType\\': \\'event\\', \\'eventCategory\\': \\'LinkTohatkeNews\\', \\'eventAction\\': \\'clicked\\', \\'eventLabel\\': \\'RedirectedTohatkeNews\\' });\"  href=\\'/en/read/hatke\\'> <li class=\"active-category \">Hatke</li> </a>\\n\\n          <a onclick=\"ga(\\'send\\', {\\'hitType\\': \\'event\\', \\'eventCategory\\': \\'LinkToscienceNews\\', \\'eventAction\\': \\'clicked\\', \\'eventLabel\\': \\'RedirectedToscienceNews\\' });\"  href=\\'/en/read/science\\'> <li class=\"active-category \">Science</li> </a>\\n\\n          <a onclick=\"ga(\\'send\\', {\\'hitType\\': \\'event\\', \\'eventCategory\\': \\'LinkToautomobileNews\\', \\'eventAction\\': \\'clicked\\', \\'eventLabel\\': \\'RedirectedToautomobileNews\\' });\"  href=\\'/en/read/automobile\\'> <li class=\"active-category \">Automobile</li> </a>\\n\\n        </ul>\\n      </div>\\n    </div>\\n<!--SIDEBAR END -->\\n\\n  <!-- BODY START -->\\n  <div class=\"container\" style=\"min-height:550px;\">\\n    <div class=\"row\" style=\"padding-top:110px;\">\\n      \\n        <div id=\\'div-gpt-ad-1536585015617-0\\' style=\\'height:90px; width:728px;margin: auto; margin-bottom: 1%;\\'>\\n          <script>\\n          googletag.cmd.push(function() { \\n            googletag.display(\\'div-gpt-ad-1536585015617-0\\'); \\n            googletag.pubads().refresh([top_banner_slot]);\\n          });\\n          </script>\\n        </div>\\n      \\n      \\n\\n      \\n      <div class=\"hide-on-med-and-down z-depth-1\" style=\"margin-left : auto;margin-right : auto;margin-bottom: 32px;width : 900px;height:48px;background: #f44336\">\\n        <div style=\"font-weight: 300;color:white !important;font-size:14px;margin-left: 48px;margin-top: 13px;position: absolute;display: block;\">\\n          For the best experience use <a target=\"_blank\" href=\"https://inshorts.com/mobile\" style=\"color:white;appearance: none;font-weight: 500;\">inshorts</a> app on your smartphone\\n        </div>\\n        \\n        <a onclick=\"ga(\\'send\\', {\\'hitType\\': \\'event\\', \\'eventCategory\\': \\'DownloadApp\\', \\'eventAction\\': \\'clicked\\', \\'eventLabel\\': \\'RedirectedToApplePlayStore\\' });\" target=\"_blank\"   href=\"https://itunes.apple.com/us/app/news-in-shorts/id892146527\"><img class=\"col l2 m2\" src=\"https://assets.inshorts.com/website_assets/images/appstore.png\" style=\"margin-top:5px;margin-left:550px;\"/></a>\\n        \\n        \\n        <a  onclick=\"ga(\\'send\\', {\\'hitType\\': \\'event\\', \\'eventCategory\\': \\'DownloadApp\\', \\'eventAction\\': \\'clicked\\', \\'eventLabel\\': \\'RedirectedToGooglePlayStore\\' });\" target=\"_blank\" href=\"https://play.google.com/store/apps/details?id=com.nis.app&referrer=utm_source%3DNews%2520In%2520Shorts%2520Website\"><img style=\"margin-top:5px;\" class=\"col l2 m2\" src=\"https://assets.inshorts.com/website_assets/images/playstore.png\"/></a>\\n        \\n      </div>\\n      \\n      <div class=\"card-stack\">\\n        \\n\\n\\n\\n\\n\\n<div class=\"\">\\n<div class=\"news-card z-depth-1\" itemscope itemtype=\"http://schema.org/NewsArticle\">\\n  <span content=\"\" itemscope itemprop=\"mainEntityOfPage\" itemType=\"https://schema.org/WebPage\" itemid=\"https://inshorts.com/en/news/huawei-promises-to-reinvent-smartphone-photography-with-p30-pro-1553681062766\"></span>\\n  <span itemtype=\"https://schema.org/Person\" itemscope=\"itemscope\" itemprop=\"author\">\\n    <span itemprop=\"name\" content=\"Roshan Gupta\"></span>\\n  </span>\\n  <span itemprop=\"description\" content=\"Huawei promises to reinvent smartphone photography with P30 Pro\"></span>\\n  <span itemprop=\"image\" itemscope itemtype=\"https://schema.org/ImageObject\">\\n    <meta itemprop=\"url\" content=\"https://assets.inshorts.com/inshorts/images/v1/variants/jpg/m/2019/03_mar/27_wed/img_1553680944867_876.jpg\"></meta>\\n    <meta itemprop=\"width\" content=\"864\"></meta>\\n    <meta itemprop=\"height\" content=\"483\"></meta>\\n  </span>\\n  <span itemtype=\"https://schema.org/Organization\" itemscope=\"itemscope\" itemprop=\"publisher\">\\n    <span itemprop=\"url\" content=\"https://inshorts.com/\"></span>\\n    <span itemprop=\"name\" content=\"Inshorts\"></span>\\n    <span itemprop=\"logo\" itemscope itemtype=\"https://schema.org/ImageObject\">\\n      <span itemprop=\"url\" content=\"https://assets.inshorts.com/inshorts/images/v1/variants/jpg/m/2018/11_nov/21_wed/img_1542823931298_497.jpg\"></span>\\n      <meta itemprop=\"width\" content=\"400\"></meta>\\n      <meta itemprop=\"height\" content=\"60\"></meta>\\n    </span>\\n  </span>\\n  <div class=\"news-card-image\" style= \"background-image: url(\\'https://assets.inshorts.com/inshorts/images/v1/variants/jpg/m/2019/03_mar/27_wed/img_1553680944867_876.jpg?resize=400px:*\\')\">\\n  </div>\\n  <div class=\"news-card-title news-right-box\">\\n    <a class=\"clickable\" onclick=\"ga(\\'send\\', {\\'hitType\\': \\'event\\', \\'eventCategory\\': \\'TitleOfNews\\', \\'eventAction\\': \\'clicked\\', \\'eventLabel\\': \\'Huawei%20promises%20to%20reinvent%20smartphone%20photography%20with%20P30%20Pro)\\' });\"  style=\"color:#44444d!important\" href=\"/en/news/huawei-promises-to-reinvent-smartphone-photography-with-p30-pro-1553681062766\">\\n      <span itemprop=\"headline\">Huawei promises to reinvent smartphone photography with P30 Pro</span>\\n    </a>\\n    <div class=\"news-card-author-time news-card-author-time-in-title\">\\n      <a href=\"/prev/en/news/huawei-promises-to-reinvent-smartphone-photography-with-p30-pro-1553681062766\"><span class=\"short\">short</span></a> by <span class=\"author\">Roshan Gupta</span> / \\n      <span class=\"time\" itemprop=\"datePublished\" content=\"2019-03-27T10:04:22.000Z\">03:34 pm</span> on <span clas=\"date\">27 Mar 2019,Wednesday</span>\\n    </div>\\n  </div>\\n  <div class=\"news-card-content news-right-box\">\\n    <div itemprop=\"articleBody\">Huawei P30 Pro launched in Paris today with a promise to revolutionize smartphone photography. It offers cameras with SuperSpectrum Sensor, an extreme optical SuperZoom lens, a new Time of Flight (TOF) camera, better OIS and AIS image stabilization technology. Seeking to uphold its legacy of innovation, Huawei&#39;s P30 Pro is packed with consumer-centric technology, previously unheard of in the industry.</div>\\n    <div class=\"news-card-author-time news-card-author-time-in-content\">\\n      <a href=\"/prev/en/news/huawei-promises-to-reinvent-smartphone-photography-with-p30-pro-1553681062766\"><span class=\"short\">short</span></a> by <span class=\"author\">Roshan Gupta</span> / \\n      <span class=\"time\" itemprop=\"dateModified\" content=\"2019-03-27T10:04:22.000Z\" >03:34 pm</span> on <span class=\"date\">27 Mar</span>\\n    </div>\\n  </div>\\n  \\n    <div class=\"news-card-footer news-right-box\">\\n      <div class=\"read-more\">read more at <a class=\"source\" onclick=\"ga(\\'send\\', {\\'hitType\\': \\'event\\', \\'eventCategory\\': \\'ReadMore\\', \\'eventAction\\': \\'clicked\\', \\'eventLabel\\': \\'amazon.in\\' });\" target=\"_blank\" href=\"https://www.amazon.in/b?node=16406472031 \">amazon.in</a></div>\\n    </div>\\n  \\n\\n</div>\\n\\n  \\n</div>\\n\\n\\n\\n\\n<div class=\"\">\\n<div class=\"news-card z-depth-1\" itemscope itemtype=\"http://schema.org/NewsArticle\">\\n  <span content=\"\" itemscope itemprop=\"mainEntityOfPage\" itemType=\"https://schema.org/WebPage\" itemid=\"https://inshorts.com/en/news/facebook-google-scientists-win-$1mn-turing-award-for-developing-ai-1553706818164\"></span>\\n  <span itemtype=\"https://schema.org/Person\" itemscope=\"itemscope\" itemprop=\"author\">\\n    <span itemprop=\"name\" content=\"Gaurav Shroff\"></span>\\n  </span>\\n  <span itemprop=\"description\" content=\"Facebook, Google scientists win $1mn Turing Award for developing AI\"></span>\\n  <span itemprop=\"image\" itemscope itemtype=\"https://schema.org/ImageObject\">\\n    <meta itemprop=\"url\" content=\"https://assets.inshorts.com/inshorts/images/v1/variants/jpg/m/2019/03_mar/27_wed/img_1553705488711_807.jpg\"></meta>\\n    <meta itemprop=\"width\" content=\"864\"></meta>\\n    <meta itemprop=\"height\" content=\"483\"></meta>\\n  </span>\\n  <span itemtype=\"https://schema.org/Organization\" itemscope=\"itemscope\" itemprop=\"publisher\">\\n    <span itemprop=\"url\" content=\"https://inshorts.com/\"></span>\\n    <span itemprop=\"name\" content=\"Inshorts\"></span>\\n    <span itemprop=\"logo\" itemscope itemtype=\"https://schema.org/ImageObject\">\\n      <span itemprop=\"url\" content=\"https://assets.inshorts.com/inshorts/images/v1/variants/jpg/m/2018/11_nov/21_wed/img_1542823931298_497.jpg\"></span>\\n      <meta itemprop=\"width\" content=\"400\"></meta>\\n      <meta itemprop=\"height\" content=\"60\"></meta>\\n    </span>\\n  </span>\\n  <div class=\"news-card-image\" style= \"background-image: url(\\'https://assets.inshorts.com/inshorts/images/v1/variants/jpg/m/2019/03_mar/27_wed/img_1553705488711_807.jpg?resize=400px:*\\')\">\\n  </div>\\n  <div class=\"news-card-title news-right-box\">\\n    <a class=\"clickable\" onclick=\"ga(\\'send\\', {\\'hitType\\': \\'event\\', \\'eventCategory\\': \\'TitleOfNews\\', \\'eventAction\\': \\'clicked\\', \\'eventLabel\\': \\'Facebook%2C%20Google%20scientists%20win%20%241mn%20Turing%20Award%20for%20developing%20AI)\\' });\"  style=\"color:#44444d!important\" href=\"/en/news/facebook-google-scientists-win-$1mn-turing-award-for-developing-ai-1553706818164\">\\n      <span itemprop=\"headline\">Facebook, Google scientists win $1mn Turing Award for developing AI</span>\\n    </a>\\n    <div class=\"news-card-author-time news-card-author-time-in-title\">\\n      <a href=\"/prev/en/news/facebook-google-scientists-win-$1mn-turing-award-for-developing-ai-1553706818164\"><span class=\"short\">short</span></a> by <span class=\"author\">Gaurav Shroff</span> / \\n      <span class=\"time\" itemprop=\"datePublished\" content=\"2019-03-27T17:13:38.000Z\">10:43 pm</span> on <span clas=\"date\">27 Mar 2019,Wednesday</span>\\n    </div>\\n  </div>\\n  <div class=\"news-card-content news-right-box\">\\n    <div itemprop=\"articleBody\">Three scientists dubbed the &#34;Godfathers of AI&#34; have won the 2018 Turing Award, which carries a $1-million prize funded by Google. The trio are Facebook Chief AI Scientist Yann LeCun, Google researcher Geoffrey Hinton and Yoshua Bengio from University of Montreal. The scientists have worked for over 30 years on neural networks that power tasks like facial and speech recognition.</div>\\n    <div class=\"news-card-author-time news-card-author-time-in-content\">\\n      <a href=\"/prev/en/news/facebook-google-scientists-win-$1mn-turing-award-for-developing-ai-1553706818164\"><span class=\"short\">short</span></a> by <span class=\"author\">Gaurav Shroff</span> / \\n      <span class=\"time\" itemprop=\"dateModified\" content=\"2019-03-27T17:13:38.000Z\" >10:43 pm</span> on <span class=\"date\">27 Mar</span>\\n    </div>\\n  </div>\\n  \\n    <div class=\"news-card-footer news-right-box\">\\n      <div class=\"read-more\">read more at <a class=\"source\" onclick=\"ga(\\'send\\', {\\'hitType\\': \\'event\\', \\'eventCategory\\': \\'ReadMore\\', \\'eventAction\\': \\'clicked\\', \\'eventLabel\\': \\'Hindustan%20Times\\' });\" target=\"_blank\" href=\"https://www.hindustantimes.com/tech/the-godfathers-of-ai-win-tech-s-nobel-prize/story-FCHi2rIaOOVLv3kMlfa66H.html?utm_campaign=fullarticle&amp;utm_medium=referral&amp;utm_source=inshorts \">Hindustan Times</a></div>\\n    </div>\\n  \\n\\n</div>\\n\\n  \\n</div>\\n\\n\\n\\n\\n<div class=\"\">\\n<div class=\"news-card z-depth-1\" itemscope itemtype=\"http://schema.org/NewsArticle\">\\n  <span content=\"\" itemscope itemprop=\"mainEntityOfPage\" itemType=\"https://schema.org/WebPage\" itemid=\"https://inshorts.com/en/news/hyd-mans-smartphone-bought-2-days-ago-explodes-in-his-pocket-1553681287689\"></span>\\n  <span itemtype=\"https://schema.org/Person\" itemscope=\"itemscope\" itemprop=\"author\">\\n    <span itemprop=\"name\" content=\"Arshiya Chopra\"></span>\\n  </span>\\n  <span itemprop=\"description\" content=\"Hyd man&#39;s smartphone, bought 2 days ago, explodes in his pocket\"></span>\\n  <span itemprop=\"image\" itemscope itemtype=\"https://schema.org/ImageObject\">\\n    <meta itemprop=\"url\" content=\"https://assets.inshorts.com/inshorts/images/v1/variants/jpg/m/2019/03_mar/27_wed/img_1553656379271_357.jpg\"></meta>\\n    <meta itemprop=\"width\" content=\"864\"></meta>\\n    <meta itemprop=\"height\" content=\"483\"></meta>\\n  </span>\\n  <span itemtype=\"https://schema.org/Organization\" itemscope=\"itemscope\" itemprop=\"publisher\">\\n    <span itemprop=\"url\" content=\"https://inshorts.com/\"></span>\\n    <span itemprop=\"name\" content=\"Inshorts\"></span>\\n    <span itemprop=\"logo\" itemscope itemtype=\"https://schema.org/ImageObject\">\\n      <span itemprop=\"url\" content=\"https://assets.inshorts.com/inshorts/images/v1/variants/jpg/m/2018/11_nov/21_wed/img_1542823931298_497.jpg\"></span>\\n      <meta itemprop=\"width\" content=\"400\"></meta>\\n      <meta itemprop=\"height\" content=\"60\"></meta>\\n    </span>\\n  </span>\\n  <div class=\"news-card-image\" style= \"background-image: url(\\'https://assets.inshorts.com/inshorts/images/v1/variants/jpg/m/2019/03_mar/27_wed/img_1553656379271_357.jpg?resize=400px:*\\')\">\\n  </div>\\n  <div class=\"news-card-title news-right-box\">\\n    <a class=\"clickable\" onclick=\"ga(\\'send\\', {\\'hitType\\': \\'event\\', \\'eventCategory\\': \\'TitleOfNews\\', \\'eventAction\\': \\'clicked\\', \\'eventLabel\\': \\'Hyd%20man&#39;s%20smartphone%2C%20bought%202%20days%20ago%2C%20explodes%20in%20his%20pocket)\\' });\"  style=\"color:#44444d!important\" href=\"/en/news/hyd-mans-smartphone-bought-2-days-ago-explodes-in-his-pocket-1553681287689\">\\n      <span itemprop=\"headline\">Hyd man&#39;s smartphone, bought 2 days ago, explodes in his pocket</span>\\n    </a>\\n    <div class=\"news-card-author-time news-card-author-time-in-title\">\\n      <a href=\"/prev/en/news/hyd-mans-smartphone-bought-2-days-ago-explodes-in-his-pocket-1553681287689\"><span class=\"short\">short</span></a> by <span class=\"author\">Arshiya Chopra</span> / \\n      <span class=\"time\" itemprop=\"datePublished\" content=\"2019-03-27T10:08:07.000Z\">03:38 pm</span> on <span clas=\"date\">27 Mar 2019,Wednesday</span>\\n    </div>\\n  </div>\\n  <div class=\"news-card-content news-right-box\">\\n    <div itemprop=\"articleBody\">A 25-year-old man&#39;s Oppo A5 exploded in his pocket while he was riding a two-wheeler in Hyderabad. The man received burn injuries and injuries on forehead and eyes as he fell after losing balance of the vehicle due to the blast. A relative of the victim informed that the phone was purchased just two days before the incident.</div>\\n    <div class=\"news-card-author-time news-card-author-time-in-content\">\\n      <a href=\"/prev/en/news/hyd-mans-smartphone-bought-2-days-ago-explodes-in-his-pocket-1553681287689\"><span class=\"short\">short</span></a> by <span class=\"author\">Arshiya Chopra</span> / \\n      <span class=\"time\" itemprop=\"dateModified\" content=\"2019-03-27T10:08:07.000Z\" >03:38 pm</span> on <span class=\"date\">27 Mar</span>\\n    </div>\\n  </div>\\n  \\n    <div class=\"news-card-footer news-right-box\">\\n      <div class=\"read-more\">read more at <a class=\"source\" onclick=\"ga(\\'send\\', {\\'hitType\\': \\'event\\', \\'eventCategory\\': \\'ReadMore\\', \\'eventAction\\': \\'clicked\\', \\'eventLabel\\': \\'The%20Siasat%20Daily\\' });\" target=\"_blank\" href=\"https://www.siasat.com/news/hyderabad-mobile-phone-explodes-mans-pocket-1481067/?utm_campaign=fullarticle&amp;utm_medium=referral&amp;utm_source=inshorts \">The Siasat Daily</a></div>\\n    </div>\\n  \\n\\n</div>\\n\\n  \\n</div>\\n\\n\\n\\n\\n<div class=\"\">\\n<div class=\"news-card z-depth-1\" itemscope itemtype=\"http://schema.org/NewsArticle\">\\n  <span content=\"\" itemscope itemprop=\"mainEntityOfPage\" itemType=\"https://schema.org/WebPage\" itemid=\"https://inshorts.com/en/news/what-software-update-has-boeing-proposed-after-two-737-max-crashes-1553770585551\"></span>\\n  <span itemtype=\"https://schema.org/Person\" itemscope=\"itemscope\" itemprop=\"author\">\\n    <span itemprop=\"name\" content=\"Gaurav Shroff\"></span>\\n  </span>\\n  <span itemprop=\"description\" content=\"What software update has Boeing proposed after two 737 MAX crashes?\"></span>\\n  <span itemprop=\"image\" itemscope itemtype=\"https://schema.org/ImageObject\">\\n    <meta itemprop=\"url\" content=\"https://assets.inshorts.com/inshorts/images/v1/variants/jpg/m/2019/03_mar/28_thu/img_1553766121395_222.jpg\"></meta>\\n    <meta itemprop=\"width\" content=\"864\"></meta>\\n    <meta itemprop=\"height\" content=\"483\"></meta>\\n  </span>\\n  <span itemtype=\"https://schema.org/Organization\" itemscope=\"itemscope\" itemprop=\"publisher\">\\n    <span itemprop=\"url\" content=\"https://inshorts.com/\"></span>\\n    <span itemprop=\"name\" content=\"Inshorts\"></span>\\n    <span itemprop=\"logo\" itemscope itemtype=\"https://schema.org/ImageObject\">\\n      <span itemprop=\"url\" content=\"https://assets.inshorts.com/inshorts/images/v1/variants/jpg/m/2018/11_nov/21_wed/img_1542823931298_497.jpg\"></span>\\n      <meta itemprop=\"width\" content=\"400\"></meta>\\n      <meta itemprop=\"height\" content=\"60\"></meta>\\n    </span>\\n  </span>\\n  <div class=\"news-card-image\" style= \"background-image: url(\\'https://assets.inshorts.com/inshorts/images/v1/variants/jpg/m/2019/03_mar/28_thu/img_1553766121395_222.jpg?resize=400px:*\\')\">\\n  </div>\\n  <div class=\"news-card-title news-right-box\">\\n    <a class=\"clickable\" onclick=\"ga(\\'send\\', {\\'hitType\\': \\'event\\', \\'eventCategory\\': \\'TitleOfNews\\', \\'eventAction\\': \\'clicked\\', \\'eventLabel\\': \\'What%20software%20update%20has%20Boeing%20proposed%20after%20two%20737%20MAX%20crashes%3F)\\' });\"  style=\"color:#44444d!important\" href=\"/en/news/what-software-update-has-boeing-proposed-after-two-737-max-crashes-1553770585551\">\\n      <span itemprop=\"headline\">What software update has Boeing proposed after two 737 MAX crashes?</span>\\n    </a>\\n    <div class=\"news-card-author-time news-card-author-time-in-title\">\\n      <a href=\"/prev/en/news/what-software-update-has-boeing-proposed-after-two-737-max-crashes-1553770585551\"><span class=\"short\">short</span></a> by <span class=\"author\">Gaurav Shroff</span> / \\n      <span class=\"time\" itemprop=\"datePublished\" content=\"2019-03-28T10:56:25.000Z\">04:26 pm</span> on <span clas=\"date\">28 Mar 2019,Thursday</span>\\n    </div>\\n  </div>\\n  <div class=\"news-card-content news-right-box\">\\n    <div itemprop=\"articleBody\">Boeing said it has reprogrammed software on its 737 MAX aircraft to prevent erroneous data from triggering an anti-stall system, that likely caused the two nose-down crashes, killing 346 people. Awaiting US aviation regulator nod, the system would compare data from both of the angle-of-attack sensors, rather than relying on one, and will give pilots more control of the aircraft.</div>\\n    <div class=\"news-card-author-time news-card-author-time-in-content\">\\n      <a href=\"/prev/en/news/what-software-update-has-boeing-proposed-after-two-737-max-crashes-1553770585551\"><span class=\"short\">short</span></a> by <span class=\"author\">Gaurav Shroff</span> / \\n      <span class=\"time\" itemprop=\"dateModified\" content=\"2019-03-28T10:56:25.000Z\" >04:26 pm</span> on <span class=\"date\">28 Mar</span>\\n    </div>\\n  </div>\\n  \\n    <div class=\"news-card-footer news-right-box\">\\n      <div class=\"read-more\">read more at <a class=\"source\" onclick=\"ga(\\'send\\', {\\'hitType\\': \\'event\\', \\'eventCategory\\': \\'ReadMore\\', \\'eventAction\\': \\'clicked\\', \\'eventLabel\\': \\'Livemint\\' });\" target=\"_blank\" href=\"https://www.livemint.com/news/world/boeing-unveils-737-max-software-fix-after-fatal-crashes-1553714451299.html?utm_campaign=fullarticle&amp;utm_medium=referral&amp;utm_source=inshorts \">Livemint</a></div>\\n    </div>\\n  \\n\\n</div>\\n\\n  \\n</div>\\n\\n\\n\\n\\n  \\n    <div id=\\'div-gpt-ad-1536748319959-atddywxe-1\\' style=\\'height:250px; width:900px; margin: auto; margin-bottom: 2%;\\'>\\n      <script>\\n        googletag.cmd.push(function() { \\n          //News banner for desktop\\n          var slotIdWeb = \\'div-gpt-ad-1536748319959-atddywxe-1\\';\\n          var slot = googletag.defineSlot(\\'/142919096/inshorts_website_900x250\\', [900, 250], slotIdWeb)\\n          .addService(googletag.pubads())\\n          .setCollapseEmptyDiv(true,true);\\n\\n          googletag.display(\\'div-gpt-ad-1536748319959-atddywxe-1\\');\\n          googletag.pubads().refresh([slot]);\\n        });\\n      </script>\\n    </div>\\n  \\n\\n<div class=\"\">\\n<div class=\"news-card z-depth-1\" itemscope itemtype=\"http://schema.org/NewsArticle\">\\n  <span content=\"\" itemscope itemprop=\"mainEntityOfPage\" itemType=\"https://schema.org/WebPage\" itemid=\"https://inshorts.com/en/news/tesla-says-it-built-asias-largest-energy-storage-system-in-2-days-1553708684915\"></span>\\n  <span itemtype=\"https://schema.org/Person\" itemscope=\"itemscope\" itemprop=\"author\">\\n    <span itemprop=\"name\" content=\"Gaurav Shroff\"></span>\\n  </span>\\n  <span itemprop=\"description\" content=\"Tesla says it built Asia&#39;s largest energy storage system in 2 days\"></span>\\n  <span itemprop=\"image\" itemscope itemtype=\"https://schema.org/ImageObject\">\\n    <meta itemprop=\"url\" content=\"https://assets.inshorts.com/inshorts/images/v1/variants/jpg/m/2019/03_mar/27_wed/img_1553703442425_504.jpg\"></meta>\\n    <meta itemprop=\"width\" content=\"864\"></meta>\\n    <meta itemprop=\"height\" content=\"483\"></meta>\\n  </span>\\n  <span itemtype=\"https://schema.org/Organization\" itemscope=\"itemscope\" itemprop=\"publisher\">\\n    <span itemprop=\"url\" content=\"https://inshorts.com/\"></span>\\n    <span itemprop=\"name\" content=\"Inshorts\"></span>\\n    <span itemprop=\"logo\" itemscope itemtype=\"https://schema.org/ImageObject\">\\n      <span itemprop=\"url\" content=\"https://assets.inshorts.com/inshorts/images/v1/variants/jpg/m/2018/11_nov/21_wed/img_1542823931298_497.jpg\"></span>\\n      <meta itemprop=\"width\" content=\"400\"></meta>\\n      <meta itemprop=\"height\" content=\"60\"></meta>\\n    </span>\\n  </span>\\n  <div class=\"news-card-image\" style= \"background-image: url(\\'https://assets.inshorts.com/inshorts/images/v1/variants/jpg/m/2019/03_mar/27_wed/img_1553703442425_504.jpg?resize=400px:*\\')\">\\n  </div>\\n  <div class=\"news-card-title news-right-box\">\\n    <a class=\"clickable\" onclick=\"ga(\\'send\\', {\\'hitType\\': \\'event\\', \\'eventCategory\\': \\'TitleOfNews\\', \\'eventAction\\': \\'clicked\\', \\'eventLabel\\': \\'Tesla%20says%20it%20built%20Asia&#39;s%20largest%20energy%20storage%20system%20in%202%20days)\\' });\"  style=\"color:#44444d!important\" href=\"/en/news/tesla-says-it-built-asias-largest-energy-storage-system-in-2-days-1553708684915\">\\n      <span itemprop=\"headline\">Tesla says it built Asia&#39;s largest energy storage system in 2 days</span>\\n    </a>\\n    <div class=\"news-card-author-time news-card-author-time-in-title\">\\n      <a href=\"/prev/en/news/tesla-says-it-built-asias-largest-energy-storage-system-in-2-days-1553708684915\"><span class=\"short\">short</span></a> by <span class=\"author\">Gaurav Shroff</span> / \\n      <span class=\"time\" itemprop=\"datePublished\" content=\"2019-03-27T17:44:44.000Z\">11:14 pm</span> on <span clas=\"date\">27 Mar 2019,Wednesday</span>\\n    </div>\\n  </div>\\n  <div class=\"news-card-content news-right-box\">\\n    <div itemprop=\"articleBody\">Elon Musk-led Tesla said it has built Asia&#39;s largest energy storage system at Osaka train station in Japan. The 7 MWh system with 42 Powerpack battery units can provide energy to move a train and its passengers for up to 30 minutes to the nearest station during a power failure, Tesla said, adding its hardware was installed in two days.</div>\\n    <div class=\"news-card-author-time news-card-author-time-in-content\">\\n      <a href=\"/prev/en/news/tesla-says-it-built-asias-largest-energy-storage-system-in-2-days-1553708684915\"><span class=\"short\">short</span></a> by <span class=\"author\">Gaurav Shroff</span> / \\n      <span class=\"time\" itemprop=\"dateModified\" content=\"2019-03-27T17:44:44.000Z\" >11:14 pm</span> on <span class=\"date\">27 Mar</span>\\n    </div>\\n  </div>\\n  \\n    <div class=\"news-card-footer news-right-box\">\\n      <div class=\"read-more\">read more at <a class=\"source\" onclick=\"ga(\\'send\\', {\\'hitType\\': \\'event\\', \\'eventCategory\\': \\'ReadMore\\', \\'eventAction\\': \\'clicked\\', \\'eventLabel\\': \\'Engadget\\' });\" target=\"_blank\" href=\"https://www.engadget.com/2019/03/27/tesla-osaka-station-powerpack-asia-largest-energy/?utm_campaign=fullarticle&amp;utm_medium=referral&amp;utm_source=inshorts \">Engadget</a></div>\\n    </div>\\n  \\n\\n</div>\\n\\n  \\n</div>\\n\\n\\n\\n\\n<div class=\"\">\\n<div class=\"news-card z-depth-1\" itemscope itemtype=\"http://schema.org/NewsArticle\">\\n  <span content=\"\" itemscope itemprop=\"mainEntityOfPage\" itemType=\"https://schema.org/WebPage\" itemid=\"https://inshorts.com/en/news/facebook-mentions-kashmir-as-separate-country-in-blog-apologises-1553775389398\"></span>\\n  <span itemtype=\"https://schema.org/Person\" itemscope=\"itemscope\" itemprop=\"author\">\\n    <span itemprop=\"name\" content=\"Gaurav Shroff\"></span>\\n  </span>\\n  <span itemprop=\"description\" content=\"Facebook mentions Kashmir as separate country in blog, apologises\"></span>\\n  <span itemprop=\"image\" itemscope itemtype=\"https://schema.org/ImageObject\">\\n    <meta itemprop=\"url\" content=\"https://assets.inshorts.com/inshorts/images/v1/variants/jpg/m/2019/03_mar/28_thu/img_1553773636368_899.jpg\"></meta>\\n    <meta itemprop=\"width\" content=\"864\"></meta>\\n    <meta itemprop=\"height\" content=\"483\"></meta>\\n  </span>\\n  <span itemtype=\"https://schema.org/Organization\" itemscope=\"itemscope\" itemprop=\"publisher\">\\n    <span itemprop=\"url\" content=\"https://inshorts.com/\"></span>\\n    <span itemprop=\"name\" content=\"Inshorts\"></span>\\n    <span itemprop=\"logo\" itemscope itemtype=\"https://schema.org/ImageObject\">\\n      <span itemprop=\"url\" content=\"https://assets.inshorts.com/inshorts/images/v1/variants/jpg/m/2018/11_nov/21_wed/img_1542823931298_497.jpg\"></span>\\n      <meta itemprop=\"width\" content=\"400\"></meta>\\n      <meta itemprop=\"height\" content=\"60\"></meta>\\n    </span>\\n  </span>\\n  <div class=\"news-card-image\" style= \"background-image: url(\\'https://assets.inshorts.com/inshorts/images/v1/variants/jpg/m/2019/03_mar/28_thu/img_1553773636368_899.jpg?resize=400px:*\\')\">\\n  </div>\\n  <div class=\"news-card-title news-right-box\">\\n    <a class=\"clickable\" onclick=\"ga(\\'send\\', {\\'hitType\\': \\'event\\', \\'eventCategory\\': \\'TitleOfNews\\', \\'eventAction\\': \\'clicked\\', \\'eventLabel\\': \\'Facebook%20mentions%20Kashmir%20as%20separate%20country%20in%20blog%2C%20apologises)\\' });\"  style=\"color:#44444d!important\" href=\"/en/news/facebook-mentions-kashmir-as-separate-country-in-blog-apologises-1553775389398\">\\n      <span itemprop=\"headline\">Facebook mentions Kashmir as separate country in blog, apologises</span>\\n    </a>\\n    <div class=\"news-card-author-time news-card-author-time-in-title\">\\n      <a href=\"/prev/en/news/facebook-mentions-kashmir-as-separate-country-in-blog-apologises-1553775389398\"><span class=\"short\">short</span></a> by <span class=\"author\">Gaurav Shroff</span> / \\n      <span class=\"time\" itemprop=\"datePublished\" content=\"2019-03-28T12:16:29.000Z\">05:46 pm</span> on <span clas=\"date\">28 Mar 2019,Thursday</span>\\n    </div>\\n  </div>\\n  <div class=\"news-card-content news-right-box\">\\n    <div itemprop=\"articleBody\">Facebook has apologised for naming Kashmir as a separate country in a blog post that mentioned countries targeted by an Iranian network and said it has removed the reference. Earlier, Facebook said it removed 513 Iran-linked pages, groups and accounts for &#34;coordinated inauthentic&#34; behaviour. The blog stated the page admins were using fake accounts to impersonate media and political organisations.</div>\\n    <div class=\"news-card-author-time news-card-author-time-in-content\">\\n      <a href=\"/prev/en/news/facebook-mentions-kashmir-as-separate-country-in-blog-apologises-1553775389398\"><span class=\"short\">short</span></a> by <span class=\"author\">Gaurav Shroff</span> / \\n      <span class=\"time\" itemprop=\"dateModified\" content=\"2019-03-28T12:16:29.000Z\" >05:46 pm</span> on <span class=\"date\">28 Mar</span>\\n    </div>\\n  </div>\\n  \\n    <div class=\"news-card-footer news-right-box\">\\n      <div class=\"read-more\">read more at <a class=\"source\" onclick=\"ga(\\'send\\', {\\'hitType\\': \\'event\\', \\'eventCategory\\': \\'ReadMore\\', \\'eventAction\\': \\'clicked\\', \\'eventLabel\\': \\'The%20Quint\\' });\" target=\"_blank\" href=\"https://www.thequint.com/tech-and-auto/facebook-mentions-kashmir-as-separate-country-in-blog-corrects-it?utm_campaign=fullarticle&amp;utm_medium=referral&amp;utm_source=inshorts \">The Quint</a></div>\\n    </div>\\n  \\n\\n</div>\\n\\n  \\n</div>\\n\\n\\n\\n\\n<div class=\"\">\\n<div class=\"news-card z-depth-1\" itemscope itemtype=\"http://schema.org/NewsArticle\">\\n  <span content=\"\" itemscope itemprop=\"mainEntityOfPage\" itemType=\"https://schema.org/WebPage\" itemid=\"https://inshorts.com/en/news/googles-pichai-said-hes-committed-to-us-military-not-china-trump-1553764948162\"></span>\\n  <span itemtype=\"https://schema.org/Person\" itemscope=\"itemscope\" itemprop=\"author\">\\n    <span itemprop=\"name\" content=\"Gaurav Shroff\"></span>\\n  </span>\\n  <span itemprop=\"description\" content=\"Google&#39;s Pichai said he&#39;s committed to US military, not China: Trump\"></span>\\n  <span itemprop=\"image\" itemscope itemtype=\"https://schema.org/ImageObject\">\\n    <meta itemprop=\"url\" content=\"https://assets.inshorts.com/inshorts/images/v1/variants/jpg/m/2019/03_mar/28_thu/img_1553764018301_901.jpg\"></meta>\\n    <meta itemprop=\"width\" content=\"864\"></meta>\\n    <meta itemprop=\"height\" content=\"483\"></meta>\\n  </span>\\n  <span itemtype=\"https://schema.org/Organization\" itemscope=\"itemscope\" itemprop=\"publisher\">\\n    <span itemprop=\"url\" content=\"https://inshorts.com/\"></span>\\n    <span itemprop=\"name\" content=\"Inshorts\"></span>\\n    <span itemprop=\"logo\" itemscope itemtype=\"https://schema.org/ImageObject\">\\n      <span itemprop=\"url\" content=\"https://assets.inshorts.com/inshorts/images/v1/variants/jpg/m/2018/11_nov/21_wed/img_1542823931298_497.jpg\"></span>\\n      <meta itemprop=\"width\" content=\"400\"></meta>\\n      <meta itemprop=\"height\" content=\"60\"></meta>\\n    </span>\\n  </span>\\n  <div class=\"news-card-image\" style= \"background-image: url(\\'https://assets.inshorts.com/inshorts/images/v1/variants/jpg/m/2019/03_mar/28_thu/img_1553764018301_901.jpg?resize=400px:*\\')\">\\n  </div>\\n  <div class=\"news-card-title news-right-box\">\\n    <a class=\"clickable\" onclick=\"ga(\\'send\\', {\\'hitType\\': \\'event\\', \\'eventCategory\\': \\'TitleOfNews\\', \\'eventAction\\': \\'clicked\\', \\'eventLabel\\': \\'Google&#39;s%20Pichai%20said%20he&#39;s%20committed%20to%20US%20military%2C%20not%20China%3A%20Trump)\\' });\"  style=\"color:#44444d!important\" href=\"/en/news/googles-pichai-said-hes-committed-to-us-military-not-china-trump-1553764948162\">\\n      <span itemprop=\"headline\">Google&#39;s Pichai said he&#39;s committed to US military, not China: Trump</span>\\n    </a>\\n    <div class=\"news-card-author-time news-card-author-time-in-title\">\\n      <a href=\"/prev/en/news/googles-pichai-said-hes-committed-to-us-military-not-china-trump-1553764948162\"><span class=\"short\">short</span></a> by <span class=\"author\">Gaurav Shroff</span> / \\n      <span class=\"time\" itemprop=\"datePublished\" content=\"2019-03-28T09:22:28.000Z\">02:52 pm</span> on <span clas=\"date\">28 Mar 2019,Thursday</span>\\n    </div>\\n  </div>\\n  <div class=\"news-card-content news-right-box\">\\n    <div itemprop=\"articleBody\">Following a meeting with Google CEO Sundar Pichai, US President Donald Trump tweeted, &#34;Pichai stated strongly he is totally committed to the US Military, not the Chinese Military&#34;. Trump said they also discussed political fairness and various things Google can do for the US. Earlier this month, Trump alleged Google&#39;s business activities in China were &#34;helping China and their military.&#34;</div>\\n    <div class=\"news-card-author-time news-card-author-time-in-content\">\\n      <a href=\"/prev/en/news/googles-pichai-said-hes-committed-to-us-military-not-china-trump-1553764948162\"><span class=\"short\">short</span></a> by <span class=\"author\">Gaurav Shroff</span> / \\n      <span class=\"time\" itemprop=\"dateModified\" content=\"2019-03-28T09:22:28.000Z\" >02:52 pm</span> on <span class=\"date\">28 Mar</span>\\n    </div>\\n  </div>\\n  \\n    <div class=\"news-card-footer news-right-box\">\\n      <div class=\"read-more\">read more at <a class=\"source\" onclick=\"ga(\\'send\\', {\\'hitType\\': \\'event\\', \\'eventCategory\\': \\'ReadMore\\', \\'eventAction\\': \\'clicked\\', \\'eventLabel\\': \\'Twitter\\' });\" target=\"_blank\" href=\"https://twitter.com/realDonaldTrump/status/1110989594521026561?utm_campaign=fullarticle&amp;utm_medium=referral&amp;utm_source=inshorts \">Twitter</a></div>\\n    </div>\\n  \\n\\n</div>\\n\\n  \\n</div>\\n\\n\\n\\n\\n<div class=\"\">\\n<div class=\"news-card z-depth-1\" itemscope itemtype=\"http://schema.org/NewsArticle\">\\n  <span content=\"\" itemscope itemprop=\"mainEntityOfPage\" itemType=\"https://schema.org/WebPage\" itemid=\"https://inshorts.com/en/news/us-charges-facebook-over-racial-discrimination-in-housing-ads-1553783037141\"></span>\\n  <span itemtype=\"https://schema.org/Person\" itemscope=\"itemscope\" itemprop=\"author\">\\n    <span itemprop=\"name\" content=\"Gaurav Shroff\"></span>\\n  </span>\\n  <span itemprop=\"description\" content=\"US charges Facebook over racial discrimination in housing ads\"></span>\\n  <span itemprop=\"image\" itemscope itemtype=\"https://schema.org/ImageObject\">\\n    <meta itemprop=\"url\" content=\"https://assets.inshorts.com/inshorts/images/v1/variants/jpg/m/2019/03_mar/28_thu/img_1553776706928_526.jpg\"></meta>\\n    <meta itemprop=\"width\" content=\"864\"></meta>\\n    <meta itemprop=\"height\" content=\"483\"></meta>\\n  </span>\\n  <span itemtype=\"https://schema.org/Organization\" itemscope=\"itemscope\" itemprop=\"publisher\">\\n    <span itemprop=\"url\" content=\"https://inshorts.com/\"></span>\\n    <span itemprop=\"name\" content=\"Inshorts\"></span>\\n    <span itemprop=\"logo\" itemscope itemtype=\"https://schema.org/ImageObject\">\\n      <span itemprop=\"url\" content=\"https://assets.inshorts.com/inshorts/images/v1/variants/jpg/m/2018/11_nov/21_wed/img_1542823931298_497.jpg\"></span>\\n      <meta itemprop=\"width\" content=\"400\"></meta>\\n      <meta itemprop=\"height\" content=\"60\"></meta>\\n    </span>\\n  </span>\\n  <div class=\"news-card-image\" style= \"background-image: url(\\'https://assets.inshorts.com/inshorts/images/v1/variants/jpg/m/2019/03_mar/28_thu/img_1553776706928_526.jpg?resize=400px:*\\')\">\\n  </div>\\n  <div class=\"news-card-title news-right-box\">\\n    <a class=\"clickable\" onclick=\"ga(\\'send\\', {\\'hitType\\': \\'event\\', \\'eventCategory\\': \\'TitleOfNews\\', \\'eventAction\\': \\'clicked\\', \\'eventLabel\\': \\'US%20charges%20Facebook%20over%20racial%20discrimination%20in%20housing%20ads)\\' });\"  style=\"color:#44444d!important\" href=\"/en/news/us-charges-facebook-over-racial-discrimination-in-housing-ads-1553783037141\">\\n      <span itemprop=\"headline\">US charges Facebook over racial discrimination in housing ads</span>\\n    </a>\\n    <div class=\"news-card-author-time news-card-author-time-in-title\">\\n      <a href=\"/prev/en/news/us-charges-facebook-over-racial-discrimination-in-housing-ads-1553783037141\"><span class=\"short\">short</span></a> by <span class=\"author\">Gaurav Shroff</span> / \\n      <span class=\"time\" itemprop=\"datePublished\" content=\"2019-03-28T14:23:57.000Z\">07:53 pm</span> on <span clas=\"date\">28 Mar 2019,Thursday</span>\\n    </div>\\n  </div>\\n  <div class=\"news-card-content news-right-box\">\\n    <div itemprop=\"articleBody\">The US Department of Housing and Urban Development (HUD) has charged Facebook for violating the Fair Housing Act by encouraging, enabling and causing housing discrimination in advertising on its platforms. HUD is seeking damages for any person harmed by Facebook&#39;s advertising systems, which allowed employers and landlords to limit audiences on the basis of race, ethnicity and gender.</div>\\n    <div class=\"news-card-author-time news-card-author-time-in-content\">\\n      <a href=\"/prev/en/news/us-charges-facebook-over-racial-discrimination-in-housing-ads-1553783037141\"><span class=\"short\">short</span></a> by <span class=\"author\">Gaurav Shroff</span> / \\n      <span class=\"time\" itemprop=\"dateModified\" content=\"2019-03-28T14:23:57.000Z\" >07:53 pm</span> on <span class=\"date\">28 Mar</span>\\n    </div>\\n  </div>\\n  \\n    <div class=\"news-card-footer news-right-box\">\\n      <div class=\"read-more\">read more at <a class=\"source\" onclick=\"ga(\\'send\\', {\\'hitType\\': \\'event\\', \\'eventCategory\\': \\'ReadMore\\', \\'eventAction\\': \\'clicked\\', \\'eventLabel\\': \\'Reuters\\' });\" target=\"_blank\" href=\"https://www.reuters.com/article/us-facebook-advertisers/hud-charges-facebook-with-housing-discrimination-in-targeted-ads-on-its-platform-idUSKCN1R91E8?utm_campaign=fullarticle&amp;utm_medium=referral&amp;utm_source=inshorts \">Reuters</a></div>\\n    </div>\\n  \\n\\n</div>\\n\\n  \\n</div>\\n\\n\\n\\n\\n<div class=\"\">\\n<div class=\"news-card z-depth-1\" itemscope itemtype=\"http://schema.org/NewsArticle\">\\n  <span content=\"\" itemscope itemprop=\"mainEntityOfPage\" itemType=\"https://schema.org/WebPage\" itemid=\"https://inshorts.com/en/news/after-tim-apple-trump-calls-google-ceo-pichai-president-of-google-1553763664949\"></span>\\n  <span itemtype=\"https://schema.org/Person\" itemscope=\"itemscope\" itemprop=\"author\">\\n    <span itemprop=\"name\" content=\"Arshiya Chopra\"></span>\\n  </span>\\n  <span itemprop=\"description\" content=\"After Tim Apple, Trump calls Google CEO Pichai &#39;President of Google&#39;\"></span>\\n  <span itemprop=\"image\" itemscope itemtype=\"https://schema.org/ImageObject\">\\n    <meta itemprop=\"url\" content=\"https://assets.inshorts.com/inshorts/images/v1/variants/jpg/m/2019/03_mar/28_thu/img_1553759833756_830.jpg\"></meta>\\n    <meta itemprop=\"width\" content=\"864\"></meta>\\n    <meta itemprop=\"height\" content=\"483\"></meta>\\n  </span>\\n  <span itemtype=\"https://schema.org/Organization\" itemscope=\"itemscope\" itemprop=\"publisher\">\\n    <span itemprop=\"url\" content=\"https://inshorts.com/\"></span>\\n    <span itemprop=\"name\" content=\"Inshorts\"></span>\\n    <span itemprop=\"logo\" itemscope itemtype=\"https://schema.org/ImageObject\">\\n      <span itemprop=\"url\" content=\"https://assets.inshorts.com/inshorts/images/v1/variants/jpg/m/2018/11_nov/21_wed/img_1542823931298_497.jpg\"></span>\\n      <meta itemprop=\"width\" content=\"400\"></meta>\\n      <meta itemprop=\"height\" content=\"60\"></meta>\\n    </span>\\n  </span>\\n  <div class=\"news-card-image\" style= \"background-image: url(\\'https://assets.inshorts.com/inshorts/images/v1/variants/jpg/m/2019/03_mar/28_thu/img_1553759833756_830.jpg?resize=400px:*\\')\">\\n  </div>\\n  <div class=\"news-card-title news-right-box\">\\n    <a class=\"clickable\" onclick=\"ga(\\'send\\', {\\'hitType\\': \\'event\\', \\'eventCategory\\': \\'TitleOfNews\\', \\'eventAction\\': \\'clicked\\', \\'eventLabel\\': \\'After%20Tim%20Apple%2C%20Trump%20calls%20Google%20CEO%20Pichai%20&#39;President%20of%20Google&#39;)\\' });\"  style=\"color:#44444d!important\" href=\"/en/news/after-tim-apple-trump-calls-google-ceo-pichai-president-of-google-1553763664949\">\\n      <span itemprop=\"headline\">After Tim Apple, Trump calls Google CEO Pichai &#39;President of Google&#39;</span>\\n    </a>\\n    <div class=\"news-card-author-time news-card-author-time-in-title\">\\n      <a href=\"/prev/en/news/after-tim-apple-trump-calls-google-ceo-pichai-president-of-google-1553763664949\"><span class=\"short\">short</span></a> by <span class=\"author\">Arshiya Chopra</span> / \\n      <span class=\"time\" itemprop=\"datePublished\" content=\"2019-03-28T09:01:04.000Z\">02:31 pm</span> on <span clas=\"date\">28 Mar 2019,Thursday</span>\\n    </div>\\n  </div>\\n  <div class=\"news-card-content news-right-box\">\\n    <div itemprop=\"articleBody\">Days after referring to Apple CEO Tim Cook as Tim &#39;Apple&#39;, US President called Google CEO Sundar Pichai as the &#39;President of Google&#39; in his tweet. &#34;Just met with @SundarPichai, President of @Google, who is obviously doing quite well. He stated strongly that he is totally committed to the U.S. Military, not the Chinese Military,&#34; Trump had tweeted.</div>\\n    <div class=\"news-card-author-time news-card-author-time-in-content\">\\n      <a href=\"/prev/en/news/after-tim-apple-trump-calls-google-ceo-pichai-president-of-google-1553763664949\"><span class=\"short\">short</span></a> by <span class=\"author\">Arshiya Chopra</span> / \\n      <span class=\"time\" itemprop=\"dateModified\" content=\"2019-03-28T09:01:04.000Z\" >02:31 pm</span> on <span class=\"date\">28 Mar</span>\\n    </div>\\n  </div>\\n  \\n    <div class=\"news-card-footer news-right-box\">\\n      <div class=\"read-more\">read more at <a class=\"source\" onclick=\"ga(\\'send\\', {\\'hitType\\': \\'event\\', \\'eventCategory\\': \\'ReadMore\\', \\'eventAction\\': \\'clicked\\', \\'eventLabel\\': \\'Twitter\\' });\" target=\"_blank\" href=\"https://twitter.com/realDonaldTrump/status/1110989594521026561?utm_campaign=fullarticle&amp;utm_medium=referral&amp;utm_source=inshorts \">Twitter</a></div>\\n    </div>\\n  \\n\\n</div>\\n\\n  \\n</div>\\n\\n\\n\\n\\n<div class=\"\">\\n<div class=\"news-card z-depth-1\" itemscope itemtype=\"http://schema.org/NewsArticle\">\\n  <span content=\"\" itemscope itemprop=\"mainEntityOfPage\" itemType=\"https://schema.org/WebPage\" itemid=\"https://inshorts.com/en/news/xiaomi-trolls-huawei-over-phone-launch-after-huawei-trolled-apple-1553773276633\"></span>\\n  <span itemtype=\"https://schema.org/Person\" itemscope=\"itemscope\" itemprop=\"author\">\\n    <span itemprop=\"name\" content=\"Arundhati Rawat\"></span>\\n  </span>\\n  <span itemprop=\"description\" content=\"Xiaomi trolls Huawei over phone launch after Huawei trolled Apple\"></span>\\n  <span itemprop=\"image\" itemscope itemtype=\"https://schema.org/ImageObject\">\\n    <meta itemprop=\"url\" content=\"https://assets.inshorts.com/inshorts/images/v1/variants/jpg/m/2019/03_mar/28_thu/img_1553772543854_645.jpg\"></meta>\\n    <meta itemprop=\"width\" content=\"864\"></meta>\\n    <meta itemprop=\"height\" content=\"483\"></meta>\\n  </span>\\n  <span itemtype=\"https://schema.org/Organization\" itemscope=\"itemscope\" itemprop=\"publisher\">\\n    <span itemprop=\"url\" content=\"https://inshorts.com/\"></span>\\n    <span itemprop=\"name\" content=\"Inshorts\"></span>\\n    <span itemprop=\"logo\" itemscope itemtype=\"https://schema.org/ImageObject\">\\n      <span itemprop=\"url\" content=\"https://assets.inshorts.com/inshorts/images/v1/variants/jpg/m/2018/11_nov/21_wed/img_1542823931298_497.jpg\"></span>\\n      <meta itemprop=\"width\" content=\"400\"></meta>\\n      <meta itemprop=\"height\" content=\"60\"></meta>\\n    </span>\\n  </span>\\n  <div class=\"news-card-image\" style= \"background-image: url(\\'https://assets.inshorts.com/inshorts/images/v1/variants/jpg/m/2019/03_mar/28_thu/img_1553772543854_645.jpg?resize=400px:*\\')\">\\n  </div>\\n  <div class=\"news-card-title news-right-box\">\\n    <a class=\"clickable\" onclick=\"ga(\\'send\\', {\\'hitType\\': \\'event\\', \\'eventCategory\\': \\'TitleOfNews\\', \\'eventAction\\': \\'clicked\\', \\'eventLabel\\': \\'Xiaomi%20trolls%20Huawei%20over%20phone%20launch%20after%20Huawei%20trolled%20Apple)\\' });\"  style=\"color:#44444d!important\" href=\"/en/news/xiaomi-trolls-huawei-over-phone-launch-after-huawei-trolled-apple-1553773276633\">\\n      <span itemprop=\"headline\">Xiaomi trolls Huawei over phone launch after Huawei trolled Apple</span>\\n    </a>\\n    <div class=\"news-card-author-time news-card-author-time-in-title\">\\n      <a href=\"/prev/en/news/xiaomi-trolls-huawei-over-phone-launch-after-huawei-trolled-apple-1553773276633\"><span class=\"short\">short</span></a> by <span class=\"author\">Arundhati Rawat</span> / \\n      <span class=\"time\" itemprop=\"datePublished\" content=\"2019-03-28T11:41:16.000Z\">05:11 pm</span> on <span clas=\"date\">28 Mar 2019,Thursday</span>\\n    </div>\\n  </div>\\n  <div class=\"news-card-content news-right-box\">\\n    <div itemprop=\"articleBody\">China&#39;s Xiaomi trolled rival Huawei on Facebook with an image of Huawei&#39;s new P30 smartphones, captioned, &#34;Is this really necessary?&#34; Xiaomi also posted an image comparing &#39;Mi 9&#39; and &#39;Huawei P30&#39; captioned &#34;Do you think...flagship smartphone should cost...a fortune?&#34; Huawei had trolled Apple after their March 25 event tweeting, &#34;Thanks for the warm up, now on to the main event&#34;. </div>\\n    <div class=\"news-card-author-time news-card-author-time-in-content\">\\n      <a href=\"/prev/en/news/xiaomi-trolls-huawei-over-phone-launch-after-huawei-trolled-apple-1553773276633\"><span class=\"short\">short</span></a> by <span class=\"author\">Arundhati Rawat</span> / \\n      <span class=\"time\" itemprop=\"dateModified\" content=\"2019-03-28T11:41:16.000Z\" >05:11 pm</span> on <span class=\"date\">28 Mar</span>\\n    </div>\\n  </div>\\n  \\n    <div class=\"news-card-footer news-right-box\">\\n      <div class=\"read-more\">read more at <a class=\"source\" onclick=\"ga(\\'send\\', {\\'hitType\\': \\'event\\', \\'eventCategory\\': \\'ReadMore\\', \\'eventAction\\': \\'clicked\\', \\'eventLabel\\': \\'Hindustan%20Times\\' });\" target=\"_blank\" href=\"https://www.hindustantimes.com/tech/xiaomi-trolls-huawei-s-new-p30-smartphone-series/story-uMrJtneUV57ox4kXd5pbEI.html?utm_campaign=fullarticle&amp;utm_medium=referral&amp;utm_source=inshorts \">Hindustan Times</a></div>\\n    </div>\\n  \\n\\n</div>\\n\\n  \\n</div>\\n\\n\\n\\n\\n  \\n    <div id=\\'div-gpt-ad-1536748319959-nhvnufga-1\\' style=\\'height:250px; width:900px; margin: auto; margin-bottom: 2%;\\'>\\n      <script>\\n        googletag.cmd.push(function() { \\n          //News banner for desktop\\n          var slotIdWeb = \\'div-gpt-ad-1536748319959-nhvnufga-1\\';\\n          var slot = googletag.defineSlot(\\'/142919096/inshorts_website_900x250\\', [900, 250], slotIdWeb)\\n          .addService(googletag.pubads())\\n          .setCollapseEmptyDiv(true,true);\\n\\n          googletag.display(\\'div-gpt-ad-1536748319959-nhvnufga-1\\');\\n          googletag.pubads().refresh([slot]);\\n        });\\n      </script>\\n    </div>\\n  \\n\\n<div class=\"\">\\n<div class=\"news-card z-depth-1\" itemscope itemtype=\"http://schema.org/NewsArticle\">\\n  <span content=\"\" itemscope itemprop=\"mainEntityOfPage\" itemType=\"https://schema.org/WebPage\" itemid=\"https://inshorts.com/en/news/facebook-launches-video-feature-for-ls-election-candidates-1553701075509\"></span>\\n  <span itemtype=\"https://schema.org/Person\" itemscope=\"itemscope\" itemprop=\"author\">\\n    <span itemprop=\"name\" content=\"Arundhati Rawat\"></span>\\n  </span>\\n  <span itemprop=\"description\" content=\"Facebook launches video feature for LS election candidates\"></span>\\n  <span itemprop=\"image\" itemscope itemtype=\"https://schema.org/ImageObject\">\\n    <meta itemprop=\"url\" content=\"https://assets.inshorts.com/inshorts/images/v1/variants/jpg/m/2019/03_mar/27_wed/img_1553697079739_5.jpg\"></meta>\\n    <meta itemprop=\"width\" content=\"864\"></meta>\\n    <meta itemprop=\"height\" content=\"483\"></meta>\\n  </span>\\n  <span itemtype=\"https://schema.org/Organization\" itemscope=\"itemscope\" itemprop=\"publisher\">\\n    <span itemprop=\"url\" content=\"https://inshorts.com/\"></span>\\n    <span itemprop=\"name\" content=\"Inshorts\"></span>\\n    <span itemprop=\"logo\" itemscope itemtype=\"https://schema.org/ImageObject\">\\n      <span itemprop=\"url\" content=\"https://assets.inshorts.com/inshorts/images/v1/variants/jpg/m/2018/11_nov/21_wed/img_1542823931298_497.jpg\"></span>\\n      <meta itemprop=\"width\" content=\"400\"></meta>\\n      <meta itemprop=\"height\" content=\"60\"></meta>\\n    </span>\\n  </span>\\n  <div class=\"news-card-image\" style= \"background-image: url(\\'https://assets.inshorts.com/inshorts/images/v1/variants/jpg/m/2019/03_mar/27_wed/img_1553697079739_5.jpg?resize=400px:*\\')\">\\n  </div>\\n  <div class=\"news-card-title news-right-box\">\\n    <a class=\"clickable\" onclick=\"ga(\\'send\\', {\\'hitType\\': \\'event\\', \\'eventCategory\\': \\'TitleOfNews\\', \\'eventAction\\': \\'clicked\\', \\'eventLabel\\': \\'Facebook%20launches%20video%20feature%20for%20LS%20election%20candidates)\\' });\"  style=\"color:#44444d!important\" href=\"/en/news/facebook-launches-video-feature-for-ls-election-candidates-1553701075509\">\\n      <span itemprop=\"headline\">Facebook launches video feature for LS election candidates</span>\\n    </a>\\n    <div class=\"news-card-author-time news-card-author-time-in-title\">\\n      <a href=\"/prev/en/news/facebook-launches-video-feature-for-ls-election-candidates-1553701075509\"><span class=\"short\">short</span></a> by <span class=\"author\">Arundhati Rawat</span> / \\n      <span class=\"time\" itemprop=\"datePublished\" content=\"2019-03-27T15:37:55.000Z\">09:07 pm</span> on <span clas=\"date\">27 Mar 2019,Wednesday</span>\\n    </div>\\n  </div>\\n  <div class=\"news-card-content news-right-box\">\\n    <div itemprop=\"articleBody\">Facebook is introducing a new feature, &#39;Candidate Connect&#39;, to let 2019 Lok Sabha election candidates make 20-second videos to connect with voters. In the videos, to be grouped by constituencies, candidates will answer a set of questions, which Facebook said are outcomes of local consumer research. The videos will appear at the top of a user&#39;s &#39;News Feed&#39;.</div>\\n    <div class=\"news-card-author-time news-card-author-time-in-content\">\\n      <a href=\"/prev/en/news/facebook-launches-video-feature-for-ls-election-candidates-1553701075509\"><span class=\"short\">short</span></a> by <span class=\"author\">Arundhati Rawat</span> / \\n      <span class=\"time\" itemprop=\"dateModified\" content=\"2019-03-27T15:37:55.000Z\" >09:07 pm</span> on <span class=\"date\">27 Mar</span>\\n    </div>\\n  </div>\\n  \\n    <div class=\"news-card-footer news-right-box\">\\n      <div class=\"read-more\">read more at <a class=\"source\" onclick=\"ga(\\'send\\', {\\'hitType\\': \\'event\\', \\'eventCategory\\': \\'ReadMore\\', \\'eventAction\\': \\'clicked\\', \\'eventLabel\\': \\'Inc42\\' });\" target=\"_blank\" href=\"https://inc42.com/buzz/with-elections-around-the-corner-facebook-launches-candidate-connect-feature/?utm_campaign=fullarticle&amp;utm_medium=referral&amp;utm_source=inshorts \">Inc42</a></div>\\n    </div>\\n  \\n\\n</div>\\n\\n  \\n</div>\\n\\n\\n\\n\\n<div class=\"\">\\n<div class=\"news-card z-depth-1\" itemscope itemtype=\"http://schema.org/NewsArticle\">\\n  <span content=\"\" itemscope itemprop=\"mainEntityOfPage\" itemType=\"https://schema.org/WebPage\" itemid=\"https://inshorts.com/en/news/apple-apologises-over-problems-in-some-macbook-keyboards-1553784978223\"></span>\\n  <span itemtype=\"https://schema.org/Person\" itemscope=\"itemscope\" itemprop=\"author\">\\n    <span itemprop=\"name\" content=\"Arundhati Rawat\"></span>\\n  </span>\\n  <span itemprop=\"description\" content=\"Apple apologises over problems in some MacBook keyboards\"></span>\\n  <span itemprop=\"image\" itemscope itemtype=\"https://schema.org/ImageObject\">\\n    <meta itemprop=\"url\" content=\"https://assets.inshorts.com/inshorts/images/v1/variants/jpg/m/2019/03_mar/28_thu/img_1553782492708_79.jpg\"></meta>\\n    <meta itemprop=\"width\" content=\"864\"></meta>\\n    <meta itemprop=\"height\" content=\"483\"></meta>\\n  </span>\\n  <span itemtype=\"https://schema.org/Organization\" itemscope=\"itemscope\" itemprop=\"publisher\">\\n    <span itemprop=\"url\" content=\"https://inshorts.com/\"></span>\\n    <span itemprop=\"name\" content=\"Inshorts\"></span>\\n    <span itemprop=\"logo\" itemscope itemtype=\"https://schema.org/ImageObject\">\\n      <span itemprop=\"url\" content=\"https://assets.inshorts.com/inshorts/images/v1/variants/jpg/m/2018/11_nov/21_wed/img_1542823931298_497.jpg\"></span>\\n      <meta itemprop=\"width\" content=\"400\"></meta>\\n      <meta itemprop=\"height\" content=\"60\"></meta>\\n    </span>\\n  </span>\\n  <div class=\"news-card-image\" style= \"background-image: url(\\'https://assets.inshorts.com/inshorts/images/v1/variants/jpg/m/2019/03_mar/28_thu/img_1553782492708_79.jpg?resize=400px:*\\')\">\\n  </div>\\n  <div class=\"news-card-title news-right-box\">\\n    <a class=\"clickable\" onclick=\"ga(\\'send\\', {\\'hitType\\': \\'event\\', \\'eventCategory\\': \\'TitleOfNews\\', \\'eventAction\\': \\'clicked\\', \\'eventLabel\\': \\'Apple%20apologises%20over%20problems%20in%20some%20MacBook%20keyboards)\\' });\"  style=\"color:#44444d!important\" href=\"/en/news/apple-apologises-over-problems-in-some-macbook-keyboards-1553784978223\">\\n      <span itemprop=\"headline\">Apple apologises over problems in some MacBook keyboards</span>\\n    </a>\\n    <div class=\"news-card-author-time news-card-author-time-in-title\">\\n      <a href=\"/prev/en/news/apple-apologises-over-problems-in-some-macbook-keyboards-1553784978223\"><span class=\"short\">short</span></a> by <span class=\"author\">Arundhati Rawat</span> / \\n      <span class=\"time\" itemprop=\"datePublished\" content=\"2019-03-28T14:56:18.000Z\">08:26 pm</span> on <span clas=\"date\">28 Mar 2019,Thursday</span>\\n    </div>\\n  </div>\\n  <div class=\"news-card-content news-right-box\">\\n    <div itemprop=\"articleBody\">Apple has apologised after acknowledging reports of users facing problems with some MacBook keyboards. &#34;We are aware that a small number of users are having issues with their third-generation butterfly keyboard...for that we are sorry,&#34; Apple said. &#34;The vast majority of Mac notebook customers are having a positive experience with the new keyboard,&#34; it added.</div>\\n    <div class=\"news-card-author-time news-card-author-time-in-content\">\\n      <a href=\"/prev/en/news/apple-apologises-over-problems-in-some-macbook-keyboards-1553784978223\"><span class=\"short\">short</span></a> by <span class=\"author\">Arundhati Rawat</span> / \\n      <span class=\"time\" itemprop=\"dateModified\" content=\"2019-03-28T14:56:18.000Z\" >08:26 pm</span> on <span class=\"date\">28 Mar</span>\\n    </div>\\n  </div>\\n  \\n    <div class=\"news-card-footer news-right-box\">\\n      <div class=\"read-more\">read more at <a class=\"source\" onclick=\"ga(\\'send\\', {\\'hitType\\': \\'event\\', \\'eventCategory\\': \\'ReadMore\\', \\'eventAction\\': \\'clicked\\', \\'eventLabel\\': \\'TechCrunch\\' });\" target=\"_blank\" href=\"https://techcrunch.com/2019/03/27/apple-sorry-for-latest-macbook-keyboard-woes/?utm_campaign=fullarticle&amp;utm_medium=referral&amp;utm_source=inshorts \">TechCrunch</a></div>\\n    </div>\\n  \\n\\n</div>\\n\\n  \\n</div>\\n\\n\\n\\n\\n<div class=\"\">\\n<div class=\"news-card z-depth-1\" itemscope itemtype=\"http://schema.org/NewsArticle\">\\n  <span content=\"\" itemscope itemprop=\"mainEntityOfPage\" itemType=\"https://schema.org/WebPage\" itemid=\"https://inshorts.com/en/news/twitter-warns-users-after-viral-prank-locks-accounts-1553679752585\"></span>\\n  <span itemtype=\"https://schema.org/Person\" itemscope=\"itemscope\" itemprop=\"author\">\\n    <span itemprop=\"name\" content=\"Arundhati Rawat\"></span>\\n  </span>\\n  <span itemprop=\"description\" content=\"Twitter warns of viral birthday prank that locks accounts\"></span>\\n  <span itemprop=\"image\" itemscope itemtype=\"https://schema.org/ImageObject\">\\n    <meta itemprop=\"url\" content=\"https://assets.inshorts.com/inshorts/images/v1/variants/jpg/m/2019/03_mar/27_wed/img_1553677523679_426.jpg\"></meta>\\n    <meta itemprop=\"width\" content=\"864\"></meta>\\n    <meta itemprop=\"height\" content=\"483\"></meta>\\n  </span>\\n  <span itemtype=\"https://schema.org/Organization\" itemscope=\"itemscope\" itemprop=\"publisher\">\\n    <span itemprop=\"url\" content=\"https://inshorts.com/\"></span>\\n    <span itemprop=\"name\" content=\"Inshorts\"></span>\\n    <span itemprop=\"logo\" itemscope itemtype=\"https://schema.org/ImageObject\">\\n      <span itemprop=\"url\" content=\"https://assets.inshorts.com/inshorts/images/v1/variants/jpg/m/2018/11_nov/21_wed/img_1542823931298_497.jpg\"></span>\\n      <meta itemprop=\"width\" content=\"400\"></meta>\\n      <meta itemprop=\"height\" content=\"60\"></meta>\\n    </span>\\n  </span>\\n  <div class=\"news-card-image\" style= \"background-image: url(\\'https://assets.inshorts.com/inshorts/images/v1/variants/jpg/m/2019/03_mar/27_wed/img_1553677523679_426.jpg?resize=400px:*\\')\">\\n  </div>\\n  <div class=\"news-card-title news-right-box\">\\n    <a class=\"clickable\" onclick=\"ga(\\'send\\', {\\'hitType\\': \\'event\\', \\'eventCategory\\': \\'TitleOfNews\\', \\'eventAction\\': \\'clicked\\', \\'eventLabel\\': \\'Twitter%20warns%20of%20viral%20birthday%20prank%20that%20locks%20accounts)\\' });\"  style=\"color:#44444d!important\" href=\"/en/news/twitter-warns-users-after-viral-prank-locks-accounts-1553679752585\">\\n      <span itemprop=\"headline\">Twitter warns of viral birthday prank that locks accounts</span>\\n    </a>\\n    <div class=\"news-card-author-time news-card-author-time-in-title\">\\n      <a href=\"/prev/en/news/twitter-warns-users-after-viral-prank-locks-accounts-1553679752585\"><span class=\"short\">short</span></a> by <span class=\"author\">Arundhati Rawat</span> / \\n      <span class=\"time\" itemprop=\"datePublished\" content=\"2019-03-27T09:42:32.000Z\">03:12 pm</span> on <span clas=\"date\">27 Mar 2019,Wednesday</span>\\n    </div>\\n  </div>\\n  <div class=\"news-card-content news-right-box\">\\n    <div itemprop=\"articleBody\">Twitter on Wednesday put out a warning after a viral prank that asked users to change their birth years to 2007 to unlock new colour schemes, was locking them out of their accounts. &#34;Please don\\xe2\\x80\\x99t do this. You&#39;ll get locked out for being under 13 years old,&#34; the micro-blogging platform tweeted. The number of users affected by it weren&#39;t disclosed.  </div>\\n    <div class=\"news-card-author-time news-card-author-time-in-content\">\\n      <a href=\"/prev/en/news/twitter-warns-users-after-viral-prank-locks-accounts-1553679752585\"><span class=\"short\">short</span></a> by <span class=\"author\">Arundhati Rawat</span> / \\n      <span class=\"time\" itemprop=\"dateModified\" content=\"2019-03-27T09:42:32.000Z\" >03:12 pm</span> on <span class=\"date\">27 Mar</span>\\n    </div>\\n  </div>\\n  \\n    <div class=\"news-card-footer news-right-box\">\\n      <div class=\"read-more\">read more at <a class=\"source\" onclick=\"ga(\\'send\\', {\\'hitType\\': \\'event\\', \\'eventCategory\\': \\'ReadMore\\', \\'eventAction\\': \\'clicked\\', \\'eventLabel\\': \\'Twitter\\' });\" target=\"_blank\" href=\"https://twitter.com/TwitterSupport/status/1110641101822517248?utm_campaign=fullarticle&amp;utm_medium=referral&amp;utm_source=inshorts \">Twitter</a></div>\\n    </div>\\n  \\n\\n</div>\\n\\n  \\n</div>\\n\\n\\n\\n\\n<div class=\"\">\\n<div class=\"news-card z-depth-1\" itemscope itemtype=\"http://schema.org/NewsArticle\">\\n  <span content=\"\" itemscope itemprop=\"mainEntityOfPage\" itemType=\"https://schema.org/WebPage\" itemid=\"https://inshorts.com/en/news/microsoft-asks-teams-to-avoid-public-april-fools-day-pranks-1553741327997\"></span>\\n  <span itemtype=\"https://schema.org/Person\" itemscope=\"itemscope\" itemprop=\"author\">\\n    <span itemprop=\"name\" content=\"Arundhati Rawat\"></span>\\n  </span>\\n  <span itemprop=\"description\" content=\"Microsoft asks teams to avoid public April Fools&#39; Day pranks\"></span>\\n  <span itemprop=\"image\" itemscope itemtype=\"https://schema.org/ImageObject\">\\n    <meta itemprop=\"url\" content=\"https://assets.inshorts.com/inshorts/images/v1/variants/jpg/m/2019/03_mar/27_wed/img_1553707363944_791.jpg\"></meta>\\n    <meta itemprop=\"width\" content=\"864\"></meta>\\n    <meta itemprop=\"height\" content=\"483\"></meta>\\n  </span>\\n  <span itemtype=\"https://schema.org/Organization\" itemscope=\"itemscope\" itemprop=\"publisher\">\\n    <span itemprop=\"url\" content=\"https://inshorts.com/\"></span>\\n    <span itemprop=\"name\" content=\"Inshorts\"></span>\\n    <span itemprop=\"logo\" itemscope itemtype=\"https://schema.org/ImageObject\">\\n      <span itemprop=\"url\" content=\"https://assets.inshorts.com/inshorts/images/v1/variants/jpg/m/2018/11_nov/21_wed/img_1542823931298_497.jpg\"></span>\\n      <meta itemprop=\"width\" content=\"400\"></meta>\\n      <meta itemprop=\"height\" content=\"60\"></meta>\\n    </span>\\n  </span>\\n  <div class=\"news-card-image\" style= \"background-image: url(\\'https://assets.inshorts.com/inshorts/images/v1/variants/jpg/m/2019/03_mar/27_wed/img_1553707363944_791.jpg?resize=400px:*\\')\">\\n  </div>\\n  <div class=\"news-card-title news-right-box\">\\n    <a class=\"clickable\" onclick=\"ga(\\'send\\', {\\'hitType\\': \\'event\\', \\'eventCategory\\': \\'TitleOfNews\\', \\'eventAction\\': \\'clicked\\', \\'eventLabel\\': \\'Microsoft%20asks%20teams%20to%20avoid%20public%20April%20Fools&#39;%20Day%20pranks)\\' });\"  style=\"color:#44444d!important\" href=\"/en/news/microsoft-asks-teams-to-avoid-public-april-fools-day-pranks-1553741327997\">\\n      <span itemprop=\"headline\">Microsoft asks teams to avoid public April Fools&#39; Day pranks</span>\\n    </a>\\n    <div class=\"news-card-author-time news-card-author-time-in-title\">\\n      <a href=\"/prev/en/news/microsoft-asks-teams-to-avoid-public-april-fools-day-pranks-1553741327997\"><span class=\"short\">short</span></a> by <span class=\"author\">Arundhati Rawat</span> / \\n      <span class=\"time\" itemprop=\"datePublished\" content=\"2019-03-28T02:48:47.000Z\">08:18 am</span> on <span clas=\"date\">28 Mar 2019,Thursday</span>\\n    </div>\\n  </div>\\n  <div class=\"news-card-content news-right-box\">\\n    <div itemprop=\"articleBody\">Microsoft&#39;s marketing chief Chris Capossela in an internal memo asked teams to not participate in public-facing April Fools&#39; Day stunts. Data suggests stunts have limited positive impact and can result in unwanted news cycles, the memo obtained by The Verge read. &#34;I believe we&#39;ve more to lose than gain by attempting to be funny on this one day,&#34; it added. </div>\\n    <div class=\"news-card-author-time news-card-author-time-in-content\">\\n      <a href=\"/prev/en/news/microsoft-asks-teams-to-avoid-public-april-fools-day-pranks-1553741327997\"><span class=\"short\">short</span></a> by <span class=\"author\">Arundhati Rawat</span> / \\n      <span class=\"time\" itemprop=\"dateModified\" content=\"2019-03-28T02:48:47.000Z\" >08:18 am</span> on <span class=\"date\">28 Mar</span>\\n    </div>\\n  </div>\\n  \\n    <div class=\"news-card-footer news-right-box\">\\n      <div class=\"read-more\">read more at <a class=\"source\" onclick=\"ga(\\'send\\', {\\'hitType\\': \\'event\\', \\'eventCategory\\': \\'ReadMore\\', \\'eventAction\\': \\'clicked\\', \\'eventLabel\\': \\'Engadget\\' });\" target=\"_blank\" href=\"https://www.engadget.com/2019/03/27/microsoft-ends-april-fools-day-gags/?utm_campaign=fullarticle&amp;utm_medium=referral&amp;utm_source=inshorts \">Engadget</a></div>\\n    </div>\\n  \\n\\n</div>\\n\\n  \\n</div>\\n\\n\\n\\n\\n<div class=\"\">\\n<div class=\"news-card z-depth-1\" itemscope itemtype=\"http://schema.org/NewsArticle\">\\n  <span content=\"\" itemscope itemprop=\"mainEntityOfPage\" itemType=\"https://schema.org/WebPage\" itemid=\"https://inshorts.com/en/news/eu-backs-reforms-for-better-pay-for-online-content-memes-excluded-1553622123851\"></span>\\n  <span itemtype=\"https://schema.org/Person\" itemscope=\"itemscope\" itemprop=\"author\">\\n    <span itemprop=\"name\" content=\"Arundhati Rawat\"></span>\\n  </span>\\n  <span itemprop=\"description\" content=\"EU backs reforms for better pay for online content, memes excluded\"></span>\\n  <span itemprop=\"image\" itemscope itemtype=\"https://schema.org/ImageObject\">\\n    <meta itemprop=\"url\" content=\"https://assets.inshorts.com/inshorts/images/v1/variants/jpg/m/2019/03_mar/26_tue/img_1553615393166_964.jpg\"></meta>\\n    <meta itemprop=\"width\" content=\"864\"></meta>\\n    <meta itemprop=\"height\" content=\"483\"></meta>\\n  </span>\\n  <span itemtype=\"https://schema.org/Organization\" itemscope=\"itemscope\" itemprop=\"publisher\">\\n    <span itemprop=\"url\" content=\"https://inshorts.com/\"></span>\\n    <span itemprop=\"name\" content=\"Inshorts\"></span>\\n    <span itemprop=\"logo\" itemscope itemtype=\"https://schema.org/ImageObject\">\\n      <span itemprop=\"url\" content=\"https://assets.inshorts.com/inshorts/images/v1/variants/jpg/m/2018/11_nov/21_wed/img_1542823931298_497.jpg\"></span>\\n      <meta itemprop=\"width\" content=\"400\"></meta>\\n      <meta itemprop=\"height\" content=\"60\"></meta>\\n    </span>\\n  </span>\\n  <div class=\"news-card-image\" style= \"background-image: url(\\'https://assets.inshorts.com/inshorts/images/v1/variants/jpg/m/2019/03_mar/26_tue/img_1553615393166_964.jpg?resize=400px:*\\')\">\\n  </div>\\n  <div class=\"news-card-title news-right-box\">\\n    <a class=\"clickable\" onclick=\"ga(\\'send\\', {\\'hitType\\': \\'event\\', \\'eventCategory\\': \\'TitleOfNews\\', \\'eventAction\\': \\'clicked\\', \\'eventLabel\\': \\'EU%20backs%20reforms%20for%20better%20pay%20for%20online%20content%2C%20memes%20excluded)\\' });\"  style=\"color:#44444d!important\" href=\"/en/news/eu-backs-reforms-for-better-pay-for-online-content-memes-excluded-1553622123851\">\\n      <span itemprop=\"headline\">EU backs reforms for better pay for online content, memes excluded</span>\\n    </a>\\n    <div class=\"news-card-author-time news-card-author-time-in-title\">\\n      <a href=\"/prev/en/news/eu-backs-reforms-for-better-pay-for-online-content-memes-excluded-1553622123851\"><span class=\"short\">short</span></a> by <span class=\"author\">Arundhati Rawat</span> / \\n      <span class=\"time\" itemprop=\"datePublished\" content=\"2019-03-26T17:42:03.000Z\">11:12 pm</span> on <span clas=\"date\">26 Mar 2019,Tuesday</span>\\n    </div>\\n  </div>\\n  <div class=\"news-card-content news-right-box\">\\n    <div itemprop=\"articleBody\">The European Parliament has backed reforms to nearly 20-year-old copyright rules, making internet platforms directly responsible for content uploaded. The Parliament said the reforms were aimed to help musicians and news publishers, among others, negotiate better remuneration for use of their works, when featured on internet platforms. Memes and GIFs will continue to be shareable online, it added.</div>\\n    <div class=\"news-card-author-time news-card-author-time-in-content\">\\n      <a href=\"/prev/en/news/eu-backs-reforms-for-better-pay-for-online-content-memes-excluded-1553622123851\"><span class=\"short\">short</span></a> by <span class=\"author\">Arundhati Rawat</span> / \\n      <span class=\"time\" itemprop=\"dateModified\" content=\"2019-03-26T17:42:03.000Z\" >11:12 pm</span> on <span class=\"date\">26 Mar</span>\\n    </div>\\n  </div>\\n  \\n    <div class=\"news-card-footer news-right-box\">\\n      <div class=\"read-more\">read more at <a class=\"source\" onclick=\"ga(\\'send\\', {\\'hitType\\': \\'event\\', \\'eventCategory\\': \\'ReadMore\\', \\'eventAction\\': \\'clicked\\', \\'eventLabel\\': \\'RT\\' });\" target=\"_blank\" href=\"https://www.rt.com/news/454782-eu-lawmakers-approve-controversial-copyright/?utm_campaign=fullarticle&amp;utm_medium=referral&amp;utm_source=inshorts \">RT</a></div>\\n    </div>\\n  \\n\\n</div>\\n\\n  \\n</div>\\n\\n\\n\\n\\n<div class=\"\">\\n<div class=\"news-card z-depth-1\" itemscope itemtype=\"http://schema.org/NewsArticle\">\\n  <span content=\"\" itemscope itemprop=\"mainEntityOfPage\" itemType=\"https://schema.org/WebPage\" itemid=\"https://inshorts.com/en/news/us-air-force-unveils-aipowered-selfdriving-drone-concept-1553775333025\"></span>\\n  <span itemtype=\"https://schema.org/Person\" itemscope=\"itemscope\" itemprop=\"author\">\\n    <span itemprop=\"name\" content=\"Kanishka Pandey\"></span>\\n  </span>\\n  <span itemprop=\"description\" content=\"US Air Force unveils AI-powered self-driving drone concept\"></span>\\n  <span itemprop=\"image\" itemscope itemtype=\"https://schema.org/ImageObject\">\\n    <meta itemprop=\"url\" content=\"https://assets.inshorts.com/inshorts/images/v1/variants/jpg/m/2019/03_mar/28_thu/img_1553770373269_503.jpg\"></meta>\\n    <meta itemprop=\"width\" content=\"864\"></meta>\\n    <meta itemprop=\"height\" content=\"483\"></meta>\\n  </span>\\n  <span itemtype=\"https://schema.org/Organization\" itemscope=\"itemscope\" itemprop=\"publisher\">\\n    <span itemprop=\"url\" content=\"https://inshorts.com/\"></span>\\n    <span itemprop=\"name\" content=\"Inshorts\"></span>\\n    <span itemprop=\"logo\" itemscope itemtype=\"https://schema.org/ImageObject\">\\n      <span itemprop=\"url\" content=\"https://assets.inshorts.com/inshorts/images/v1/variants/jpg/m/2018/11_nov/21_wed/img_1542823931298_497.jpg\"></span>\\n      <meta itemprop=\"width\" content=\"400\"></meta>\\n      <meta itemprop=\"height\" content=\"60\"></meta>\\n    </span>\\n  </span>\\n  <div class=\"news-card-image\" style= \"background-image: url(\\'https://assets.inshorts.com/inshorts/images/v1/variants/jpg/m/2019/03_mar/28_thu/img_1553770373269_503.jpg?resize=400px:*\\')\">\\n  </div>\\n  <div class=\"news-card-title news-right-box\">\\n    <a class=\"clickable\" onclick=\"ga(\\'send\\', {\\'hitType\\': \\'event\\', \\'eventCategory\\': \\'TitleOfNews\\', \\'eventAction\\': \\'clicked\\', \\'eventLabel\\': \\'US%20Air%20Force%20unveils%20AI-powered%20self-driving%20drone%20concept)\\' });\"  style=\"color:#44444d!important\" href=\"/en/news/us-air-force-unveils-aipowered-selfdriving-drone-concept-1553775333025\">\\n      <span itemprop=\"headline\">US Air Force unveils AI-powered self-driving drone concept</span>\\n    </a>\\n    <div class=\"news-card-author-time news-card-author-time-in-title\">\\n      <a href=\"/prev/en/news/us-air-force-unveils-aipowered-selfdriving-drone-concept-1553775333025\"><span class=\"short\">short</span></a> by <span class=\"author\">Kanishka Pandey</span> / \\n      <span class=\"time\" itemprop=\"datePublished\" content=\"2019-03-28T12:15:33.000Z\">05:45 pm</span> on <span clas=\"date\">28 Mar 2019,Thursday</span>\\n    </div>\\n  </div>\\n  <div class=\"news-card-content news-right-box\">\\n    <div itemprop=\"articleBody\">The US Air Force unveiled a conceptual design for an artificial intelligence-powered (AI) self-driving drone under its &#39;Skyborg&#39; program. The primary goal of the program is to deploy a modular, fighter-like aircraft that can be used to quickly update and help warfighters, the US Air Force said. It plans to launch the drone&#39;s prototypes as early as 2023.</div>\\n    <div class=\"news-card-author-time news-card-author-time-in-content\">\\n      <a href=\"/prev/en/news/us-air-force-unveils-aipowered-selfdriving-drone-concept-1553775333025\"><span class=\"short\">short</span></a> by <span class=\"author\">Kanishka Pandey</span> / \\n      <span class=\"time\" itemprop=\"dateModified\" content=\"2019-03-28T12:15:33.000Z\" >05:45 pm</span> on <span class=\"date\">28 Mar</span>\\n    </div>\\n  </div>\\n  \\n    <div class=\"news-card-footer news-right-box\">\\n      <div class=\"read-more\">read more at <a class=\"source\" onclick=\"ga(\\'send\\', {\\'hitType\\': \\'event\\', \\'eventCategory\\': \\'ReadMore\\', \\'eventAction\\': \\'clicked\\', \\'eventLabel\\': \\'Engadget\\' });\" target=\"_blank\" href=\"https://www.engadget.com/2019/03/27/the-air-force-is-exploring-ai-powered-autonomous-drones/?utm_campaign=fullarticle&amp;utm_medium=referral&amp;utm_source=inshorts \">Engadget</a></div>\\n    </div>\\n  \\n\\n</div>\\n\\n  \\n</div>\\n\\n\\n\\n\\n  \\n    <div id=\\'div-gpt-ad-1536748319959-fzaj89nx-1\\' style=\\'height:250px; width:900px; margin: auto; margin-bottom: 2%;\\'>\\n      <script>\\n        googletag.cmd.push(function() { \\n          //News banner for desktop\\n          var slotIdWeb = \\'div-gpt-ad-1536748319959-fzaj89nx-1\\';\\n          var slot = googletag.defineSlot(\\'/142919096/inshorts_website_900x250\\', [900, 250], slotIdWeb)\\n          .addService(googletag.pubads())\\n          .setCollapseEmptyDiv(true,true);\\n\\n          googletag.display(\\'div-gpt-ad-1536748319959-fzaj89nx-1\\');\\n          googletag.pubads().refresh([slot]);\\n        });\\n      </script>\\n    </div>\\n  \\n\\n<div class=\"\">\\n<div class=\"news-card z-depth-1\" itemscope itemtype=\"http://schema.org/NewsArticle\">\\n  <span content=\"\" itemscope itemprop=\"mainEntityOfPage\" itemType=\"https://schema.org/WebPage\" itemid=\"https://inshorts.com/en/news/silicon-valley-startup-palantir-wins-$800m-us-army-contract-1553771256133\"></span>\\n  <span itemtype=\"https://schema.org/Person\" itemscope=\"itemscope\" itemprop=\"author\">\\n    <span itemprop=\"name\" content=\"Kanishka Pandey\"></span>\\n  </span>\\n  <span itemprop=\"description\" content=\"Silicon Valley startup Palantir wins $800M US Army contract\"></span>\\n  <span itemprop=\"image\" itemscope itemtype=\"https://schema.org/ImageObject\">\\n    <meta itemprop=\"url\" content=\"https://assets.inshorts.com/inshorts/images/v1/variants/jpg/m/2019/03_mar/28_thu/img_1553767798651_986.jpg\"></meta>\\n    <meta itemprop=\"width\" content=\"864\"></meta>\\n    <meta itemprop=\"height\" content=\"483\"></meta>\\n  </span>\\n  <span itemtype=\"https://schema.org/Organization\" itemscope=\"itemscope\" itemprop=\"publisher\">\\n    <span itemprop=\"url\" content=\"https://inshorts.com/\"></span>\\n    <span itemprop=\"name\" content=\"Inshorts\"></span>\\n    <span itemprop=\"logo\" itemscope itemtype=\"https://schema.org/ImageObject\">\\n      <span itemprop=\"url\" content=\"https://assets.inshorts.com/inshorts/images/v1/variants/jpg/m/2018/11_nov/21_wed/img_1542823931298_497.jpg\"></span>\\n      <meta itemprop=\"width\" content=\"400\"></meta>\\n      <meta itemprop=\"height\" content=\"60\"></meta>\\n    </span>\\n  </span>\\n  <div class=\"news-card-image\" style= \"background-image: url(\\'https://assets.inshorts.com/inshorts/images/v1/variants/jpg/m/2019/03_mar/28_thu/img_1553767798651_986.jpg?resize=400px:*\\')\">\\n  </div>\\n  <div class=\"news-card-title news-right-box\">\\n    <a class=\"clickable\" onclick=\"ga(\\'send\\', {\\'hitType\\': \\'event\\', \\'eventCategory\\': \\'TitleOfNews\\', \\'eventAction\\': \\'clicked\\', \\'eventLabel\\': \\'Silicon%20Valley%20startup%20Palantir%20wins%20%24800M%20US%20Army%20contract)\\' });\"  style=\"color:#44444d!important\" href=\"/en/news/silicon-valley-startup-palantir-wins-$800m-us-army-contract-1553771256133\">\\n      <span itemprop=\"headline\">Silicon Valley startup Palantir wins $800M US Army contract</span>\\n    </a>\\n    <div class=\"news-card-author-time news-card-author-time-in-title\">\\n      <a href=\"/prev/en/news/silicon-valley-startup-palantir-wins-$800m-us-army-contract-1553771256133\"><span class=\"short\">short</span></a> by <span class=\"author\">Kanishka Pandey</span> / \\n      <span class=\"time\" itemprop=\"datePublished\" content=\"2019-03-28T11:07:36.000Z\">04:37 pm</span> on <span clas=\"date\">28 Mar 2019,Thursday</span>\\n    </div>\\n  </div>\\n  <div class=\"news-card-content news-right-box\">\\n    <div itemprop=\"articleBody\">California-based software startup Palantir Technologies has won an $800-million contract to build complex battlefield intelligence system for US Army. This was reportedly the first time that the US signed a Silicon Valley software company to lead a defence program of record, as opposed to a traditional military contractor. Palantir was competing against Raytheon for the contract for a year. </div>\\n    <div class=\"news-card-author-time news-card-author-time-in-content\">\\n      <a href=\"/prev/en/news/silicon-valley-startup-palantir-wins-$800m-us-army-contract-1553771256133\"><span class=\"short\">short</span></a> by <span class=\"author\">Kanishka Pandey</span> / \\n      <span class=\"time\" itemprop=\"dateModified\" content=\"2019-03-28T11:07:36.000Z\" >04:37 pm</span> on <span class=\"date\">28 Mar</span>\\n    </div>\\n  </div>\\n  \\n    <div class=\"news-card-footer news-right-box\">\\n      <div class=\"read-more\">read more at <a class=\"source\" onclick=\"ga(\\'send\\', {\\'hitType\\': \\'event\\', \\'eventCategory\\': \\'ReadMore\\', \\'eventAction\\': \\'clicked\\', \\'eventLabel\\': \\'TechCrunch\\' });\" target=\"_blank\" href=\"https://techcrunch.com/2019/03/27/palantir-army-contract-dcgs-a/?utm_campaign=fullarticle&amp;utm_medium=referral&amp;utm_source=inshorts \">TechCrunch</a></div>\\n    </div>\\n  \\n\\n</div>\\n\\n  \\n</div>\\n\\n\\n\\n\\n<div class=\"\">\\n<div class=\"news-card z-depth-1\" itemscope itemtype=\"http://schema.org/NewsArticle\">\\n  <span content=\"\" itemscope itemprop=\"mainEntityOfPage\" itemType=\"https://schema.org/WebPage\" itemid=\"https://inshorts.com/en/news/sony-chairman-and-former-ceo-hirai-to-retire-after-35-years-1553789548843\"></span>\\n  <span itemtype=\"https://schema.org/Person\" itemscope=\"itemscope\" itemprop=\"author\">\\n    <span itemprop=\"name\" content=\"Kanishka Pandey\"></span>\\n  </span>\\n  <span itemprop=\"description\" content=\"Sony Chairman and former CEO Hirai to retire after 35 years\"></span>\\n  <span itemprop=\"image\" itemscope itemtype=\"https://schema.org/ImageObject\">\\n    <meta itemprop=\"url\" content=\"https://assets.inshorts.com/inshorts/images/v1/variants/jpg/m/2019/03_mar/28_thu/img_1553786555331_100.jpg\"></meta>\\n    <meta itemprop=\"width\" content=\"864\"></meta>\\n    <meta itemprop=\"height\" content=\"483\"></meta>\\n  </span>\\n  <span itemtype=\"https://schema.org/Organization\" itemscope=\"itemscope\" itemprop=\"publisher\">\\n    <span itemprop=\"url\" content=\"https://inshorts.com/\"></span>\\n    <span itemprop=\"name\" content=\"Inshorts\"></span>\\n    <span itemprop=\"logo\" itemscope itemtype=\"https://schema.org/ImageObject\">\\n      <span itemprop=\"url\" content=\"https://assets.inshorts.com/inshorts/images/v1/variants/jpg/m/2018/11_nov/21_wed/img_1542823931298_497.jpg\"></span>\\n      <meta itemprop=\"width\" content=\"400\"></meta>\\n      <meta itemprop=\"height\" content=\"60\"></meta>\\n    </span>\\n  </span>\\n  <div class=\"news-card-image\" style= \"background-image: url(\\'https://assets.inshorts.com/inshorts/images/v1/variants/jpg/m/2019/03_mar/28_thu/img_1553786555331_100.jpg?resize=400px:*\\')\">\\n  </div>\\n  <div class=\"news-card-title news-right-box\">\\n    <a class=\"clickable\" onclick=\"ga(\\'send\\', {\\'hitType\\': \\'event\\', \\'eventCategory\\': \\'TitleOfNews\\', \\'eventAction\\': \\'clicked\\', \\'eventLabel\\': \\'Sony%20Chairman%20and%20former%20CEO%20Hirai%20to%20retire%20after%2035%20years)\\' });\"  style=\"color:#44444d!important\" href=\"/en/news/sony-chairman-and-former-ceo-hirai-to-retire-after-35-years-1553789548843\">\\n      <span itemprop=\"headline\">Sony Chairman and former CEO Hirai to retire after 35 years</span>\\n    </a>\\n    <div class=\"news-card-author-time news-card-author-time-in-title\">\\n      <a href=\"/prev/en/news/sony-chairman-and-former-ceo-hirai-to-retire-after-35-years-1553789548843\"><span class=\"short\">short</span></a> by <span class=\"author\">Kanishka Pandey</span> / \\n      <span class=\"time\" itemprop=\"datePublished\" content=\"2019-03-28T16:12:28.000Z\">09:42 pm</span> on <span clas=\"date\">28 Mar 2019,Thursday</span>\\n    </div>\\n  </div>\\n  <div class=\"news-card-content news-right-box\">\\n    <div itemprop=\"articleBody\">Sony Chairman and former Chief Executive Officer (CEO) Kazuo Hirai will retire on June 18 after spending 35 years at the company, the Japanese multinational conglomerate announced. Hirai was appointed CEO and President of Sony in 2012, shortly after it lost $6.4 billion in 2011. He stepped down as the company CEO and became the Chairman in 2018.</div>\\n    <div class=\"news-card-author-time news-card-author-time-in-content\">\\n      <a href=\"/prev/en/news/sony-chairman-and-former-ceo-hirai-to-retire-after-35-years-1553789548843\"><span class=\"short\">short</span></a> by <span class=\"author\">Kanishka Pandey</span> / \\n      <span class=\"time\" itemprop=\"dateModified\" content=\"2019-03-28T16:12:28.000Z\" >09:42 pm</span> on <span class=\"date\">28 Mar</span>\\n    </div>\\n  </div>\\n  \\n    <div class=\"news-card-footer news-right-box\">\\n      <div class=\"read-more\">read more at <a class=\"source\" onclick=\"ga(\\'send\\', {\\'hitType\\': \\'event\\', \\'eventCategory\\': \\'ReadMore\\', \\'eventAction\\': \\'clicked\\', \\'eventLabel\\': \\'Engadget\\' });\" target=\"_blank\" href=\"https://www.engadget.com/2019/03/28/kaz-hirai-chairman-retires-sony/?utm_campaign=fullarticle&amp;utm_medium=referral&amp;utm_source=inshorts \">Engadget</a></div>\\n    </div>\\n  \\n\\n</div>\\n\\n  \\n</div>\\n\\n\\n\\n\\n<div class=\"\">\\n<div class=\"news-card z-depth-1\" itemscope itemtype=\"http://schema.org/NewsArticle\">\\n  <span content=\"\" itemscope itemprop=\"mainEntityOfPage\" itemType=\"https://schema.org/WebPage\" itemid=\"https://inshorts.com/en/news/fired-tinder-founder-seeks-dismissal-of-$250mn-lawsuit-by-owners-1553623426703\"></span>\\n  <span itemtype=\"https://schema.org/Person\" itemscope=\"itemscope\" itemprop=\"author\">\\n    <span itemprop=\"name\" content=\"Arundhati Rawat\"></span>\\n  </span>\\n  <span itemprop=\"description\" content=\"Fired Tinder founder seeks dismissal of $250mn lawsuit by owners\"></span>\\n  <span itemprop=\"image\" itemscope itemtype=\"https://schema.org/ImageObject\">\\n    <meta itemprop=\"url\" content=\"https://assets.inshorts.com/inshorts/images/v1/variants/jpg/m/2019/03_mar/26_tue/img_1553614499308_718.jpg\"></meta>\\n    <meta itemprop=\"width\" content=\"864\"></meta>\\n    <meta itemprop=\"height\" content=\"483\"></meta>\\n  </span>\\n  <span itemtype=\"https://schema.org/Organization\" itemscope=\"itemscope\" itemprop=\"publisher\">\\n    <span itemprop=\"url\" content=\"https://inshorts.com/\"></span>\\n    <span itemprop=\"name\" content=\"Inshorts\"></span>\\n    <span itemprop=\"logo\" itemscope itemtype=\"https://schema.org/ImageObject\">\\n      <span itemprop=\"url\" content=\"https://assets.inshorts.com/inshorts/images/v1/variants/jpg/m/2018/11_nov/21_wed/img_1542823931298_497.jpg\"></span>\\n      <meta itemprop=\"width\" content=\"400\"></meta>\\n      <meta itemprop=\"height\" content=\"60\"></meta>\\n    </span>\\n  </span>\\n  <div class=\"news-card-image\" style= \"background-image: url(\\'https://assets.inshorts.com/inshorts/images/v1/variants/jpg/m/2019/03_mar/26_tue/img_1553614499308_718.jpg?resize=400px:*\\')\">\\n  </div>\\n  <div class=\"news-card-title news-right-box\">\\n    <a class=\"clickable\" onclick=\"ga(\\'send\\', {\\'hitType\\': \\'event\\', \\'eventCategory\\': \\'TitleOfNews\\', \\'eventAction\\': \\'clicked\\', \\'eventLabel\\': \\'Fired%20Tinder%20founder%20seeks%20dismissal%20of%20%24250mn%20lawsuit%20by%20owners)\\' });\"  style=\"color:#44444d!important\" href=\"/en/news/fired-tinder-founder-seeks-dismissal-of-$250mn-lawsuit-by-owners-1553623426703\">\\n      <span itemprop=\"headline\">Fired Tinder founder seeks dismissal of $250mn lawsuit by owners</span>\\n    </a>\\n    <div class=\"news-card-author-time news-card-author-time-in-title\">\\n      <a href=\"/prev/en/news/fired-tinder-founder-seeks-dismissal-of-$250mn-lawsuit-by-owners-1553623426703\"><span class=\"short\">short</span></a> by <span class=\"author\">Arundhati Rawat</span> / \\n      <span class=\"time\" itemprop=\"datePublished\" content=\"2019-03-26T18:03:46.000Z\">11:33 pm</span> on <span clas=\"date\">26 Mar 2019,Tuesday</span>\\n    </div>\\n  </div>\\n  <div class=\"news-card-content news-right-box\">\\n    <div itemprop=\"articleBody\">Ousted Tinder Co-founder Sean Rad, has asked the New York Supreme Court to dismiss a $250-million lawsuit filed against him by owners Match Group and IAC. Rad was accused of violating his employment contract by copying internal files before leaving Tinder. Rad claims his contract let him back up his work emails and retain them after leaving.</div>\\n    <div class=\"news-card-author-time news-card-author-time-in-content\">\\n      <a href=\"/prev/en/news/fired-tinder-founder-seeks-dismissal-of-$250mn-lawsuit-by-owners-1553623426703\"><span class=\"short\">short</span></a> by <span class=\"author\">Arundhati Rawat</span> / \\n      <span class=\"time\" itemprop=\"dateModified\" content=\"2019-03-26T18:03:46.000Z\" >11:33 pm</span> on <span class=\"date\">26 Mar</span>\\n    </div>\\n  </div>\\n  \\n    <div class=\"news-card-footer news-right-box\">\\n      <div class=\"read-more\">read more at <a class=\"source\" onclick=\"ga(\\'send\\', {\\'hitType\\': \\'event\\', \\'eventCategory\\': \\'ReadMore\\', \\'eventAction\\': \\'clicked\\', \\'eventLabel\\': \\'Times%20Now\\' });\" target=\"_blank\" href=\"https://www.timesnownews.com/technology-science/article/tinder-co-founder-counters-against-250-million-lawsuit/389201?utm_campaign=fullarticle&amp;utm_medium=referral&amp;utm_source=inshorts \">Times Now</a></div>\\n    </div>\\n  \\n\\n</div>\\n\\n  \\n</div>\\n\\n\\n\\n\\n<div class=\"\">\\n<div class=\"news-card z-depth-1\" itemscope itemtype=\"http://schema.org/NewsArticle\">\\n  <span content=\"\" itemscope itemprop=\"mainEntityOfPage\" itemType=\"https://schema.org/WebPage\" itemid=\"https://inshorts.com/en/news/some-iphones-may-face-ban-in-us-over-applequalcomm-dispute-1553685770742\"></span>\\n  <span itemtype=\"https://schema.org/Person\" itemscope=\"itemscope\" itemprop=\"author\">\\n    <span itemprop=\"name\" content=\"Arundhati Rawat\"></span>\\n  </span>\\n  <span itemprop=\"description\" content=\"Some iPhones may face ban in US over Apple-Qualcomm dispute\"></span>\\n  <span itemprop=\"image\" itemscope itemtype=\"https://schema.org/ImageObject\">\\n    <meta itemprop=\"url\" content=\"https://assets.inshorts.com/inshorts/images/v1/variants/jpg/m/2019/03_mar/27_wed/img_1553680766254_950.jpg\"></meta>\\n    <meta itemprop=\"width\" content=\"864\"></meta>\\n    <meta itemprop=\"height\" content=\"483\"></meta>\\n  </span>\\n  <span itemtype=\"https://schema.org/Organization\" itemscope=\"itemscope\" itemprop=\"publisher\">\\n    <span itemprop=\"url\" content=\"https://inshorts.com/\"></span>\\n    <span itemprop=\"name\" content=\"Inshorts\"></span>\\n    <span itemprop=\"logo\" itemscope itemtype=\"https://schema.org/ImageObject\">\\n      <span itemprop=\"url\" content=\"https://assets.inshorts.com/inshorts/images/v1/variants/jpg/m/2018/11_nov/21_wed/img_1542823931298_497.jpg\"></span>\\n      <meta itemprop=\"width\" content=\"400\"></meta>\\n      <meta itemprop=\"height\" content=\"60\"></meta>\\n    </span>\\n  </span>\\n  <div class=\"news-card-image\" style= \"background-image: url(\\'https://assets.inshorts.com/inshorts/images/v1/variants/jpg/m/2019/03_mar/27_wed/img_1553680766254_950.jpg?resize=400px:*\\')\">\\n  </div>\\n  <div class=\"news-card-title news-right-box\">\\n    <a class=\"clickable\" onclick=\"ga(\\'send\\', {\\'hitType\\': \\'event\\', \\'eventCategory\\': \\'TitleOfNews\\', \\'eventAction\\': \\'clicked\\', \\'eventLabel\\': \\'Some%20iPhones%20may%20face%20ban%20in%20US%20over%20Apple-Qualcomm%20dispute)\\' });\"  style=\"color:#44444d!important\" href=\"/en/news/some-iphones-may-face-ban-in-us-over-applequalcomm-dispute-1553685770742\">\\n      <span itemprop=\"headline\">Some iPhones may face ban in US over Apple-Qualcomm dispute</span>\\n    </a>\\n    <div class=\"news-card-author-time news-card-author-time-in-title\">\\n      <a href=\"/prev/en/news/some-iphones-may-face-ban-in-us-over-applequalcomm-dispute-1553685770742\"><span class=\"short\">short</span></a> by <span class=\"author\">Arundhati Rawat</span> / \\n      <span class=\"time\" itemprop=\"datePublished\" content=\"2019-03-27T11:22:50.000Z\">04:52 pm</span> on <span clas=\"date\">27 Mar 2019,Wednesday</span>\\n    </div>\\n  </div>\\n  <div class=\"news-card-content news-right-box\">\\n    <div itemprop=\"articleBody\">A US Trade judge recommended that certain iPhone models be banned after concluding that Apple had infringed a Qualcomm patent. In a separate ruling on the same day, US&#39; International Trade Commission rejected Qualcomm&#39;s complaint that Apple had infringed a battery-saving feature related patent, Bloomberg reported. The American companies have been locked in a dispute for two years.</div>\\n    <div class=\"news-card-author-time news-card-author-time-in-content\">\\n      <a href=\"/prev/en/news/some-iphones-may-face-ban-in-us-over-applequalcomm-dispute-1553685770742\"><span class=\"short\">short</span></a> by <span class=\"author\">Arundhati Rawat</span> / \\n      <span class=\"time\" itemprop=\"dateModified\" content=\"2019-03-27T11:22:50.000Z\" >04:52 pm</span> on <span class=\"date\">27 Mar</span>\\n    </div>\\n  </div>\\n  \\n    <div class=\"news-card-footer news-right-box\">\\n      <div class=\"read-more\">read more at <a class=\"source\" onclick=\"ga(\\'send\\', {\\'hitType\\': \\'event\\', \\'eventCategory\\': \\'ReadMore\\', \\'eventAction\\': \\'clicked\\', \\'eventLabel\\': \\'Bloomberg%20Quint\\' });\" target=\"_blank\" href=\"https://www.bloombergquint.com/business/apple-infringes-qualcomm-patent-judge-recommends-iphone-ban?utm_campaign=fullarticle&amp;utm_medium=referral&amp;utm_source=inshorts \">Bloomberg Quint</a></div>\\n    </div>\\n  \\n\\n</div>\\n\\n  \\n</div>\\n\\n\\n\\n\\n<div class=\"\">\\n<div class=\"news-card z-depth-1\" itemscope itemtype=\"http://schema.org/NewsArticle\">\\n  <span content=\"\" itemscope itemprop=\"mainEntityOfPage\" itemType=\"https://schema.org/WebPage\" itemid=\"https://inshorts.com/en/news/largest-us-lgbtq-group-suspends-google-over-conversion-app-1553782364382\"></span>\\n  <span itemtype=\"https://schema.org/Person\" itemscope=\"itemscope\" itemprop=\"author\">\\n    <span itemprop=\"name\" content=\"Kanishka Pandey\"></span>\\n  </span>\\n  <span itemprop=\"description\" content=\"Largest US LGBTQ group suspends Google over &#39;conversion&#39; app\"></span>\\n  <span itemprop=\"image\" itemscope itemtype=\"https://schema.org/ImageObject\">\\n    <meta itemprop=\"url\" content=\"https://assets.inshorts.com/inshorts/images/v1/variants/jpg/m/2019/03_mar/28_thu/img_1553779389661_252.jpg\"></meta>\\n    <meta itemprop=\"width\" content=\"864\"></meta>\\n    <meta itemprop=\"height\" content=\"483\"></meta>\\n  </span>\\n  <span itemtype=\"https://schema.org/Organization\" itemscope=\"itemscope\" itemprop=\"publisher\">\\n    <span itemprop=\"url\" content=\"https://inshorts.com/\"></span>\\n    <span itemprop=\"name\" content=\"Inshorts\"></span>\\n    <span itemprop=\"logo\" itemscope itemtype=\"https://schema.org/ImageObject\">\\n      <span itemprop=\"url\" content=\"https://assets.inshorts.com/inshorts/images/v1/variants/jpg/m/2018/11_nov/21_wed/img_1542823931298_497.jpg\"></span>\\n      <meta itemprop=\"width\" content=\"400\"></meta>\\n      <meta itemprop=\"height\" content=\"60\"></meta>\\n    </span>\\n  </span>\\n  <div class=\"news-card-image\" style= \"background-image: url(\\'https://assets.inshorts.com/inshorts/images/v1/variants/jpg/m/2019/03_mar/28_thu/img_1553779389661_252.jpg?resize=400px:*\\')\">\\n  </div>\\n  <div class=\"news-card-title news-right-box\">\\n    <a class=\"clickable\" onclick=\"ga(\\'send\\', {\\'hitType\\': \\'event\\', \\'eventCategory\\': \\'TitleOfNews\\', \\'eventAction\\': \\'clicked\\', \\'eventLabel\\': \\'Largest%20US%20LGBTQ%20group%20suspends%20Google%20over%20&#39;conversion&#39;%20app)\\' });\"  style=\"color:#44444d!important\" href=\"/en/news/largest-us-lgbtq-group-suspends-google-over-conversion-app-1553782364382\">\\n      <span itemprop=\"headline\">Largest US LGBTQ group suspends Google over &#39;conversion&#39; app</span>\\n    </a>\\n    <div class=\"news-card-author-time news-card-author-time-in-title\">\\n      <a href=\"/prev/en/news/largest-us-lgbtq-group-suspends-google-over-conversion-app-1553782364382\"><span class=\"short\">short</span></a> by <span class=\"author\">Kanishka Pandey</span> / \\n      <span class=\"time\" itemprop=\"datePublished\" content=\"2019-03-28T14:12:44.000Z\">07:42 pm</span> on <span clas=\"date\">28 Mar 2019,Thursday</span>\\n    </div>\\n  </div>\\n  <div class=\"news-card-content news-right-box\">\\n    <div itemprop=\"articleBody\">Google lost support from largest US LGBTQ group, Human Rights Campaign, over a &#39;conversion therapy&#39; app to change a person&#39;s sexual orientation or gender identity. The group said it urged Google to remove the app, which is &#34;life-threatening to LGBTQ youth&#34; and &#34;clearly violates&#34; Google&#39;s own standards. It has withheld Google from its annual Corporate Equality Index (CEI) rating.</div>\\n    <div class=\"news-card-author-time news-card-author-time-in-content\">\\n      <a href=\"/prev/en/news/largest-us-lgbtq-group-suspends-google-over-conversion-app-1553782364382\"><span class=\"short\">short</span></a> by <span class=\"author\">Kanishka Pandey</span> / \\n      <span class=\"time\" itemprop=\"dateModified\" content=\"2019-03-28T14:12:44.000Z\" >07:42 pm</span> on <span class=\"date\">28 Mar</span>\\n    </div>\\n  </div>\\n  \\n    <div class=\"news-card-footer news-right-box\">\\n      <div class=\"read-more\">read more at <a class=\"source\" onclick=\"ga(\\'send\\', {\\'hitType\\': \\'event\\', \\'eventCategory\\': \\'ReadMore\\', \\'eventAction\\': \\'clicked\\', \\'eventLabel\\': \\'BloombergQuint\\' });\" target=\"_blank\" href=\"https://www.bloombergquint.com/technology/google-loses-gay-rights-endorsement-in-dispute-over-mobile-app?utm_campaign=fullarticle&amp;utm_medium=referral&amp;utm_source=inshorts \">BloombergQuint</a></div>\\n    </div>\\n  \\n\\n</div>\\n\\n  \\n</div>\\n\\n\\n\\n\\n<div class=\"\">\\n<div class=\"news-card z-depth-1\" itemscope itemtype=\"http://schema.org/NewsArticle\">\\n  <span content=\"\" itemscope itemprop=\"mainEntityOfPage\" itemType=\"https://schema.org/WebPage\" itemid=\"https://inshorts.com/en/news/facebook-and-instagram-ban-white-nationalism-after-nz-attack-1553764195824\"></span>\\n  <span itemtype=\"https://schema.org/Person\" itemscope=\"itemscope\" itemprop=\"author\">\\n    <span itemprop=\"name\" content=\"Arundhati Rawat\"></span>\\n  </span>\\n  <span itemprop=\"description\" content=\"Facebook and Instagram ban white nationalism after NZ attack\"></span>\\n  <span itemprop=\"image\" itemscope itemtype=\"https://schema.org/ImageObject\">\\n    <meta itemprop=\"url\" content=\"https://assets.inshorts.com/inshorts/images/v1/variants/jpg/m/2019/03_mar/28_thu/img_1553762713355_162.jpg\"></meta>\\n    <meta itemprop=\"width\" content=\"864\"></meta>\\n    <meta itemprop=\"height\" content=\"483\"></meta>\\n  </span>\\n  <span itemtype=\"https://schema.org/Organization\" itemscope=\"itemscope\" itemprop=\"publisher\">\\n    <span itemprop=\"url\" content=\"https://inshorts.com/\"></span>\\n    <span itemprop=\"name\" content=\"Inshorts\"></span>\\n    <span itemprop=\"logo\" itemscope itemtype=\"https://schema.org/ImageObject\">\\n      <span itemprop=\"url\" content=\"https://assets.inshorts.com/inshorts/images/v1/variants/jpg/m/2018/11_nov/21_wed/img_1542823931298_497.jpg\"></span>\\n      <meta itemprop=\"width\" content=\"400\"></meta>\\n      <meta itemprop=\"height\" content=\"60\"></meta>\\n    </span>\\n  </span>\\n  <div class=\"news-card-image\" style= \"background-image: url(\\'https://assets.inshorts.com/inshorts/images/v1/variants/jpg/m/2019/03_mar/28_thu/img_1553762713355_162.jpg?resize=400px:*\\')\">\\n  </div>\\n  <div class=\"news-card-title news-right-box\">\\n    <a class=\"clickable\" onclick=\"ga(\\'send\\', {\\'hitType\\': \\'event\\', \\'eventCategory\\': \\'TitleOfNews\\', \\'eventAction\\': \\'clicked\\', \\'eventLabel\\': \\'Facebook%20and%20Instagram%20ban%20white%20nationalism%20after%20NZ%20attack)\\' });\"  style=\"color:#44444d!important\" href=\"/en/news/facebook-and-instagram-ban-white-nationalism-after-nz-attack-1553764195824\">\\n      <span itemprop=\"headline\">Facebook and Instagram ban white nationalism after NZ attack</span>\\n    </a>\\n    <div class=\"news-card-author-time news-card-author-time-in-title\">\\n      <a href=\"/prev/en/news/facebook-and-instagram-ban-white-nationalism-after-nz-attack-1553764195824\"><span class=\"short\">short</span></a> by <span class=\"author\">Arundhati Rawat</span> / \\n      <span class=\"time\" itemprop=\"datePublished\" content=\"2019-03-28T09:09:55.000Z\">02:39 pm</span> on <span clas=\"date\">28 Mar 2019,Thursday</span>\\n    </div>\\n  </div>\\n  <div class=\"news-card-content news-right-box\">\\n    <div itemprop=\"articleBody\">Facebook and Instagram are imposing a ban on praise, support and representation of white nationalism and white separatism on their platforms starting next week. Users who search for related terms will be directed to a non-profit which helps people leave hate groups. This comes weeks after the terror attack on two mosques in New Zealand&#39;s Christchurch was live-streamed on Facebook.</div>\\n    <div class=\"news-card-author-time news-card-author-time-in-content\">\\n      <a href=\"/prev/en/news/facebook-and-instagram-ban-white-nationalism-after-nz-attack-1553764195824\"><span class=\"short\">short</span></a> by <span class=\"author\">Arundhati Rawat</span> / \\n      <span class=\"time\" itemprop=\"dateModified\" content=\"2019-03-28T09:09:55.000Z\" >02:39 pm</span> on <span class=\"date\">28 Mar</span>\\n    </div>\\n  </div>\\n  \\n    <div class=\"news-card-footer news-right-box\">\\n      <div class=\"read-more\">read more at <a class=\"source\" onclick=\"ga(\\'send\\', {\\'hitType\\': \\'event\\', \\'eventCategory\\': \\'ReadMore\\', \\'eventAction\\': \\'clicked\\', \\'eventLabel\\': \\'Engadget\\' });\" target=\"_blank\" href=\"https://www.engadget.com/2019/03/27/facebook-instagram-white-nationalism-separatism-ban-hate-speech/?utm_campaign=fullarticle&amp;utm_medium=referral&amp;utm_source=inshorts \">Engadget</a></div>\\n    </div>\\n  \\n\\n</div>\\n\\n  \\n</div>\\n\\n\\n\\n\\n  \\n    <div id=\\'div-gpt-ad-1536748319959-ug1xueco-1\\' style=\\'height:250px; width:900px; margin: auto; margin-bottom: 2%;\\'>\\n      <script>\\n        googletag.cmd.push(function() { \\n          //News banner for desktop\\n          var slotIdWeb = \\'div-gpt-ad-1536748319959-ug1xueco-1\\';\\n          var slot = googletag.defineSlot(\\'/142919096/inshorts_website_900x250\\', [900, 250], slotIdWeb)\\n          .addService(googletag.pubads())\\n          .setCollapseEmptyDiv(true,true);\\n\\n          googletag.display(\\'div-gpt-ad-1536748319959-ug1xueco-1\\');\\n          googletag.pubads().refresh([slot]);\\n        });\\n      </script>\\n    </div>\\n  \\n\\n<div class=\"\">\\n<div class=\"news-card z-depth-1\" itemscope itemtype=\"http://schema.org/NewsArticle\">\\n  <span content=\"\" itemscope itemprop=\"mainEntityOfPage\" itemType=\"https://schema.org/WebPage\" itemid=\"https://inshorts.com/en/news/lesbian-dating-app-rela-exposes-data-of-5-million-users-1553764452629\"></span>\\n  <span itemtype=\"https://schema.org/Person\" itemscope=\"itemscope\" itemprop=\"author\">\\n    <span itemprop=\"name\" content=\"Kanishka Pandey\"></span>\\n  </span>\\n  <span itemprop=\"description\" content=\"Lesbian dating app Rela exposes data of 5 million users\"></span>\\n  <span itemprop=\"image\" itemscope itemtype=\"https://schema.org/ImageObject\">\\n    <meta itemprop=\"url\" content=\"https://assets.inshorts.com/inshorts/images/v1/variants/jpg/m/2019/03_mar/28_thu/img_1553761026844_932.jpg\"></meta>\\n    <meta itemprop=\"width\" content=\"864\"></meta>\\n    <meta itemprop=\"height\" content=\"483\"></meta>\\n  </span>\\n  <span itemtype=\"https://schema.org/Organization\" itemscope=\"itemscope\" itemprop=\"publisher\">\\n    <span itemprop=\"url\" content=\"https://inshorts.com/\"></span>\\n    <span itemprop=\"name\" content=\"Inshorts\"></span>\\n    <span itemprop=\"logo\" itemscope itemtype=\"https://schema.org/ImageObject\">\\n      <span itemprop=\"url\" content=\"https://assets.inshorts.com/inshorts/images/v1/variants/jpg/m/2018/11_nov/21_wed/img_1542823931298_497.jpg\"></span>\\n      <meta itemprop=\"width\" content=\"400\"></meta>\\n      <meta itemprop=\"height\" content=\"60\"></meta>\\n    </span>\\n  </span>\\n  <div class=\"news-card-image\" style= \"background-image: url(\\'https://assets.inshorts.com/inshorts/images/v1/variants/jpg/m/2019/03_mar/28_thu/img_1553761026844_932.jpg?resize=400px:*\\')\">\\n  </div>\\n  <div class=\"news-card-title news-right-box\">\\n    <a class=\"clickable\" onclick=\"ga(\\'send\\', {\\'hitType\\': \\'event\\', \\'eventCategory\\': \\'TitleOfNews\\', \\'eventAction\\': \\'clicked\\', \\'eventLabel\\': \\'Lesbian%20dating%20app%20Rela%20exposes%20data%20of%205%20million%20users)\\' });\"  style=\"color:#44444d!important\" href=\"/en/news/lesbian-dating-app-rela-exposes-data-of-5-million-users-1553764452629\">\\n      <span itemprop=\"headline\">Lesbian dating app Rela exposes data of 5 million users</span>\\n    </a>\\n    <div class=\"news-card-author-time news-card-author-time-in-title\">\\n      <a href=\"/prev/en/news/lesbian-dating-app-rela-exposes-data-of-5-million-users-1553764452629\"><span class=\"short\">short</span></a> by <span class=\"author\">Kanishka Pandey</span> / \\n      <span class=\"time\" itemprop=\"datePublished\" content=\"2019-03-28T09:14:12.000Z\">02:44 pm</span> on <span clas=\"date\">28 Mar 2019,Thursday</span>\\n    </div>\\n  </div>\\n  <div class=\"news-card-content news-right-box\">\\n    <div itemprop=\"articleBody\">Rela, a Chinese dating app for lesbian and bisexual women, exposed profiles including names, ethnicity and sexual preferences of over 5 million users through a server that wasn&#39;t protected with a password. Security researcher Victor Gevers, who first discovered the data leak, claimed the profiles were left exposed since June 2018. Rela has claimed the database has now been secured.</div>\\n    <div class=\"news-card-author-time news-card-author-time-in-content\">\\n      <a href=\"/prev/en/news/lesbian-dating-app-rela-exposes-data-of-5-million-users-1553764452629\"><span class=\"short\">short</span></a> by <span class=\"author\">Kanishka Pandey</span> / \\n      <span class=\"time\" itemprop=\"dateModified\" content=\"2019-03-28T09:14:12.000Z\" >02:44 pm</span> on <span class=\"date\">28 Mar</span>\\n    </div>\\n  </div>\\n  \\n    <div class=\"news-card-footer news-right-box\">\\n      <div class=\"read-more\">read more at <a class=\"source\" onclick=\"ga(\\'send\\', {\\'hitType\\': \\'event\\', \\'eventCategory\\': \\'ReadMore\\', \\'eventAction\\': \\'clicked\\', \\'eventLabel\\': \\'TechCrunch\\' });\" target=\"_blank\" href=\"https://techcrunch.com/2019/03/27/rela-data-exposed/?utm_campaign=fullarticle&amp;utm_medium=referral&amp;utm_source=inshorts \">TechCrunch</a></div>\\n    </div>\\n  \\n\\n</div>\\n\\n  \\n</div>\\n\\n\\n\\n\\n<div class=\"\">\\n<div class=\"news-card z-depth-1\" itemscope itemtype=\"http://schema.org/NewsArticle\">\\n  <span content=\"\" itemscope itemprop=\"mainEntityOfPage\" itemType=\"https://schema.org/WebPage\" itemid=\"https://inshorts.com/en/news/land-rover-to-use-uv-light-to-prevent-spread-of-superbugs-1553777181408\"></span>\\n  <span itemtype=\"https://schema.org/Person\" itemscope=\"itemscope\" itemprop=\"author\">\\n    <span itemprop=\"name\" content=\"Kanishka Pandey\"></span>\\n  </span>\\n  <span itemprop=\"description\" content=\"Land Rover to use UV light to prevent spread of &#39;superbugs&#39;\"></span>\\n  <span itemprop=\"image\" itemscope itemtype=\"https://schema.org/ImageObject\">\\n    <meta itemprop=\"url\" content=\"https://assets.inshorts.com/inshorts/images/v1/variants/jpg/m/2019/03_mar/28_thu/img_1553772832027_894.jpg\"></meta>\\n    <meta itemprop=\"width\" content=\"864\"></meta>\\n    <meta itemprop=\"height\" content=\"483\"></meta>\\n  </span>\\n  <span itemtype=\"https://schema.org/Organization\" itemscope=\"itemscope\" itemprop=\"publisher\">\\n    <span itemprop=\"url\" content=\"https://inshorts.com/\"></span>\\n    <span itemprop=\"name\" content=\"Inshorts\"></span>\\n    <span itemprop=\"logo\" itemscope itemtype=\"https://schema.org/ImageObject\">\\n      <span itemprop=\"url\" content=\"https://assets.inshorts.com/inshorts/images/v1/variants/jpg/m/2018/11_nov/21_wed/img_1542823931298_497.jpg\"></span>\\n      <meta itemprop=\"width\" content=\"400\"></meta>\\n      <meta itemprop=\"height\" content=\"60\"></meta>\\n    </span>\\n  </span>\\n  <div class=\"news-card-image\" style= \"background-image: url(\\'https://assets.inshorts.com/inshorts/images/v1/variants/jpg/m/2019/03_mar/28_thu/img_1553772832027_894.jpg?resize=400px:*\\')\">\\n  </div>\\n  <div class=\"news-card-title news-right-box\">\\n    <a class=\"clickable\" onclick=\"ga(\\'send\\', {\\'hitType\\': \\'event\\', \\'eventCategory\\': \\'TitleOfNews\\', \\'eventAction\\': \\'clicked\\', \\'eventLabel\\': \\'Land%20Rover%20to%20use%20UV%20light%20to%20prevent%20spread%20of%20&#39;superbugs&#39;)\\' });\"  style=\"color:#44444d!important\" href=\"/en/news/land-rover-to-use-uv-light-to-prevent-spread-of-superbugs-1553777181408\">\\n      <span itemprop=\"headline\">Land Rover to use UV light to prevent spread of &#39;superbugs&#39;</span>\\n    </a>\\n    <div class=\"news-card-author-time news-card-author-time-in-title\">\\n      <a href=\"/prev/en/news/land-rover-to-use-uv-light-to-prevent-spread-of-superbugs-1553777181408\"><span class=\"short\">short</span></a> by <span class=\"author\">Kanishka Pandey</span> / \\n      <span class=\"time\" itemprop=\"datePublished\" content=\"2019-03-28T12:46:21.000Z\">06:16 pm</span> on <span clas=\"date\">28 Mar 2019,Thursday</span>\\n    </div>\\n  </div>\\n  <div class=\"news-card-content news-right-box\">\\n    <div itemprop=\"articleBody\">British luxury carmaker Jaguar Land Rover claimed its future models could help prevent the spread of drug-resistant &#39;superbugs&#39; by using existing ultraviolet light technology. It said the technology, being used in the medical industry for over 70 years, will neutralise bacteria and viruses within the air conditioning system. The automaker cited medical trials that reduced four &#39;superbugs&#39; by 30%.</div>\\n    <div class=\"news-card-author-time news-card-author-time-in-content\">\\n      <a href=\"/prev/en/news/land-rover-to-use-uv-light-to-prevent-spread-of-superbugs-1553777181408\"><span class=\"short\">short</span></a> by <span class=\"author\">Kanishka Pandey</span> / \\n      <span class=\"time\" itemprop=\"dateModified\" content=\"2019-03-28T12:46:21.000Z\" >06:16 pm</span> on <span class=\"date\">28 Mar</span>\\n    </div>\\n  </div>\\n  \\n    <div class=\"news-card-footer news-right-box\">\\n      <div class=\"read-more\">read more at <a class=\"source\" onclick=\"ga(\\'send\\', {\\'hitType\\': \\'event\\', \\'eventCategory\\': \\'ReadMore\\', \\'eventAction\\': \\'clicked\\', \\'eventLabel\\': \\'Engadget\\' });\" target=\"_blank\" href=\"https://www.engadget.com/2019/03/27/jaguar-land-rover-ultraviolet-anti-virus/?utm_campaign=fullarticle&amp;utm_medium=referral&amp;utm_source=inshorts \">Engadget</a></div>\\n    </div>\\n  \\n\\n</div>\\n\\n  \\n</div>\\n\\n\\n\\n\\n<div class=\"\">\\n<div class=\"news-card z-depth-1\" itemscope itemtype=\"http://schema.org/NewsArticle\">\\n  <span content=\"\" itemscope itemprop=\"mainEntityOfPage\" itemType=\"https://schema.org/WebPage\" itemid=\"https://inshorts.com/en/news/microsoft-donates-500-patents-to-startups-1553830258728\"></span>\\n  <span itemtype=\"https://schema.org/Person\" itemscope=\"itemscope\" itemprop=\"author\">\\n    <span itemprop=\"name\" content=\"Arundhati Rawat\"></span>\\n  </span>\\n  <span itemprop=\"description\" content=\"Microsoft donates 500 patents to startups\"></span>\\n  <span itemprop=\"image\" itemscope itemtype=\"https://schema.org/ImageObject\">\\n    <meta itemprop=\"url\" content=\"https://assets.inshorts.com/inshorts/images/v1/variants/jpg/m/2019/03_mar/28_thu/img_1553788594945_8.jpg\"></meta>\\n    <meta itemprop=\"width\" content=\"864\"></meta>\\n    <meta itemprop=\"height\" content=\"483\"></meta>\\n  </span>\\n  <span itemtype=\"https://schema.org/Organization\" itemscope=\"itemscope\" itemprop=\"publisher\">\\n    <span itemprop=\"url\" content=\"https://inshorts.com/\"></span>\\n    <span itemprop=\"name\" content=\"Inshorts\"></span>\\n    <span itemprop=\"logo\" itemscope itemtype=\"https://schema.org/ImageObject\">\\n      <span itemprop=\"url\" content=\"https://assets.inshorts.com/inshorts/images/v1/variants/jpg/m/2018/11_nov/21_wed/img_1542823931298_497.jpg\"></span>\\n      <meta itemprop=\"width\" content=\"400\"></meta>\\n      <meta itemprop=\"height\" content=\"60\"></meta>\\n    </span>\\n  </span>\\n  <div class=\"news-card-image\" style= \"background-image: url(\\'https://assets.inshorts.com/inshorts/images/v1/variants/jpg/m/2019/03_mar/28_thu/img_1553788594945_8.jpg?resize=400px:*\\')\">\\n  </div>\\n  <div class=\"news-card-title news-right-box\">\\n    <a class=\"clickable\" onclick=\"ga(\\'send\\', {\\'hitType\\': \\'event\\', \\'eventCategory\\': \\'TitleOfNews\\', \\'eventAction\\': \\'clicked\\', \\'eventLabel\\': \\'Microsoft%20donates%20500%20patents%20to%20startups)\\' });\"  style=\"color:#44444d!important\" href=\"/en/news/microsoft-donates-500-patents-to-startups-1553830258728\">\\n      <span itemprop=\"headline\">Microsoft donates 500 patents to startups</span>\\n    </a>\\n    <div class=\"news-card-author-time news-card-author-time-in-title\">\\n      <a href=\"/prev/en/news/microsoft-donates-500-patents-to-startups-1553830258728\"><span class=\"short\">short</span></a> by <span class=\"author\">Arundhati Rawat</span> / \\n      <span class=\"time\" itemprop=\"datePublished\" content=\"2019-03-29T03:30:58.000Z\">09:00 am</span> on <span clas=\"date\">29 Mar 2019,Friday</span>\\n    </div>\\n  </div>\\n  <div class=\"news-card-content news-right-box\">\\n    <div itemprop=\"articleBody\">Microsoft has donated 500 patents to LOT Network, a non-profit organisation designed to protect companies from patent trolls, for member startups. Microsoft told TechCrunch that the patents would cover various technologies across regions like Europe and China. Startups would need to spend $1,000 per month on Micrsoft&#39;s Azure IP Advantage program that gives intellectual property-risk protection.</div>\\n    <div class=\"news-card-author-time news-card-author-time-in-content\">\\n      <a href=\"/prev/en/news/microsoft-donates-500-patents-to-startups-1553830258728\"><span class=\"short\">short</span></a> by <span class=\"author\">Arundhati Rawat</span> / \\n      <span class=\"time\" itemprop=\"dateModified\" content=\"2019-03-29T03:30:58.000Z\" >09:00 am</span> on <span class=\"date\">29 Mar</span>\\n    </div>\\n  </div>\\n  \\n    <div class=\"news-card-footer news-right-box\">\\n      <div class=\"read-more\">read more at <a class=\"source\" onclick=\"ga(\\'send\\', {\\'hitType\\': \\'event\\', \\'eventCategory\\': \\'ReadMore\\', \\'eventAction\\': \\'clicked\\', \\'eventLabel\\': \\'TechCrunch\\' });\" target=\"_blank\" href=\"https://techcrunch.com/2019/03/28/microsoft-gives-500-patents-to-startups/?utm_campaign=fullarticle&amp;utm_medium=referral&amp;utm_source=inshorts \">TechCrunch</a></div>\\n    </div>\\n  \\n\\n</div>\\n\\n  \\n</div>\\n\\n      </div>\\n      \\n      \\n      <div class=\"load-more-wrapper\">\\n        <div id=\"load-more-btn\" onclick=\"loadMoreNews()\" class=\"clickable unselectable load-more z-depth-1 hoverable\">Load More</div>\\n        <div id=\"load-more-gif\" style=\"display:none;\" class=\"clickable unselectable load-more\"><img id=\"load-more-gif\" src=\"https://assets.inshorts.com/website_assets/images/ajax-loader.gif\"/></div>\\n      </div>\\n      \\n\\n      \\n      <div class=\"my-red app-download-pane  hide-on-large-only\">\\n        <div class=\"container\">\\n          <div class=\"row\">\\n            <div class=\"col s12 center\" style=\"color:white;font-weight: 300;font-size:14px;margin-top: 28px;margin-bottom: 18px;\">\\n              For the best experience use <a target=\"_blank\" href=\"/mobile\" style=\"color:white;appearance: none;font-weight: 500;\">inshorts</a> app on your smartphone\\n            </div>\\n            \\n            \\n            <div class=\"col offset-s2 s8\">\\n              <a  onclick=\"ga(\\'send\\', {\\'hitType\\': \\'event\\', \\'eventCategory\\': \\'DownloadApp\\', \\'eventAction\\': \\'clicked\\', \\'eventLabel\\': \\'RedirectedToGooglePlayStore\\' });\" target=\"_blank\" href=\"https://play.google.com/store/apps/details?id=com.nis.app&referrer=utm_source%3DNews%2520In%2520Shorts%2520Website\"><img class=\"col l4 m8 s12\" src=\"https://assets.inshorts.com/website_assets/images/playstore.png\"/></a>\\n            </div>\\n            \\n          </div>\\n        </div>\\n      </div>\\n      \\n\\n    </div>\\n  </div>\\n  <!-- BODY END -->\\n  <footer class=\"page-footer teals\"> \\n  <div class=\"container\">\\n    <div class=\"row\" style=\"margin-bottom: 0px; padding-bottom: 5px;\">\\n\\n      <div class=\"col offset-l3 l3 m4 s12 right social-admin\">\\n        <div class=\"social-share\"><a onclick=\"ga(\\'send\\', {\\'hitType\\': \\'event\\', \\'eventCategory\\': \\'LinkToFaceBookPage\\', \\'eventAction\\': \\'clicked\\', \\'eventLabel\\': \\'RedirectedToFaceBook\\' });\" target=\"_blank\" href=\"https://www.facebook.com/inshortsapp\"><img src=\"https://assets.inshorts.com/website_assets/images/facebook.png\"/></a></div>\\n        <div class=\"social-share\"><a onclick=\"ga(\\'send\\', {\\'hitType\\': \\'event\\', \\'eventCategory\\': \\'LinkToTwitterPage\\', \\'eventAction\\': \\'clicked\\', \\'eventLabel\\': \\'RedirectedToTwitter\\' });\" target=\"_blank\" href=\"https://twitter.com/inshorts\"><img src=\"https://assets.inshorts.com/website_assets/images/twitter.png\"/></a></div>\\n        <div class=\"social-share\"><a onclick=\"ga(\\'send\\', {\\'hitType\\': \\'event\\', \\'eventCategory\\': \\'LinkToLinkedinPage\\', \\'eventAction\\': \\'clicked\\', \\'eventLabel\\': \\'RedirectedToLinkedin\\' });\" target=\"_blank\" href=\"https://www.linkedin.com/company/news-in-shorts\"><img src=\"https://assets.inshorts.com/website_assets/images/linkedin.png\"/></a></div>\\n      </div>\\n\\n\\n      <div class=\"col m4 l3 s6 footer-left-pane\">\\n        <div class=\"right\"><img width=\"160px\" height=\"48px\" src=\"https://assets.inshorts.com/website_assets/images/logo_footer.png\"/></div>\\n\\n        <div class=\"copy-text\" >\\n          <span><span style=\"color:#cfcfcf;font-family: \\'Conv_ClanPro-Bold\\'\">inshorts</span> medialabs pvt. ltd.</span><br/>\\n          &copy;<span style=\"font-size:12px\">COPYRIGHT 2019</span>\\n        </div>\\n      </div>\\n      <div class=\"col m4 l3 s6 footer-right-pane\">\\n        <div id=\"contactUsBtn\" class=\"left clickable\" style=\"margin-top: -5px;\"><img width=\"132px\" height=\"48px\" src=\"https://assets.inshorts.com/website_assets/images/contact_icon.png\"/></div>              \\n        <div class=\"terms-text\">\\n          <a class=\"tnc\" style=\"color: #fff;\" onclick=\"ga(\\'send\\', {\\'hitType\\': \\'event\\', \\'eventCategory\\': \\'LinkToTermsAndConditionsAndPP\\', \\'eventAction\\': \\'clicked\\', \\'eventLabel\\': \\'RedirectedToTermsAndConditions\\' });\" target=\"_blank\" href=\"/tnc\"><span>Terms &amp; conditions</span><br/>\\n          <span>Privacy Policies</span>\\n          </a>\\n          <br/>\\n          <a class=\"tnc\" style=\"color: #fff;\" onclick=\"ga(\\'send\\', {\\'hitType\\': \\'event\\', \\'eventCategory\\': \\'LinkToSitemap\\', \\'eventAction\\': \\'clicked\\', \\'eventLabel\\': \\'RedirectedToSitemap\\' });\" target=\"_blank\" href=\"/editorial_policy\">\\n          <span>Editorial Policy</span>\\n          </a>\\n        </div>\\n      </div>\\n    </div>\\n  </div>\\n  <div id=\"contactUsModal\" class=\"modal_contact row\">\\n    <!-- Modal content -->\\n      <div class=\"modal-content col l4 m4 s8 offset-s2 offset-l4 offset-m4\">\\n        <span class=\"close\">&times;</span>\\n        <div class=\"contact\">\\n          <a target=\"_blank\" href=\"mailto:careers@inshorts.com?subject=Inshorts%20website%20contact%20form\">\\n            <button id=\"myBtn\">Contact Hiring Team</button>\\n          </a>\\n        </div>\\n        <div class=\"contact\">\\n          <a target=\"_blank\" href=\"mailto:Admin@inshorts.com?subject=Inshorts%20website%20contact%20form\">\\n            <button id=\"myBtn\">Contact Admin Team</button>\\n          </a>\\n        </div>\\n        <div class=\"contact\">\\n          <a target=\"_blank\" href=\"mailto:Marketing@inshorts.com?subject=Inshorts%20website%20contact%20form\">\\n            <button id=\"myBtn\">Contact Marketing Team</button>\\n          </a>\\n        </div>\\n        <div class=\"contact\">\\n          <a target=\"_blank\" href=\"mailto:Editorial@inshorts.com?subject=Inshorts%20website%20contact%20form\">\\n            <button id=\"myBtn\">Contact Editorial Team</button>\\n          </a>\\n        </div>\\n        <div class=\"contact\">\\n          <a target=\"_blank\" href=\"mailto:Sales@inshorts.com?subject=Inshorts%20website%20contact%20form\">\\n            <button id=\"myBtn\">Contact Sales Team</button>\\n          </a>\\n        </div>\\n        <div class=\"contact\">\\n          <a target=\"_blank\" href=\"mailto:Contact@inshorts.com?subject=Inshorts%20website%20contact%20form\">\\n            <button id=\"myBtn\">Contact For Any Other Query</button>\\n          </a>\\n        </div>\\n      </div>\\n  </div>\\n</footer>\\n<script>\\nvar modal = document.getElementById(\\'contactUsModal\\');\\n\\n// Get the button that opens the modal\\nvar btn = document.getElementById(\"contactUsBtn\");\\n\\n// Get the <span> element that closes the modal\\nvar span = document.getElementsByClassName(\"close\")[0];\\n\\n// When the user clicks on the button, open the modal \\nbtn.onclick = function() {\\n    modal.style.display = \"block\";\\n}\\n\\n// When the user clicks on <span> (x), close the modal\\nspan.onclick = function() {\\n    modal.style.display = \"none\";\\n}\\n\\n// When the user clicks anywhere outside of the modal, close it\\nwindow.onclick = function(event) {\\n    if (event.target == modal) {\\n        modal.style.display = \"none\";\\n    }\\n}\\n</script>\\n\\n\\n  <!-- Eliminate render-blocking JavaScript and CSS in above-the-fold content -->\\n  <script src=\"https://ajax.googleapis.com/ajax/libs/jquery/1.8/jquery.min.js\"></script>\\n  <script src=\"https://cdnjs.cloudflare.com/ajax/libs/materialize/0.97.0/js/materialize.min.js\"></script>\\n  \\n  <script type=\"text/javascript\" src=\"/dist/scripts/index.js\"></script>\\n  <script type=\"text/javascript\" src=\"/dist/scripts/read.js\"></script>\\n  <script src=\"/dist/scripts/jquery.scrolldepth.min.js\"></script>\\n  <script type=\"text/javascript\">\\n\\n    var min_news_id = \"hprzcq5r-1\";\\n    function loadMoreNews(){\\n      $(\"#load-more-btn\").hide();\\n      $(\"#load-more-gif\").show();\\n      $.post(\"/en/ajax/more_news\",{\\'category\\':\\'technology\\',\\'news_offset\\':min_news_id},function(data){\\n          data = JSON.parse(data);\\n          min_news_id = data.min_news_id||min_news_id;\\n          $(\".card-stack\").append(data.html);\\n      })\\n      .fail(function(){alert(\"Error : unable to load more news\");})\\n      .always(function(){$(\"#load-more-btn\").show();$(\"#load-more-gif\").hide();});\\n    }\\n    jQuery.scrollDepth();\\n  </script>\\n\\n  <!-- Eliminate render-blocking JavaScript and CSS in above-the-fold content -->\\n\\n</body>\\n</html>\\n'"
      ]
     },
     "execution_count": 8,
     "metadata": {},
     "output_type": "execute_result"
    }
   ],
   "source": [
    "data = requests.get(url)\n",
    "data.content"
   ]
  },
  {
   "cell_type": "code",
   "execution_count": 9,
   "metadata": {},
   "outputs": [],
   "source": [
    "soup = BeautifulSoup(data.content, 'html.parser')"
   ]
  },
  {
   "cell_type": "code",
   "execution_count": 10,
   "metadata": {},
   "outputs": [],
   "source": [
    "news_articles = [{'news_headline': headline.find('span', attrs={'itemprop': 'headline'}).string,\n",
    "                  'news_article': article.find('div', attrs={'itemprop': 'articleBody'}).string,\n",
    "                  'news_category': news_category} \n",
    "                 for headline, article in zip(soup.find_all('div', \n",
    "                                                            class_ = ['news-card-title news-right-box']), \n",
    "                                              soup.find_all('div', class_=['news-card-content news-right-box']))]"
   ]
  },
  {
   "cell_type": "code",
   "execution_count": 11,
   "metadata": {},
   "outputs": [
    {
     "data": {
      "text/plain": [
       "[{'news_headline': 'Huawei promises to reinvent smartphone photography with P30 Pro',\n",
       "  'news_article': \"Huawei P30 Pro launched in Paris today with a promise to revolutionize smartphone photography. It offers cameras with SuperSpectrum Sensor, an extreme optical SuperZoom lens, a new Time of Flight (TOF) camera, better OIS and AIS image stabilization technology. Seeking to uphold its legacy of innovation, Huawei's P30 Pro is packed with consumer-centric technology, previously unheard of in the industry.\",\n",
       "  'news_category': 'technology'},\n",
       " {'news_headline': 'Facebook, Google scientists win $1mn Turing Award for developing AI',\n",
       "  'news_article': 'Three scientists dubbed the \"Godfathers of AI\" have won the 2018 Turing Award, which carries a $1-million prize funded by Google. The trio are Facebook Chief AI Scientist Yann LeCun, Google researcher Geoffrey Hinton and Yoshua Bengio from University of Montreal. The scientists have worked for over 30 years on neural networks that power tasks like facial and speech recognition.',\n",
       "  'news_category': 'technology'},\n",
       " {'news_headline': \"Hyd man's smartphone, bought 2 days ago, explodes in his pocket\",\n",
       "  'news_article': \"A 25-year-old man's Oppo A5 exploded in his pocket while he was riding a two-wheeler in Hyderabad. The man received burn injuries and injuries on forehead and eyes as he fell after losing balance of the vehicle due to the blast. A relative of the victim informed that the phone was purchased just two days before the incident.\",\n",
       "  'news_category': 'technology'},\n",
       " {'news_headline': 'What software update has Boeing proposed after two 737 MAX crashes?',\n",
       "  'news_article': 'Boeing said it has reprogrammed software on its 737 MAX aircraft to prevent erroneous data from triggering an anti-stall system, that likely caused the two nose-down crashes, killing 346 people. Awaiting US aviation regulator nod, the system would compare data from both of the angle-of-attack sensors, rather than relying on one, and will give pilots more control of the aircraft.',\n",
       "  'news_category': 'technology'},\n",
       " {'news_headline': \"Tesla says it built Asia's largest energy storage system in 2 days\",\n",
       "  'news_article': \"Elon Musk-led Tesla said it has built Asia's largest energy storage system at Osaka train station in Japan. The 7 MWh system with 42 Powerpack battery units can provide energy to move a train and its passengers for up to 30 minutes to the nearest station during a power failure, Tesla said, adding its hardware was installed in two days.\",\n",
       "  'news_category': 'technology'},\n",
       " {'news_headline': 'Facebook mentions Kashmir as separate country in blog, apologises',\n",
       "  'news_article': 'Facebook has apologised for naming Kashmir as a separate country in a blog post that mentioned countries targeted by an Iranian network and said it has removed the reference. Earlier, Facebook said it removed 513 Iran-linked pages, groups and accounts for \"coordinated inauthentic\" behaviour. The blog stated the page admins were using fake accounts to impersonate media and political organisations.',\n",
       "  'news_category': 'technology'},\n",
       " {'news_headline': \"Google's Pichai said he's committed to US military, not China: Trump\",\n",
       "  'news_article': 'Following a meeting with Google CEO Sundar Pichai, US President Donald Trump tweeted, \"Pichai stated strongly he is totally committed to the US Military, not the Chinese Military\". Trump said they also discussed political fairness and various things Google can do for the US. Earlier this month, Trump alleged Google\\'s business activities in China were \"helping China and their military.\"',\n",
       "  'news_category': 'technology'},\n",
       " {'news_headline': 'US charges Facebook over racial discrimination in housing ads',\n",
       "  'news_article': \"The US Department of Housing and Urban Development (HUD) has charged Facebook for violating the Fair Housing Act by encouraging, enabling and causing housing discrimination in advertising on its platforms. HUD is seeking damages for any person harmed by Facebook's advertising systems, which allowed employers and landlords to limit audiences on the basis of race, ethnicity and gender.\",\n",
       "  'news_category': 'technology'},\n",
       " {'news_headline': \"After Tim Apple, Trump calls Google CEO Pichai 'President of Google'\",\n",
       "  'news_article': 'Days after referring to Apple CEO Tim Cook as Tim \\'Apple\\', US President called Google CEO Sundar Pichai as the \\'President of Google\\' in his tweet. \"Just met with @SundarPichai, President of @Google, who is obviously doing quite well. He stated strongly that he is totally committed to the U.S. Military, not the Chinese Military,\" Trump had tweeted.',\n",
       "  'news_category': 'technology'},\n",
       " {'news_headline': 'Xiaomi trolls Huawei over phone launch after Huawei trolled Apple',\n",
       "  'news_article': 'China\\'s Xiaomi trolled rival Huawei on Facebook with an image of Huawei\\'s new P30 smartphones, captioned, \"Is this really necessary?\" Xiaomi also posted an image comparing \\'Mi 9\\' and \\'Huawei P30\\' captioned \"Do you think...flagship smartphone should cost...a fortune?\" Huawei had trolled Apple after their March 25 event tweeting, \"Thanks for the warm up, now on to the main event\". ',\n",
       "  'news_category': 'technology'},\n",
       " {'news_headline': 'Facebook launches video feature for LS election candidates',\n",
       "  'news_article': \"Facebook is introducing a new feature, 'Candidate Connect', to let 2019 Lok Sabha election candidates make 20-second videos to connect with voters. In the videos, to be grouped by constituencies, candidates will answer a set of questions, which Facebook said are outcomes of local consumer research. The videos will appear at the top of a user's 'News Feed'.\",\n",
       "  'news_category': 'technology'},\n",
       " {'news_headline': 'Apple apologises over problems in some MacBook keyboards',\n",
       "  'news_article': 'Apple has apologised after acknowledging reports of users facing problems with some MacBook keyboards. \"We are aware that a small number of users are having issues with their third-generation butterfly keyboard...for that we are sorry,\" Apple said. \"The vast majority of Mac notebook customers are having a positive experience with the new keyboard,\" it added.',\n",
       "  'news_category': 'technology'},\n",
       " {'news_headline': 'Twitter warns of viral birthday prank that locks accounts',\n",
       "  'news_article': 'Twitter on Wednesday put out a warning after a viral prank that asked users to change their birth years to 2007 to unlock new colour schemes, was locking them out of their accounts. \"Please don’t do this. You\\'ll get locked out for being under 13 years old,\" the micro-blogging platform tweeted. The number of users affected by it weren\\'t disclosed.  ',\n",
       "  'news_category': 'technology'},\n",
       " {'news_headline': \"Microsoft asks teams to avoid public April Fools' Day pranks\",\n",
       "  'news_article': 'Microsoft\\'s marketing chief Chris Capossela in an internal memo asked teams to not participate in public-facing April Fools\\' Day stunts. Data suggests stunts have limited positive impact and can result in unwanted news cycles, the memo obtained by The Verge read. \"I believe we\\'ve more to lose than gain by attempting to be funny on this one day,\" it added. ',\n",
       "  'news_category': 'technology'},\n",
       " {'news_headline': 'EU backs reforms for better pay for online content, memes excluded',\n",
       "  'news_article': 'The European Parliament has backed reforms to nearly 20-year-old copyright rules, making internet platforms directly responsible for content uploaded. The Parliament said the reforms were aimed to help musicians and news publishers, among others, negotiate better remuneration for use of their works, when featured on internet platforms. Memes and GIFs will continue to be shareable online, it added.',\n",
       "  'news_category': 'technology'},\n",
       " {'news_headline': 'US Air Force unveils AI-powered self-driving drone concept',\n",
       "  'news_article': \"The US Air Force unveiled a conceptual design for an artificial intelligence-powered (AI) self-driving drone under its 'Skyborg' program. The primary goal of the program is to deploy a modular, fighter-like aircraft that can be used to quickly update and help warfighters, the US Air Force said. It plans to launch the drone's prototypes as early as 2023.\",\n",
       "  'news_category': 'technology'},\n",
       " {'news_headline': 'Silicon Valley startup Palantir wins $800M US Army contract',\n",
       "  'news_article': 'California-based software startup Palantir Technologies has won an $800-million contract to build complex battlefield intelligence system for US Army. This was reportedly the first time that the US signed a Silicon Valley software company to lead a defence program of record, as opposed to a traditional military contractor. Palantir was competing against Raytheon for the contract for a year. ',\n",
       "  'news_category': 'technology'},\n",
       " {'news_headline': 'Sony Chairman and former CEO Hirai to retire after 35 years',\n",
       "  'news_article': 'Sony Chairman and former Chief Executive Officer (CEO) Kazuo Hirai will retire on June 18 after spending 35 years at the company, the Japanese multinational conglomerate announced. Hirai was appointed CEO and President of Sony in 2012, shortly after it lost $6.4 billion in 2011. He stepped down as the company CEO and became the Chairman in 2018.',\n",
       "  'news_category': 'technology'},\n",
       " {'news_headline': 'Fired Tinder founder seeks dismissal of $250mn lawsuit by owners',\n",
       "  'news_article': 'Ousted Tinder Co-founder Sean Rad, has asked the New York Supreme Court to dismiss a $250-million lawsuit filed against him by owners Match Group and IAC. Rad was accused of violating his employment contract by copying internal files before leaving Tinder. Rad claims his contract let him back up his work emails and retain them after leaving.',\n",
       "  'news_category': 'technology'},\n",
       " {'news_headline': 'Some iPhones may face ban in US over Apple-Qualcomm dispute',\n",
       "  'news_article': \"A US Trade judge recommended that certain iPhone models be banned after concluding that Apple had infringed a Qualcomm patent. In a separate ruling on the same day, US' International Trade Commission rejected Qualcomm's complaint that Apple had infringed a battery-saving feature related patent, Bloomberg reported. The American companies have been locked in a dispute for two years.\",\n",
       "  'news_category': 'technology'},\n",
       " {'news_headline': \"Largest US LGBTQ group suspends Google over 'conversion' app\",\n",
       "  'news_article': 'Google lost support from largest US LGBTQ group, Human Rights Campaign, over a \\'conversion therapy\\' app to change a person\\'s sexual orientation or gender identity. The group said it urged Google to remove the app, which is \"life-threatening to LGBTQ youth\" and \"clearly violates\" Google\\'s own standards. It has withheld Google from its annual Corporate Equality Index (CEI) rating.',\n",
       "  'news_category': 'technology'},\n",
       " {'news_headline': 'Facebook and Instagram ban white nationalism after NZ attack',\n",
       "  'news_article': \"Facebook and Instagram are imposing a ban on praise, support and representation of white nationalism and white separatism on their platforms starting next week. Users who search for related terms will be directed to a non-profit which helps people leave hate groups. This comes weeks after the terror attack on two mosques in New Zealand's Christchurch was live-streamed on Facebook.\",\n",
       "  'news_category': 'technology'},\n",
       " {'news_headline': 'Lesbian dating app Rela exposes data of 5 million users',\n",
       "  'news_article': \"Rela, a Chinese dating app for lesbian and bisexual women, exposed profiles including names, ethnicity and sexual preferences of over 5 million users through a server that wasn't protected with a password. Security researcher Victor Gevers, who first discovered the data leak, claimed the profiles were left exposed since June 2018. Rela has claimed the database has now been secured.\",\n",
       "  'news_category': 'technology'},\n",
       " {'news_headline': \"Land Rover to use UV light to prevent spread of 'superbugs'\",\n",
       "  'news_article': \"British luxury carmaker Jaguar Land Rover claimed its future models could help prevent the spread of drug-resistant 'superbugs' by using existing ultraviolet light technology. It said the technology, being used in the medical industry for over 70 years, will neutralise bacteria and viruses within the air conditioning system. The automaker cited medical trials that reduced four 'superbugs' by 30%.\",\n",
       "  'news_category': 'technology'},\n",
       " {'news_headline': 'Microsoft donates 500 patents to startups',\n",
       "  'news_article': \"Microsoft has donated 500 patents to LOT Network, a non-profit organisation designed to protect companies from patent trolls, for member startups. Microsoft told TechCrunch that the patents would cover various technologies across regions like Europe and China. Startups would need to spend $1,000 per month on Micrsoft's Azure IP Advantage program that gives intellectual property-risk protection.\",\n",
       "  'news_category': 'technology'}]"
      ]
     },
     "execution_count": 11,
     "metadata": {},
     "output_type": "execute_result"
    }
   ],
   "source": [
    "news_data.extend(news_articles)\n",
    "news_data"
   ]
  },
  {
   "cell_type": "code",
   "execution_count": 12,
   "metadata": {},
   "outputs": [],
   "source": [
    "df = pd.DataFrame(news_data)"
   ]
  },
  {
   "cell_type": "code",
   "execution_count": 13,
   "metadata": {},
   "outputs": [],
   "source": [
    "df = df[['news_headline', 'news_article', 'news_category']]"
   ]
  },
  {
   "cell_type": "code",
   "execution_count": 14,
   "metadata": {},
   "outputs": [
    {
     "data": {
      "text/html": [
       "<div>\n",
       "<style scoped>\n",
       "    .dataframe tbody tr th:only-of-type {\n",
       "        vertical-align: middle;\n",
       "    }\n",
       "\n",
       "    .dataframe tbody tr th {\n",
       "        vertical-align: top;\n",
       "    }\n",
       "\n",
       "    .dataframe thead th {\n",
       "        text-align: right;\n",
       "    }\n",
       "</style>\n",
       "<table border=\"1\" class=\"dataframe\">\n",
       "  <thead>\n",
       "    <tr style=\"text-align: right;\">\n",
       "      <th></th>\n",
       "      <th>news_headline</th>\n",
       "      <th>news_article</th>\n",
       "      <th>news_category</th>\n",
       "    </tr>\n",
       "  </thead>\n",
       "  <tbody>\n",
       "    <tr>\n",
       "      <th>0</th>\n",
       "      <td>Huawei promises to reinvent smartphone photogr...</td>\n",
       "      <td>Huawei P30 Pro launched in Paris today with a ...</td>\n",
       "      <td>technology</td>\n",
       "    </tr>\n",
       "    <tr>\n",
       "      <th>1</th>\n",
       "      <td>Facebook, Google scientists win $1mn Turing Aw...</td>\n",
       "      <td>Three scientists dubbed the \"Godfathers of AI\"...</td>\n",
       "      <td>technology</td>\n",
       "    </tr>\n",
       "    <tr>\n",
       "      <th>2</th>\n",
       "      <td>Hyd man's smartphone, bought 2 days ago, explo...</td>\n",
       "      <td>A 25-year-old man's Oppo A5 exploded in his po...</td>\n",
       "      <td>technology</td>\n",
       "    </tr>\n",
       "  </tbody>\n",
       "</table>\n",
       "</div>"
      ],
      "text/plain": [
       "                                       news_headline  \\\n",
       "0  Huawei promises to reinvent smartphone photogr...   \n",
       "1  Facebook, Google scientists win $1mn Turing Aw...   \n",
       "2  Hyd man's smartphone, bought 2 days ago, explo...   \n",
       "\n",
       "                                        news_article news_category  \n",
       "0  Huawei P30 Pro launched in Paris today with a ...    technology  \n",
       "1  Three scientists dubbed the \"Godfathers of AI\"...    technology  \n",
       "2  A 25-year-old man's Oppo A5 exploded in his po...    technology  "
      ]
     },
     "execution_count": 14,
     "metadata": {},
     "output_type": "execute_result"
    }
   ],
   "source": [
    "df.head(3)"
   ]
  },
  {
   "cell_type": "markdown",
   "metadata": {},
   "source": [
    "# Prepare user defined function to extract data from inshorts.com"
   ]
  },
  {
   "cell_type": "code",
   "execution_count": 18,
   "metadata": {},
   "outputs": [],
   "source": [
    "urls_list = ['https://inshorts.com/en/read/technology',\n",
    "             'https://inshorts.com/en/read/sports',\n",
    "             'https://inshorts.com/en/read/world']"
   ]
  },
  {
   "cell_type": "code",
   "execution_count": 19,
   "metadata": {},
   "outputs": [],
   "source": [
    "def datasetPrepare(urls_list):\n",
    "    news_data = []\n",
    "    for url in urls_list:\n",
    "        news_category = url.split('/')[-1]\n",
    "        data = requests.get(url)\n",
    "        soup = BeautifulSoup(data.content, 'html.parser')\n",
    "        news_articles = [{'news_headline': headline.find('span', attrs={\"itemprop\": \"headline\"}).string,\n",
    "                          'news_article': article.find('div', attrs={\"itemprop\": \"articleBody\"}).string,\n",
    "                          'news_category': news_category}\n",
    "                         \n",
    "                            for headline, article in \n",
    "                             zip(soup.find_all('div', class_=[\"news-card-title news-right-box\"]),\n",
    "                                 soup.find_all('div', class_=[\"news-card-content news-right-box\"]))\n",
    "                        ]\n",
    "        news_data.extend(news_articles) \n",
    "    df =  pd.DataFrame(news_data)\n",
    "    df = df[['news_headline', 'news_article', 'news_category']]\n",
    "    return df    "
   ]
  },
  {
   "cell_type": "code",
   "execution_count": 20,
   "metadata": {},
   "outputs": [],
   "source": [
    "news_df = datasetPrepare(urls_list)"
   ]
  },
  {
   "cell_type": "code",
   "execution_count": 21,
   "metadata": {},
   "outputs": [
    {
     "name": "stdout",
     "output_type": "stream",
     "text": [
      "<class 'pandas.core.frame.DataFrame'>\n",
      "RangeIndex: 74 entries, 0 to 73\n",
      "Data columns (total 3 columns):\n",
      "news_headline    74 non-null object\n",
      "news_article     74 non-null object\n",
      "news_category    74 non-null object\n",
      "dtypes: object(3)\n",
      "memory usage: 1.8+ KB\n"
     ]
    }
   ],
   "source": [
    "news_df.info()"
   ]
  },
  {
   "cell_type": "code",
   "execution_count": 22,
   "metadata": {},
   "outputs": [
    {
     "data": {
      "text/html": [
       "<div>\n",
       "<style scoped>\n",
       "    .dataframe tbody tr th:only-of-type {\n",
       "        vertical-align: middle;\n",
       "    }\n",
       "\n",
       "    .dataframe tbody tr th {\n",
       "        vertical-align: top;\n",
       "    }\n",
       "\n",
       "    .dataframe thead th {\n",
       "        text-align: right;\n",
       "    }\n",
       "</style>\n",
       "<table border=\"1\" class=\"dataframe\">\n",
       "  <thead>\n",
       "    <tr style=\"text-align: right;\">\n",
       "      <th></th>\n",
       "      <th>news_headline</th>\n",
       "      <th>news_article</th>\n",
       "      <th>news_category</th>\n",
       "    </tr>\n",
       "  </thead>\n",
       "  <tbody>\n",
       "    <tr>\n",
       "      <th>0</th>\n",
       "      <td>Huawei promises to reinvent smartphone photogr...</td>\n",
       "      <td>Huawei P30 Pro launched in Paris today with a ...</td>\n",
       "      <td>technology</td>\n",
       "    </tr>\n",
       "    <tr>\n",
       "      <th>1</th>\n",
       "      <td>US charges Facebook over racial discrimination...</td>\n",
       "      <td>The US Department of Housing and Urban Develop...</td>\n",
       "      <td>technology</td>\n",
       "    </tr>\n",
       "    <tr>\n",
       "      <th>2</th>\n",
       "      <td>Tesla says it built Asia's largest energy stor...</td>\n",
       "      <td>Elon Musk-led Tesla said it has built Asia's l...</td>\n",
       "      <td>technology</td>\n",
       "    </tr>\n",
       "    <tr>\n",
       "      <th>3</th>\n",
       "      <td>Google's Pichai said he's committed to US mili...</td>\n",
       "      <td>Following a meeting with Google CEO Sundar Pic...</td>\n",
       "      <td>technology</td>\n",
       "    </tr>\n",
       "    <tr>\n",
       "      <th>4</th>\n",
       "      <td>After Tim Apple, Trump calls Google CEO Pichai...</td>\n",
       "      <td>Days after referring to Apple CEO Tim Cook as ...</td>\n",
       "      <td>technology</td>\n",
       "    </tr>\n",
       "  </tbody>\n",
       "</table>\n",
       "</div>"
      ],
      "text/plain": [
       "                                       news_headline  \\\n",
       "0  Huawei promises to reinvent smartphone photogr...   \n",
       "1  US charges Facebook over racial discrimination...   \n",
       "2  Tesla says it built Asia's largest energy stor...   \n",
       "3  Google's Pichai said he's committed to US mili...   \n",
       "4  After Tim Apple, Trump calls Google CEO Pichai...   \n",
       "\n",
       "                                        news_article news_category  \n",
       "0  Huawei P30 Pro launched in Paris today with a ...    technology  \n",
       "1  The US Department of Housing and Urban Develop...    technology  \n",
       "2  Elon Musk-led Tesla said it has built Asia's l...    technology  \n",
       "3  Following a meeting with Google CEO Sundar Pic...    technology  \n",
       "4  Days after referring to Apple CEO Tim Cook as ...    technology  "
      ]
     },
     "execution_count": 22,
     "metadata": {},
     "output_type": "execute_result"
    }
   ],
   "source": [
    "news_df.head(5)"
   ]
  },
  {
   "cell_type": "code",
   "execution_count": 23,
   "metadata": {},
   "outputs": [
    {
     "data": {
      "text/plain": [
       "technology    25\n",
       "world         25\n",
       "sports        24\n",
       "Name: news_category, dtype: int64"
      ]
     },
     "execution_count": 23,
     "metadata": {},
     "output_type": "execute_result"
    }
   ],
   "source": [
    "news_df.news_category.value_counts()"
   ]
  },
  {
   "cell_type": "markdown",
   "metadata": {},
   "source": [
    "# Text Wrangling and Pre-processing"
   ]
  },
  {
   "cell_type": "code",
   "execution_count": 24,
   "metadata": {},
   "outputs": [],
   "source": [
    "import spacy\n",
    "import nltk\n",
    "from nltk.tokenize.toktok import ToktokTokenizer\n",
    "import re\n",
    "import unicodedata"
   ]
  },
  {
   "cell_type": "code",
   "execution_count": 25,
   "metadata": {},
   "outputs": [],
   "source": [
    "nlp = spacy.load('en')"
   ]
  },
  {
   "cell_type": "code",
   "execution_count": 26,
   "metadata": {},
   "outputs": [
    {
     "name": "stdout",
     "output_type": "stream",
     "text": [
      "[nltk_data] Downloading package stopwords to\n",
      "[nltk_data]     C:\\Users\\Narayana_GLB\\AppData\\Roaming\\nltk_data...\n",
      "[nltk_data]   Package stopwords is already up-to-date!\n"
     ]
    },
    {
     "data": {
      "text/plain": [
       "True"
      ]
     },
     "execution_count": 26,
     "metadata": {},
     "output_type": "execute_result"
    }
   ],
   "source": [
    "nltk.download('stopwords')"
   ]
  },
  {
   "cell_type": "code",
   "execution_count": 27,
   "metadata": {},
   "outputs": [],
   "source": [
    "tokenizer = ToktokTokenizer()\n",
    "stopword_list = nltk.corpus.stopwords.words('english')\n",
    "stopword_list.remove('no')\n",
    "stopword_list.remove('not')"
   ]
  },
  {
   "cell_type": "markdown",
   "metadata": {},
   "source": [
    "## Remove HTML tags"
   ]
  },
  {
   "cell_type": "code",
   "execution_count": 28,
   "metadata": {},
   "outputs": [
    {
     "data": {
      "text/plain": [
       "'Some important text'"
      ]
     },
     "execution_count": 28,
     "metadata": {},
     "output_type": "execute_result"
    }
   ],
   "source": [
    "def strip_html_tags(text):\n",
    "    soup = BeautifulSoup(text, \"html.parser\")\n",
    "    stripped_text = soup.get_text()\n",
    "    return stripped_text\n",
    "\n",
    "strip_html_tags('<html><h2>Some important text</h2></html>')"
   ]
  },
  {
   "cell_type": "markdown",
   "metadata": {},
   "source": [
    "## Remove accented characters"
   ]
  },
  {
   "cell_type": "code",
   "execution_count": 29,
   "metadata": {},
   "outputs": [
    {
     "data": {
      "text/plain": [
       "'Some Accented text'"
      ]
     },
     "execution_count": 29,
     "metadata": {},
     "output_type": "execute_result"
    }
   ],
   "source": [
    "def remove_accented_chars(text):\n",
    "    text = unicodedata.normalize('NFKD', text).encode('ascii', 'ignore').decode('utf-8', 'ignore')\n",
    "    return text\n",
    "\n",
    "remove_accented_chars('Sómě Áccěntěd těxt')"
   ]
  },
  {
   "cell_type": "markdown",
   "metadata": {},
   "source": [
    "## Remove special characters"
   ]
  },
  {
   "cell_type": "code",
   "execution_count": 30,
   "metadata": {},
   "outputs": [],
   "source": [
    "def remove_special_characters(text, remove_digits=False):\n",
    "    pattern = r'[^a-zA-z0-9\\s]' if not remove_digits else r'[^a-zA-z\\s]'\n",
    "    text = re.sub(pattern, '', text)\n",
    "    return text"
   ]
  },
  {
   "cell_type": "code",
   "execution_count": 31,
   "metadata": {},
   "outputs": [
    {
     "data": {
      "text/plain": [
       "'Well this was fun What do you think '"
      ]
     },
     "execution_count": 31,
     "metadata": {},
     "output_type": "execute_result"
    }
   ],
   "source": [
    "remove_special_characters(\"Well this was fun! What do you think? 123#@!\", remove_digits=True)"
   ]
  },
  {
   "cell_type": "markdown",
   "metadata": {},
   "source": [
    "## Text lemmatization"
   ]
  },
  {
   "cell_type": "code",
   "execution_count": 32,
   "metadata": {},
   "outputs": [],
   "source": [
    "def lemmatize_text(text):\n",
    "    text = nlp(text)\n",
    "    text = ' '.join([word.lemma_ if word.lemma_ != '-PRON-' else word.text for word in text])\n",
    "    return text"
   ]
  },
  {
   "cell_type": "code",
   "execution_count": 33,
   "metadata": {},
   "outputs": [
    {
     "data": {
      "text/plain": [
       "'My system keep crash ! his crashed yesterday , ours crash daily'"
      ]
     },
     "execution_count": 33,
     "metadata": {},
     "output_type": "execute_result"
    }
   ],
   "source": [
    "lemmatize_text(\"My system keeps crashing! his crashed yesterday, ours crashes daily\")"
   ]
  },
  {
   "cell_type": "markdown",
   "metadata": {},
   "source": [
    "## Text stemming"
   ]
  },
  {
   "cell_type": "code",
   "execution_count": 34,
   "metadata": {},
   "outputs": [
    {
     "data": {
      "text/plain": [
       "'My system keep crash hi crash yesterday, our crash daili'"
      ]
     },
     "execution_count": 34,
     "metadata": {},
     "output_type": "execute_result"
    }
   ],
   "source": [
    "def simple_stemmer(text):\n",
    "    ps = nltk.porter.PorterStemmer()\n",
    "    text = ' '.join([ps.stem(word) for word in text.split()])\n",
    "    return text\n",
    "\n",
    "simple_stemmer(\"My system keeps crashing his crashed yesterday, ours crashes daily\")"
   ]
  },
  {
   "cell_type": "markdown",
   "metadata": {},
   "source": [
    "## Remove stopwords"
   ]
  },
  {
   "cell_type": "code",
   "execution_count": 35,
   "metadata": {},
   "outputs": [
    {
     "data": {
      "text/plain": [
       "', , stopwords , computer not'"
      ]
     },
     "execution_count": 35,
     "metadata": {},
     "output_type": "execute_result"
    }
   ],
   "source": [
    "def remove_stopwords(text, is_lower_case=False):\n",
    "    tokens = tokenizer.tokenize(text)\n",
    "    tokens = [token.strip() for token in tokens]\n",
    "    if is_lower_case:\n",
    "        filtered_tokens = [token for token in tokens if token not in stopword_list]\n",
    "    else:\n",
    "        filtered_tokens = [token for token in tokens if token.lower() not in stopword_list]\n",
    "    filtered_text = ' '.join(filtered_tokens)    \n",
    "    return filtered_text\n",
    "\n",
    "remove_stopwords(\"The, and, if are stopwords, computer is not\")"
   ]
  },
  {
   "cell_type": "markdown",
   "metadata": {},
   "source": [
    "## Building a text normalizer"
   ]
  },
  {
   "cell_type": "code",
   "execution_count": 36,
   "metadata": {},
   "outputs": [],
   "source": [
    "def normalize_corpus(corpus, html_stripping=True, contraction_expansion=True,\n",
    "                     accented_char_removal=True, text_lower_case=True, \n",
    "                     text_lemmatization=True, special_char_removal=True, \n",
    "                     stopword_removal=True, remove_digits=True):\n",
    "    \n",
    "    normalized_corpus = []\n",
    "    # normalize each document in the corpus\n",
    "    for doc in corpus:\n",
    "        # strip HTML\n",
    "        if html_stripping:\n",
    "            doc = strip_html_tags(doc)\n",
    "        # remove accented characters\n",
    "        if accented_char_removal:\n",
    "            doc = remove_accented_chars(doc)\n",
    "        # lowercase the text    \n",
    "        if text_lower_case:\n",
    "            doc = doc.lower()\n",
    "        # remove extra newlines\n",
    "        doc = re.sub(r'[\\r|\\n|\\r\\n]+', ' ',doc)\n",
    "        # lemmatize text\n",
    "        if text_lemmatization:\n",
    "            doc = lemmatize_text(doc)\n",
    "        # remove special characters and\\or digits    \n",
    "        if special_char_removal:\n",
    "            # insert spaces between special characters to isolate them    \n",
    "            special_char_pattern = re.compile(r'([{.(-)!}])')\n",
    "            doc = special_char_pattern.sub(\" \\\\1 \", doc)\n",
    "            doc = remove_special_characters(doc, remove_digits=remove_digits)  \n",
    "        # remove extra whitespace\n",
    "        doc = re.sub(' +', ' ', doc)\n",
    "        # remove stopwords\n",
    "        if stopword_removal:\n",
    "            doc = remove_stopwords(doc, is_lower_case=text_lower_case)\n",
    "            \n",
    "        normalized_corpus.append(doc)\n",
    "        \n",
    "    return normalized_corpus"
   ]
  },
  {
   "cell_type": "markdown",
   "metadata": {},
   "source": [
    "## Pre-process and normalize news articles"
   ]
  },
  {
   "cell_type": "code",
   "execution_count": 37,
   "metadata": {},
   "outputs": [],
   "source": [
    "news_df['full_text'] = news_df[\"news_headline\"].map(str)+ '. ' + news_df[\"news_article\"]"
   ]
  },
  {
   "cell_type": "code",
   "execution_count": 38,
   "metadata": {},
   "outputs": [
    {
     "data": {
      "text/plain": [
       "{'full_text': \"US charges Facebook over racial discrimination in housing ads. The US Department of Housing and Urban Development (HUD) has charged Facebook for violating the Fair Housing Act by encouraging, enabling and causing housing discrimination in advertising on its platforms. HUD is seeking damages for any person harmed by Facebook's advertising systems, which allowed employers and landlords to limit audiences on the basis of race, ethnicity and gender.\",\n",
       " 'clean_text': 'us charge facebook racial discrimination housing ad us department housing urban development hud charge facebook violate fair housing act encourage enable cause housing discrimination advertising platform hud seek damage person harm facebook advertising system allow employer landlord limit audience basis race ethnicity gender'}"
      ]
     },
     "execution_count": 38,
     "metadata": {},
     "output_type": "execute_result"
    }
   ],
   "source": [
    "news_df['clean_text'] = normalize_corpus(news_df['full_text'])\n",
    "norm_corpus = list(news_df['clean_text'])\n",
    "news_df.iloc[1][['full_text', 'clean_text']].to_dict()"
   ]
  },
  {
   "cell_type": "markdown",
   "metadata": {},
   "source": [
    "# Save the news articles"
   ]
  },
  {
   "cell_type": "code",
   "execution_count": 39,
   "metadata": {},
   "outputs": [],
   "source": [
    "news_df.to_csv('news.csv', index=False, encoding='utf-8')"
   ]
  },
  {
   "cell_type": "markdown",
   "metadata": {},
   "source": [
    "# Tagging Parts of Speech"
   ]
  },
  {
   "cell_type": "code",
   "execution_count": 40,
   "metadata": {},
   "outputs": [],
   "source": [
    "news_df = pd.read_csv('news.csv')"
   ]
  },
  {
   "cell_type": "code",
   "execution_count": 41,
   "metadata": {},
   "outputs": [],
   "source": [
    "corpus = normalize_corpus(news_df['full_text'], text_lower_case=False, \n",
    "                          text_lemmatization=False, special_char_removal=False)\n",
    "\n",
    "sentence = str(news_df.iloc[1].news_headline)\n",
    "sentence_nlp = nlp(sentence)"
   ]
  },
  {
   "cell_type": "code",
   "execution_count": 42,
   "metadata": {},
   "outputs": [
    {
     "data": {
      "text/html": [
       "<div>\n",
       "<style scoped>\n",
       "    .dataframe tbody tr th:only-of-type {\n",
       "        vertical-align: middle;\n",
       "    }\n",
       "\n",
       "    .dataframe tbody tr th {\n",
       "        vertical-align: top;\n",
       "    }\n",
       "\n",
       "    .dataframe thead th {\n",
       "        text-align: right;\n",
       "    }\n",
       "</style>\n",
       "<table border=\"1\" class=\"dataframe\">\n",
       "  <thead>\n",
       "    <tr style=\"text-align: right;\">\n",
       "      <th></th>\n",
       "      <th>Word</th>\n",
       "      <th>POS tag</th>\n",
       "      <th>Tag type</th>\n",
       "    </tr>\n",
       "  </thead>\n",
       "  <tbody>\n",
       "    <tr>\n",
       "      <th>0</th>\n",
       "      <td>US</td>\n",
       "      <td>NNP</td>\n",
       "      <td>PROPN</td>\n",
       "    </tr>\n",
       "    <tr>\n",
       "      <th>1</th>\n",
       "      <td>charges</td>\n",
       "      <td>VBZ</td>\n",
       "      <td>VERB</td>\n",
       "    </tr>\n",
       "    <tr>\n",
       "      <th>2</th>\n",
       "      <td>Facebook</td>\n",
       "      <td>NNP</td>\n",
       "      <td>PROPN</td>\n",
       "    </tr>\n",
       "    <tr>\n",
       "      <th>3</th>\n",
       "      <td>over</td>\n",
       "      <td>IN</td>\n",
       "      <td>ADP</td>\n",
       "    </tr>\n",
       "    <tr>\n",
       "      <th>4</th>\n",
       "      <td>racial</td>\n",
       "      <td>JJ</td>\n",
       "      <td>ADJ</td>\n",
       "    </tr>\n",
       "    <tr>\n",
       "      <th>5</th>\n",
       "      <td>discrimination</td>\n",
       "      <td>NN</td>\n",
       "      <td>NOUN</td>\n",
       "    </tr>\n",
       "    <tr>\n",
       "      <th>6</th>\n",
       "      <td>in</td>\n",
       "      <td>IN</td>\n",
       "      <td>ADP</td>\n",
       "    </tr>\n",
       "    <tr>\n",
       "      <th>7</th>\n",
       "      <td>housing</td>\n",
       "      <td>NN</td>\n",
       "      <td>NOUN</td>\n",
       "    </tr>\n",
       "    <tr>\n",
       "      <th>8</th>\n",
       "      <td>ads</td>\n",
       "      <td>NNS</td>\n",
       "      <td>NOUN</td>\n",
       "    </tr>\n",
       "  </tbody>\n",
       "</table>\n",
       "</div>"
      ],
      "text/plain": [
       "             Word POS tag Tag type\n",
       "0              US     NNP    PROPN\n",
       "1         charges     VBZ     VERB\n",
       "2        Facebook     NNP    PROPN\n",
       "3            over      IN      ADP\n",
       "4          racial      JJ      ADJ\n",
       "5  discrimination      NN     NOUN\n",
       "6              in      IN      ADP\n",
       "7         housing      NN     NOUN\n",
       "8             ads     NNS     NOUN"
      ]
     },
     "execution_count": 42,
     "metadata": {},
     "output_type": "execute_result"
    }
   ],
   "source": [
    "spacy_pos_tagged = [(word, word.tag_, word.pos_) for word in sentence_nlp]\n",
    "pd.DataFrame(spacy_pos_tagged, columns=['Word', 'POS tag', 'Tag type'])"
   ]
  },
  {
   "cell_type": "code",
   "execution_count": 46,
   "metadata": {},
   "outputs": [
    {
     "name": "stdout",
     "output_type": "stream",
     "text": [
      "[nltk_data] Downloading package punkt to\n",
      "[nltk_data]     C:\\Users\\Narayana_GLB\\AppData\\Roaming\\nltk_data...\n",
      "[nltk_data]   Package punkt is already up-to-date!\n"
     ]
    },
    {
     "data": {
      "text/plain": [
       "True"
      ]
     },
     "execution_count": 46,
     "metadata": {},
     "output_type": "execute_result"
    }
   ],
   "source": [
    "nltk.download('punkt')"
   ]
  },
  {
   "cell_type": "code",
   "execution_count": 47,
   "metadata": {},
   "outputs": [
    {
     "name": "stdout",
     "output_type": "stream",
     "text": [
      "[nltk_data] Downloading package maxent_treebank_pos_tagger to\n",
      "[nltk_data]     C:\\Users\\Narayana_GLB\\AppData\\Roaming\\nltk_data...\n",
      "[nltk_data]   Package maxent_treebank_pos_tagger is already up-to-\n",
      "[nltk_data]       date!\n"
     ]
    },
    {
     "data": {
      "text/plain": [
       "True"
      ]
     },
     "execution_count": 47,
     "metadata": {},
     "output_type": "execute_result"
    }
   ],
   "source": [
    "nltk.download('maxent_treebank_pos_tagger')"
   ]
  },
  {
   "cell_type": "code",
   "execution_count": 48,
   "metadata": {},
   "outputs": [
    {
     "name": "stdout",
     "output_type": "stream",
     "text": [
      "[nltk_data] Downloading package averaged_perceptron_tagger to\n",
      "[nltk_data]     C:\\Users\\Narayana_GLB\\AppData\\Roaming\\nltk_data...\n",
      "[nltk_data]   Package averaged_perceptron_tagger is already up-to-\n",
      "[nltk_data]       date!\n"
     ]
    },
    {
     "data": {
      "text/plain": [
       "True"
      ]
     },
     "execution_count": 48,
     "metadata": {},
     "output_type": "execute_result"
    }
   ],
   "source": [
    "nltk.download('averaged_perceptron_tagger')"
   ]
  },
  {
   "cell_type": "code",
   "execution_count": 49,
   "metadata": {},
   "outputs": [],
   "source": [
    "nltk_pos_tagged = nltk.pos_tag(sentence.split())"
   ]
  },
  {
   "cell_type": "code",
   "execution_count": 50,
   "metadata": {},
   "outputs": [
    {
     "data": {
      "text/html": [
       "<div>\n",
       "<style scoped>\n",
       "    .dataframe tbody tr th:only-of-type {\n",
       "        vertical-align: middle;\n",
       "    }\n",
       "\n",
       "    .dataframe tbody tr th {\n",
       "        vertical-align: top;\n",
       "    }\n",
       "\n",
       "    .dataframe thead th {\n",
       "        text-align: right;\n",
       "    }\n",
       "</style>\n",
       "<table border=\"1\" class=\"dataframe\">\n",
       "  <thead>\n",
       "    <tr style=\"text-align: right;\">\n",
       "      <th></th>\n",
       "      <th>Word</th>\n",
       "      <th>POS tag</th>\n",
       "    </tr>\n",
       "  </thead>\n",
       "  <tbody>\n",
       "    <tr>\n",
       "      <th>0</th>\n",
       "      <td>US</td>\n",
       "      <td>NN</td>\n",
       "    </tr>\n",
       "    <tr>\n",
       "      <th>1</th>\n",
       "      <td>charges</td>\n",
       "      <td>NNS</td>\n",
       "    </tr>\n",
       "    <tr>\n",
       "      <th>2</th>\n",
       "      <td>Facebook</td>\n",
       "      <td>NNP</td>\n",
       "    </tr>\n",
       "    <tr>\n",
       "      <th>3</th>\n",
       "      <td>over</td>\n",
       "      <td>IN</td>\n",
       "    </tr>\n",
       "    <tr>\n",
       "      <th>4</th>\n",
       "      <td>racial</td>\n",
       "      <td>JJ</td>\n",
       "    </tr>\n",
       "    <tr>\n",
       "      <th>5</th>\n",
       "      <td>discrimination</td>\n",
       "      <td>NN</td>\n",
       "    </tr>\n",
       "    <tr>\n",
       "      <th>6</th>\n",
       "      <td>in</td>\n",
       "      <td>IN</td>\n",
       "    </tr>\n",
       "    <tr>\n",
       "      <th>7</th>\n",
       "      <td>housing</td>\n",
       "      <td>NN</td>\n",
       "    </tr>\n",
       "    <tr>\n",
       "      <th>8</th>\n",
       "      <td>ads</td>\n",
       "      <td>NNS</td>\n",
       "    </tr>\n",
       "  </tbody>\n",
       "</table>\n",
       "</div>"
      ],
      "text/plain": [
       "             Word POS tag\n",
       "0              US      NN\n",
       "1         charges     NNS\n",
       "2        Facebook     NNP\n",
       "3            over      IN\n",
       "4          racial      JJ\n",
       "5  discrimination      NN\n",
       "6              in      IN\n",
       "7         housing      NN\n",
       "8             ads     NNS"
      ]
     },
     "execution_count": 50,
     "metadata": {},
     "output_type": "execute_result"
    }
   ],
   "source": [
    "pd.DataFrame(nltk_pos_tagged, columns=['Word', 'POS tag'])"
   ]
  },
  {
   "cell_type": "markdown",
   "metadata": {},
   "source": [
    "# Named Entity Recognition"
   ]
  },
  {
   "cell_type": "code",
   "execution_count": 60,
   "metadata": {},
   "outputs": [],
   "source": [
    "sentence = str(news_df.iloc[1].full_text)"
   ]
  },
  {
   "cell_type": "code",
   "execution_count": 63,
   "metadata": {},
   "outputs": [
    {
     "data": {
      "text/plain": [
       "\"US charges Facebook over racial discrimination in housing ads. The US Department of Housing and Urban Development (HUD) has charged Facebook for violating the Fair Housing Act by encouraging, enabling and causing housing discrimination in advertising on its platforms. HUD is seeking damages for any person harmed by Facebook's advertising systems, which allowed employers and landlords to limit audiences on the basis of race, ethnicity and gender.\""
      ]
     },
     "execution_count": 63,
     "metadata": {},
     "output_type": "execute_result"
    }
   ],
   "source": [
    "sentence"
   ]
  },
  {
   "cell_type": "code",
   "execution_count": 67,
   "metadata": {},
   "outputs": [],
   "source": [
    "sentence_nlp = nlp(sentence)"
   ]
  },
  {
   "cell_type": "code",
   "execution_count": 68,
   "metadata": {},
   "outputs": [
    {
     "data": {
      "text/plain": [
       "US charges Facebook over racial discrimination in housing ads. The US Department of Housing and Urban Development (HUD) has charged Facebook for violating the Fair Housing Act by encouraging, enabling and causing housing discrimination in advertising on its platforms. HUD is seeking damages for any person harmed by Facebook's advertising systems, which allowed employers and landlords to limit audiences on the basis of race, ethnicity and gender."
      ]
     },
     "execution_count": 68,
     "metadata": {},
     "output_type": "execute_result"
    }
   ],
   "source": [
    "sentence_nlp"
   ]
  },
  {
   "cell_type": "code",
   "execution_count": 70,
   "metadata": {},
   "outputs": [
    {
     "name": "stdout",
     "output_type": "stream",
     "text": [
      "[(US, 'GPE'), (The, 'ORG'), (US, 'ORG'), (Department, 'ORG'), (of, 'ORG'), (Housing, 'ORG'), (and, 'ORG'), (Urban, 'ORG'), (Development, 'ORG'), (HUD, 'ORG'), (the, 'LAW'), (Fair, 'LAW'), (Housing, 'LAW'), (Act, 'LAW'), (HUD, 'ORG'), (Facebook, 'PERSON')]\n"
     ]
    }
   ],
   "source": [
    "print([(word, word.ent_type_) for word in sentence_nlp if word.ent_type_])"
   ]
  },
  {
   "cell_type": "code",
   "execution_count": 71,
   "metadata": {},
   "outputs": [],
   "source": [
    "named_entities = []\n",
    "for sentence in corpus:\n",
    "    temp_entity_name = ''\n",
    "    temp_named_entity = None\n",
    "    sentence = nlp(sentence)\n",
    "    for word in sentence:\n",
    "        term = word.text \n",
    "        tag = word.ent_type_\n",
    "        if tag:\n",
    "            temp_entity_name = ' '.join([temp_entity_name, term]).strip()\n",
    "            temp_named_entity = (temp_entity_name, tag)\n",
    "        else:\n",
    "            if temp_named_entity:\n",
    "                named_entities.append(temp_named_entity)\n",
    "                temp_entity_name = ''\n",
    "                temp_named_entity = None\n",
    "\n",
    "entity_frame = pd.DataFrame(named_entities, \n",
    "                            columns=['Entity Name', 'Entity Type'])"
   ]
  },
  {
   "cell_type": "code",
   "execution_count": 72,
   "metadata": {},
   "outputs": [
    {
     "data": {
      "text/html": [
       "<div>\n",
       "<style scoped>\n",
       "    .dataframe tbody tr th:only-of-type {\n",
       "        vertical-align: middle;\n",
       "    }\n",
       "\n",
       "    .dataframe tbody tr th {\n",
       "        vertical-align: top;\n",
       "    }\n",
       "\n",
       "    .dataframe thead th {\n",
       "        text-align: right;\n",
       "    }\n",
       "</style>\n",
       "<table border=\"1\" class=\"dataframe\">\n",
       "  <thead>\n",
       "    <tr style=\"text-align: right;\">\n",
       "      <th></th>\n",
       "      <th>0</th>\n",
       "      <th>1</th>\n",
       "      <th>2</th>\n",
       "      <th>3</th>\n",
       "      <th>4</th>\n",
       "      <th>5</th>\n",
       "      <th>6</th>\n",
       "      <th>7</th>\n",
       "      <th>8</th>\n",
       "      <th>9</th>\n",
       "      <th>10</th>\n",
       "      <th>11</th>\n",
       "      <th>12</th>\n",
       "      <th>13</th>\n",
       "      <th>14</th>\n",
       "    </tr>\n",
       "  </thead>\n",
       "  <tbody>\n",
       "    <tr>\n",
       "      <th>Entity Name</th>\n",
       "      <td>US</td>\n",
       "      <td>Google</td>\n",
       "      <td>China</td>\n",
       "      <td>India</td>\n",
       "      <td>Trump</td>\n",
       "      <td>Pakistan</td>\n",
       "      <td>Apple</td>\n",
       "      <td>first</td>\n",
       "      <td>KXIP</td>\n",
       "      <td>two</td>\n",
       "      <td>six</td>\n",
       "      <td>KKR</td>\n",
       "      <td>IPL</td>\n",
       "      <td>Afghanistan</td>\n",
       "      <td>Pichai</td>\n",
       "    </tr>\n",
       "    <tr>\n",
       "      <th>Entity Type</th>\n",
       "      <td>GPE</td>\n",
       "      <td>ORG</td>\n",
       "      <td>GPE</td>\n",
       "      <td>GPE</td>\n",
       "      <td>ORG</td>\n",
       "      <td>GPE</td>\n",
       "      <td>ORG</td>\n",
       "      <td>ORDINAL</td>\n",
       "      <td>ORG</td>\n",
       "      <td>CARDINAL</td>\n",
       "      <td>CARDINAL</td>\n",
       "      <td>ORG</td>\n",
       "      <td>ORG</td>\n",
       "      <td>GPE</td>\n",
       "      <td>GPE</td>\n",
       "    </tr>\n",
       "    <tr>\n",
       "      <th>Frequency</th>\n",
       "      <td>36</td>\n",
       "      <td>17</td>\n",
       "      <td>15</td>\n",
       "      <td>15</td>\n",
       "      <td>9</td>\n",
       "      <td>8</td>\n",
       "      <td>8</td>\n",
       "      <td>8</td>\n",
       "      <td>8</td>\n",
       "      <td>8</td>\n",
       "      <td>7</td>\n",
       "      <td>7</td>\n",
       "      <td>7</td>\n",
       "      <td>6</td>\n",
       "      <td>6</td>\n",
       "    </tr>\n",
       "  </tbody>\n",
       "</table>\n",
       "</div>"
      ],
      "text/plain": [
       "              0       1      2      3      4         5      6        7     8   \\\n",
       "Entity Name   US  Google  China  India  Trump  Pakistan  Apple    first  KXIP   \n",
       "Entity Type  GPE     ORG    GPE    GPE    ORG       GPE    ORG  ORDINAL   ORG   \n",
       "Frequency     36      17     15     15      9         8      8        8     8   \n",
       "\n",
       "                   9         10   11   12           13      14  \n",
       "Entity Name       two       six  KKR  IPL  Afghanistan  Pichai  \n",
       "Entity Type  CARDINAL  CARDINAL  ORG  ORG          GPE     GPE  \n",
       "Frequency           8         7    7    7            6       6  "
      ]
     },
     "execution_count": 72,
     "metadata": {},
     "output_type": "execute_result"
    }
   ],
   "source": [
    "top_entities = (entity_frame.groupby(by=['Entity Name', 'Entity Type'])\n",
    "                           .size()\n",
    "                           .sort_values(ascending=False)\n",
    "                           .reset_index().rename(columns={0 : 'Frequency'}))\n",
    "top_entities.T.iloc[:,:15]"
   ]
  },
  {
   "cell_type": "code",
   "execution_count": 73,
   "metadata": {},
   "outputs": [
    {
     "data": {
      "text/html": [
       "<div>\n",
       "<style scoped>\n",
       "    .dataframe tbody tr th:only-of-type {\n",
       "        vertical-align: middle;\n",
       "    }\n",
       "\n",
       "    .dataframe tbody tr th {\n",
       "        vertical-align: top;\n",
       "    }\n",
       "\n",
       "    .dataframe thead th {\n",
       "        text-align: right;\n",
       "    }\n",
       "</style>\n",
       "<table border=\"1\" class=\"dataframe\">\n",
       "  <thead>\n",
       "    <tr style=\"text-align: right;\">\n",
       "      <th></th>\n",
       "      <th>0</th>\n",
       "      <th>1</th>\n",
       "      <th>2</th>\n",
       "      <th>3</th>\n",
       "      <th>4</th>\n",
       "      <th>5</th>\n",
       "      <th>6</th>\n",
       "      <th>7</th>\n",
       "      <th>8</th>\n",
       "      <th>9</th>\n",
       "      <th>10</th>\n",
       "      <th>11</th>\n",
       "      <th>12</th>\n",
       "      <th>13</th>\n",
       "      <th>14</th>\n",
       "    </tr>\n",
       "  </thead>\n",
       "  <tbody>\n",
       "    <tr>\n",
       "      <th>Entity Type</th>\n",
       "      <td>ORG</td>\n",
       "      <td>PERSON</td>\n",
       "      <td>GPE</td>\n",
       "      <td>CARDINAL</td>\n",
       "      <td>DATE</td>\n",
       "      <td>NORP</td>\n",
       "      <td>ORDINAL</td>\n",
       "      <td>LOC</td>\n",
       "      <td>MONEY</td>\n",
       "      <td>PRODUCT</td>\n",
       "      <td>WORK_OF_ART</td>\n",
       "      <td>LAW</td>\n",
       "      <td>TIME</td>\n",
       "      <td>PERCENT</td>\n",
       "      <td>FAC</td>\n",
       "    </tr>\n",
       "    <tr>\n",
       "      <th>Frequency</th>\n",
       "      <td>214</td>\n",
       "      <td>153</td>\n",
       "      <td>137</td>\n",
       "      <td>82</td>\n",
       "      <td>65</td>\n",
       "      <td>44</td>\n",
       "      <td>21</td>\n",
       "      <td>13</td>\n",
       "      <td>8</td>\n",
       "      <td>7</td>\n",
       "      <td>4</td>\n",
       "      <td>2</td>\n",
       "      <td>1</td>\n",
       "      <td>1</td>\n",
       "      <td>1</td>\n",
       "    </tr>\n",
       "  </tbody>\n",
       "</table>\n",
       "</div>"
      ],
      "text/plain": [
       "              0       1    2         3     4     5        6    7      8   \\\n",
       "Entity Type  ORG  PERSON  GPE  CARDINAL  DATE  NORP  ORDINAL  LOC  MONEY   \n",
       "Frequency    214     153  137        82    65    44       21   13      8   \n",
       "\n",
       "                  9            10   11    12       13   14  \n",
       "Entity Type  PRODUCT  WORK_OF_ART  LAW  TIME  PERCENT  FAC  \n",
       "Frequency          7            4    2     1        1    1  "
      ]
     },
     "execution_count": 73,
     "metadata": {},
     "output_type": "execute_result"
    }
   ],
   "source": [
    "top_entities = (entity_frame.groupby(by=['Entity Type'])\n",
    "                           .size()\n",
    "                           .sort_values(ascending=False)\n",
    "                           .reset_index().rename(columns={0 : 'Frequency'}))\n",
    "top_entities.T.iloc[:,:15]"
   ]
  },
  {
   "cell_type": "markdown",
   "metadata": {},
   "source": [
    "# Emotion and Sentiment Analysis"
   ]
  },
  {
   "cell_type": "code",
   "execution_count": 74,
   "metadata": {},
   "outputs": [],
   "source": [
    "from afinn import Afinn"
   ]
  },
  {
   "cell_type": "code",
   "execution_count": 75,
   "metadata": {},
   "outputs": [],
   "source": [
    "af = Afinn()"
   ]
  },
  {
   "cell_type": "code",
   "execution_count": 76,
   "metadata": {},
   "outputs": [],
   "source": [
    "sentiment_scores = [af.score(article) for article in corpus]"
   ]
  },
  {
   "cell_type": "code",
   "execution_count": 77,
   "metadata": {},
   "outputs": [],
   "source": [
    "sentiment_category = ['positive' if score > 0 \n",
    "                          else 'negative' if score < 0 \n",
    "                              else 'neutral' \n",
    "                                  for score in sentiment_scores]"
   ]
  },
  {
   "cell_type": "code",
   "execution_count": 78,
   "metadata": {},
   "outputs": [],
   "source": [
    "df = pd.DataFrame([list(news_df['news_category']), sentiment_scores, sentiment_category]).T"
   ]
  },
  {
   "cell_type": "code",
   "execution_count": 79,
   "metadata": {},
   "outputs": [],
   "source": [
    "df.columns = ['news_category', 'sentiment_score', 'sentiment_category']"
   ]
  },
  {
   "cell_type": "code",
   "execution_count": 80,
   "metadata": {},
   "outputs": [],
   "source": [
    "df['sentiment_score'] = df.sentiment_score.astype('float')"
   ]
  },
  {
   "cell_type": "code",
   "execution_count": 81,
   "metadata": {},
   "outputs": [
    {
     "data": {
      "text/html": [
       "<div>\n",
       "<style scoped>\n",
       "    .dataframe tbody tr th:only-of-type {\n",
       "        vertical-align: middle;\n",
       "    }\n",
       "\n",
       "    .dataframe tbody tr th {\n",
       "        vertical-align: top;\n",
       "    }\n",
       "\n",
       "    .dataframe thead tr th {\n",
       "        text-align: left;\n",
       "    }\n",
       "\n",
       "    .dataframe thead tr:last-of-type th {\n",
       "        text-align: right;\n",
       "    }\n",
       "</style>\n",
       "<table border=\"1\" class=\"dataframe\">\n",
       "  <thead>\n",
       "    <tr>\n",
       "      <th></th>\n",
       "      <th colspan=\"8\" halign=\"left\">sentiment_score</th>\n",
       "    </tr>\n",
       "    <tr>\n",
       "      <th></th>\n",
       "      <th>count</th>\n",
       "      <th>mean</th>\n",
       "      <th>std</th>\n",
       "      <th>min</th>\n",
       "      <th>25%</th>\n",
       "      <th>50%</th>\n",
       "      <th>75%</th>\n",
       "      <th>max</th>\n",
       "    </tr>\n",
       "    <tr>\n",
       "      <th>news_category</th>\n",
       "      <th></th>\n",
       "      <th></th>\n",
       "      <th></th>\n",
       "      <th></th>\n",
       "      <th></th>\n",
       "      <th></th>\n",
       "      <th></th>\n",
       "      <th></th>\n",
       "    </tr>\n",
       "  </thead>\n",
       "  <tbody>\n",
       "    <tr>\n",
       "      <th>sports</th>\n",
       "      <td>24.0</td>\n",
       "      <td>2.416667</td>\n",
       "      <td>5.800425</td>\n",
       "      <td>-10.0</td>\n",
       "      <td>-1.25</td>\n",
       "      <td>2.5</td>\n",
       "      <td>5.25</td>\n",
       "      <td>12.0</td>\n",
       "    </tr>\n",
       "    <tr>\n",
       "      <th>technology</th>\n",
       "      <td>25.0</td>\n",
       "      <td>-0.280000</td>\n",
       "      <td>6.400000</td>\n",
       "      <td>-10.0</td>\n",
       "      <td>-5.00</td>\n",
       "      <td>0.0</td>\n",
       "      <td>4.00</td>\n",
       "      <td>14.0</td>\n",
       "    </tr>\n",
       "    <tr>\n",
       "      <th>world</th>\n",
       "      <td>25.0</td>\n",
       "      <td>-1.920000</td>\n",
       "      <td>5.801724</td>\n",
       "      <td>-17.0</td>\n",
       "      <td>-5.00</td>\n",
       "      <td>0.0</td>\n",
       "      <td>2.00</td>\n",
       "      <td>6.0</td>\n",
       "    </tr>\n",
       "  </tbody>\n",
       "</table>\n",
       "</div>"
      ],
      "text/plain": [
       "              sentiment_score                                                 \n",
       "                        count      mean       std   min   25%  50%   75%   max\n",
       "news_category                                                                 \n",
       "sports                   24.0  2.416667  5.800425 -10.0 -1.25  2.5  5.25  12.0\n",
       "technology               25.0 -0.280000  6.400000 -10.0 -5.00  0.0  4.00  14.0\n",
       "world                    25.0 -1.920000  5.801724 -17.0 -5.00  0.0  2.00   6.0"
      ]
     },
     "execution_count": 81,
     "metadata": {},
     "output_type": "execute_result"
    }
   ],
   "source": [
    "df.groupby(by=['news_category']).describe()"
   ]
  },
  {
   "cell_type": "code",
   "execution_count": 82,
   "metadata": {},
   "outputs": [
    {
     "data": {
      "image/png": "[encoded data removed]",
      "text/plain": [
       "<Figure size 1008x288 with 2 Axes>"
      ]
     },
     "metadata": {
      "needs_background": "light"
     },
     "output_type": "display_data"
    }
   ],
   "source": [
    "f, (ax1, ax2) = plt.subplots(1, 2, figsize=(14, 4))\n",
    "sp = sns.stripplot(x='news_category', y=\"sentiment_score\",  hue='news_category', data=df, ax=ax1)\n",
    "bp = sns.boxplot(x='news_category', y=\"sentiment_score\", hue='news_category', data=df, palette=\"Set2\", ax=ax2)\n",
    "t = f.suptitle('Visualizing News Sentiment', fontsize=14)"
   ]
  },
  {
   "cell_type": "code",
   "execution_count": 83,
   "metadata": {},
   "outputs": [
    {
     "name": "stderr",
     "output_type": "stream",
     "text": [
      "C:\\ProgramData\\Anaconda3\\lib\\site-packages\\seaborn\\categorical.py:3666: UserWarning: The `factorplot` function has been renamed to `catplot`. The original name will be removed in a future release. Please update your code. Note that the default `kind` in `factorplot` (`'point'`) has changed `'strip'` in `catplot`.\n",
      "  warnings.warn(msg)\n"
     ]
    },
    {
     "data": {
      "image/png": "[encoded data removed]",
      "text/plain": [
       "<Figure size 467.5x360 with 1 Axes>"
      ]
     },
     "metadata": {
      "needs_background": "light"
     },
     "output_type": "display_data"
    }
   ],
   "source": [
    "fc = sns.factorplot(x=\"news_category\", hue=\"sentiment_category\", \n",
    "                    data=df, kind=\"count\", \n",
    "                    palette={\"negative\": \"#FE2020\", \n",
    "                             \"positive\": \"#BADD07\", \n",
    "                             \"neutral\": \"#68BFF5\"})"
   ]
  },
  {
   "cell_type": "code",
   "execution_count": 87,
   "metadata": {},
   "outputs": [],
   "source": [
    "pos_idx = df[(df.news_category=='technology') & (df.sentiment_score == 2)].index[0]"
   ]
  },
  {
   "cell_type": "code",
   "execution_count": 89,
   "metadata": {},
   "outputs": [],
   "source": [
    "neg_idx = df[(df.news_category=='technology') & (df.sentiment_score == -2)].index[0]"
   ]
  },
  {
   "cell_type": "code",
   "execution_count": 90,
   "metadata": {},
   "outputs": [
    {
     "name": "stdout",
     "output_type": "stream",
     "text": [
      "Most Negative Tech News Article: Elon Musk-led Tesla said it has built Asia's largest energy storage system at Osaka train station in Japan. The 7 MWh system with 42 Powerpack battery units can provide energy to move a train and its passengers for up to 30 minutes to the nearest station during a power failure, Tesla said, adding its hardware was installed in two days.\n",
      "\n",
      "Most Positive Tech News Article: Facebook is introducing a new feature, 'Candidate Connect', to let 2019 Lok Sabha election candidates make 20-second videos to connect with voters. In the videos, to be grouped by constituencies, candidates will answer a set of questions, which Facebook said are outcomes of local consumer research. The videos will appear at the top of a user's 'News Feed'.\n"
     ]
    }
   ],
   "source": [
    "print('Most Negative Tech News Article:', news_df.iloc[neg_idx][['news_article']][0])\n",
    "print()\n",
    "print('Most Positive Tech News Article:', news_df.iloc[pos_idx][['news_article']][0])"
   ]
  },
  {
   "cell_type": "code",
   "execution_count": 100,
   "metadata": {},
   "outputs": [
    {
     "data": {
      "text/plain": [
       "array([ -4.,   4.,  -8.,   1.,   6.,  -3.,   0., -12.,   5.,   2.,  -5.,\n",
       "       -17.,  -6.])"
      ]
     },
     "execution_count": 100,
     "metadata": {},
     "output_type": "execute_result"
    }
   ],
   "source": [
    "df1 = df[df.news_category=='world']\n",
    "pd.unique(df1.sentiment_score)"
   ]
  },
  {
   "cell_type": "code",
   "execution_count": 101,
   "metadata": {},
   "outputs": [
    {
     "name": "stdout",
     "output_type": "stream",
     "text": [
      "Most Negative World News Article: Pakistan has said it has examined the 22 pin locations of alleged training camps shared by India and said no such camps exist. \"Pakistan is willing to allow visits, on request, to these locations,\" the statement added. It also stated that 54 people are being probed in connection with the Pulwama attack, but no link has been found so far.\n",
      "\n",
      "Most Positive World News Article: The US Ambassador to Afghanistan, John R Bass, has criticised Pakistan PM Imran Khan over his comments suggesting Afghanistan should set up an interim government to facilitate US-Taliban talks. \"Some aspects of cricket apply well in diplomacy, some do not. [It's] important to resist the temptation to ball-tamper with the Afghanistan peace process and its internal affairs,\" Bass tweeted.\n"
     ]
    }
   ],
   "source": [
    "pos_idx = df[(df.news_category=='world') & (df.sentiment_score == 4)].index[0]\n",
    "neg_idx = df[(df.news_category=='world') & (df.sentiment_score == -4.)].index[0]\n",
    "\n",
    "print('Most Negative World News Article:', news_df.iloc[neg_idx][['news_article']][0])\n",
    "print()\n",
    "print('Most Positive World News Article:', news_df.iloc[pos_idx][['news_article']][0])"
   ]
  },
  {
   "cell_type": "code",
   "execution_count": 102,
   "metadata": {},
   "outputs": [],
   "source": [
    "from textblob import TextBlob"
   ]
  },
  {
   "cell_type": "code",
   "execution_count": 103,
   "metadata": {},
   "outputs": [],
   "source": [
    "sentiment_scores_tb = [round(TextBlob(article).sentiment.polarity, 3) for article in news_df['clean_text']]"
   ]
  },
  {
   "cell_type": "code",
   "execution_count": 104,
   "metadata": {},
   "outputs": [],
   "source": [
    "sentiment_category_tb = ['positive' if score > 0 \n",
    "                             else 'negative' if score < 0 \n",
    "                                 else 'neutral' \n",
    "                                     for score in sentiment_scores_tb]"
   ]
  },
  {
   "cell_type": "code",
   "execution_count": 105,
   "metadata": {},
   "outputs": [
    {
     "data": {
      "text/html": [
       "<div>\n",
       "<style scoped>\n",
       "    .dataframe tbody tr th:only-of-type {\n",
       "        vertical-align: middle;\n",
       "    }\n",
       "\n",
       "    .dataframe tbody tr th {\n",
       "        vertical-align: top;\n",
       "    }\n",
       "\n",
       "    .dataframe thead tr th {\n",
       "        text-align: left;\n",
       "    }\n",
       "\n",
       "    .dataframe thead tr:last-of-type th {\n",
       "        text-align: right;\n",
       "    }\n",
       "</style>\n",
       "<table border=\"1\" class=\"dataframe\">\n",
       "  <thead>\n",
       "    <tr>\n",
       "      <th></th>\n",
       "      <th colspan=\"8\" halign=\"left\">sentiment_score</th>\n",
       "    </tr>\n",
       "    <tr>\n",
       "      <th></th>\n",
       "      <th>count</th>\n",
       "      <th>mean</th>\n",
       "      <th>std</th>\n",
       "      <th>min</th>\n",
       "      <th>25%</th>\n",
       "      <th>50%</th>\n",
       "      <th>75%</th>\n",
       "      <th>max</th>\n",
       "    </tr>\n",
       "    <tr>\n",
       "      <th>news_category</th>\n",
       "      <th></th>\n",
       "      <th></th>\n",
       "      <th></th>\n",
       "      <th></th>\n",
       "      <th></th>\n",
       "      <th></th>\n",
       "      <th></th>\n",
       "      <th></th>\n",
       "    </tr>\n",
       "  </thead>\n",
       "  <tbody>\n",
       "    <tr>\n",
       "      <th>sports</th>\n",
       "      <td>24.0</td>\n",
       "      <td>0.109833</td>\n",
       "      <td>0.264403</td>\n",
       "      <td>-0.60</td>\n",
       "      <td>0.037</td>\n",
       "      <td>0.100</td>\n",
       "      <td>0.2525</td>\n",
       "      <td>0.767</td>\n",
       "    </tr>\n",
       "    <tr>\n",
       "      <th>technology</th>\n",
       "      <td>25.0</td>\n",
       "      <td>0.079640</td>\n",
       "      <td>0.160765</td>\n",
       "      <td>-0.25</td>\n",
       "      <td>-0.019</td>\n",
       "      <td>0.067</td>\n",
       "      <td>0.1500</td>\n",
       "      <td>0.533</td>\n",
       "    </tr>\n",
       "    <tr>\n",
       "      <th>world</th>\n",
       "      <td>25.0</td>\n",
       "      <td>0.010960</td>\n",
       "      <td>0.199371</td>\n",
       "      <td>-0.80</td>\n",
       "      <td>-0.044</td>\n",
       "      <td>0.050</td>\n",
       "      <td>0.0830</td>\n",
       "      <td>0.350</td>\n",
       "    </tr>\n",
       "  </tbody>\n",
       "</table>\n",
       "</div>"
      ],
      "text/plain": [
       "              sentiment_score                                                  \\\n",
       "                        count      mean       std   min    25%    50%     75%   \n",
       "news_category                                                                   \n",
       "sports                   24.0  0.109833  0.264403 -0.60  0.037  0.100  0.2525   \n",
       "technology               25.0  0.079640  0.160765 -0.25 -0.019  0.067  0.1500   \n",
       "world                    25.0  0.010960  0.199371 -0.80 -0.044  0.050  0.0830   \n",
       "\n",
       "                      \n",
       "                 max  \n",
       "news_category         \n",
       "sports         0.767  \n",
       "technology     0.533  \n",
       "world          0.350  "
      ]
     },
     "execution_count": 105,
     "metadata": {},
     "output_type": "execute_result"
    }
   ],
   "source": [
    "df = pd.DataFrame([list(news_df['news_category']), sentiment_scores_tb, sentiment_category_tb]).T\n",
    "df.columns = ['news_category', 'sentiment_score', 'sentiment_category']\n",
    "df['sentiment_score'] = df.sentiment_score.astype('float')\n",
    "df.groupby(by=['news_category']).describe()"
   ]
  },
  {
   "cell_type": "code",
   "execution_count": 106,
   "metadata": {},
   "outputs": [
    {
     "data": {
      "text/html": [
       "<div>\n",
       "<style scoped>\n",
       "    .dataframe tbody tr th:only-of-type {\n",
       "        vertical-align: middle;\n",
       "    }\n",
       "\n",
       "    .dataframe tbody tr th {\n",
       "        vertical-align: top;\n",
       "    }\n",
       "\n",
       "    .dataframe thead th {\n",
       "        text-align: right;\n",
       "    }\n",
       "</style>\n",
       "<table border=\"1\" class=\"dataframe\">\n",
       "  <thead>\n",
       "    <tr style=\"text-align: right;\">\n",
       "      <th></th>\n",
       "      <th>news_category</th>\n",
       "      <th>sentiment_score</th>\n",
       "      <th>sentiment_category</th>\n",
       "    </tr>\n",
       "  </thead>\n",
       "  <tbody>\n",
       "    <tr>\n",
       "      <th>0</th>\n",
       "      <td>technology</td>\n",
       "      <td>0.069</td>\n",
       "      <td>positive</td>\n",
       "    </tr>\n",
       "    <tr>\n",
       "      <th>1</th>\n",
       "      <td>technology</td>\n",
       "      <td>0.533</td>\n",
       "      <td>positive</td>\n",
       "    </tr>\n",
       "    <tr>\n",
       "      <th>2</th>\n",
       "      <td>technology</td>\n",
       "      <td>-0.040</td>\n",
       "      <td>negative</td>\n",
       "    </tr>\n",
       "    <tr>\n",
       "      <th>3</th>\n",
       "      <td>technology</td>\n",
       "      <td>-0.025</td>\n",
       "      <td>negative</td>\n",
       "    </tr>\n",
       "    <tr>\n",
       "      <th>4</th>\n",
       "      <td>technology</td>\n",
       "      <td>0.053</td>\n",
       "      <td>positive</td>\n",
       "    </tr>\n",
       "  </tbody>\n",
       "</table>\n",
       "</div>"
      ],
      "text/plain": [
       "  news_category  sentiment_score sentiment_category\n",
       "0    technology            0.069           positive\n",
       "1    technology            0.533           positive\n",
       "2    technology           -0.040           negative\n",
       "3    technology           -0.025           negative\n",
       "4    technology            0.053           positive"
      ]
     },
     "execution_count": 106,
     "metadata": {},
     "output_type": "execute_result"
    }
   ],
   "source": [
    "df.head()"
   ]
  },
  {
   "cell_type": "code",
   "execution_count": 107,
   "metadata": {},
   "outputs": [
    {
     "name": "stderr",
     "output_type": "stream",
     "text": [
      "C:\\ProgramData\\Anaconda3\\lib\\site-packages\\seaborn\\categorical.py:3666: UserWarning: The `factorplot` function has been renamed to `catplot`. The original name will be removed in a future release. Please update your code. Note that the default `kind` in `factorplot` (`'point'`) has changed `'strip'` in `catplot`.\n",
      "  warnings.warn(msg)\n"
     ]
    },
    {
     "data": {
      "image/png": "[encoded data removed]",
      "text/plain": [
       "<Figure size 467.5x360 with 1 Axes>"
      ]
     },
     "metadata": {
      "needs_background": "light"
     },
     "output_type": "display_data"
    }
   ],
   "source": [
    "fc = sns.factorplot(x=\"news_category\", hue=\"sentiment_category\", \n",
    "                    data=df, kind=\"count\", \n",
    "                    palette={\"negative\": \"#FE2020\", \n",
    "                             \"positive\": \"#BADD07\", \n",
    "                             \"neutral\": \"#68BFF5\"})"
   ]
  },
  {
   "cell_type": "code",
   "execution_count": 108,
   "metadata": {},
   "outputs": [
    {
     "name": "stdout",
     "output_type": "stream",
     "text": [
      "Most Negative World News Article: The US Ambassador to Afghanistan, John R Bass, has criticised Pakistan PM Imran Khan over his comments suggesting Afghanistan should set up an interim government to facilitate US-Taliban talks. \"Some aspects of cricket apply well in diplomacy, some do not. [It's] important to resist the temptation to ball-tamper with the Afghanistan peace process and its internal affairs,\" Bass tweeted.\n",
      "\n",
      "Most Positive World News Article: Pakistan has said it has examined the 22 pin locations of alleged training camps shared by India and said no such camps exist. \"Pakistan is willing to allow visits, on request, to these locations,\" the statement added. It also stated that 54 people are being probed in connection with the Pulwama attack, but no link has been found so far.\n"
     ]
    }
   ],
   "source": [
    "pos_idx = df[(df.news_category=='world') & (df.sentiment_score > 0.)].index[0]\n",
    "neg_idx = df[(df.news_category=='world') & (df.sentiment_score < -0.)].index[0]\n",
    "\n",
    "print('Most Negative World News Article:', news_df.iloc[neg_idx][['news_article']][0])\n",
    "print()\n",
    "print('Most Positive World News Article:', news_df.iloc[pos_idx][['news_article']][0])"
   ]
  },
  {
   "cell_type": "code",
   "execution_count": 109,
   "metadata": {},
   "outputs": [
    {
     "name": "stderr",
     "output_type": "stream",
     "text": [
      "D:\\courses\\PGPAIML\\statisticalNLP\\aimlBlrSept2018\\model_evaluation_utils.py:76: FutureWarning: the 'labels' keyword is deprecated, use 'codes' instead\n",
      "  labels=level_labels),\n",
      "D:\\courses\\PGPAIML\\statisticalNLP\\aimlBlrSept2018\\model_evaluation_utils.py:78: FutureWarning: the 'labels' keyword is deprecated, use 'codes' instead\n",
      "  labels=level_labels))\n"
     ]
    },
    {
     "data": {
      "text/html": [
       "<div>\n",
       "<style scoped>\n",
       "    .dataframe tbody tr th:only-of-type {\n",
       "        vertical-align: middle;\n",
       "    }\n",
       "\n",
       "    .dataframe tbody tr th {\n",
       "        vertical-align: top;\n",
       "    }\n",
       "\n",
       "    .dataframe thead tr th {\n",
       "        text-align: left;\n",
       "    }\n",
       "</style>\n",
       "<table border=\"1\" class=\"dataframe\">\n",
       "  <thead>\n",
       "    <tr>\n",
       "      <th></th>\n",
       "      <th></th>\n",
       "      <th colspan=\"3\" halign=\"left\">Predicted:</th>\n",
       "    </tr>\n",
       "    <tr>\n",
       "      <th></th>\n",
       "      <th></th>\n",
       "      <th>negative</th>\n",
       "      <th>neutral</th>\n",
       "      <th>positive</th>\n",
       "    </tr>\n",
       "  </thead>\n",
       "  <tbody>\n",
       "    <tr>\n",
       "      <th rowspan=\"3\" valign=\"top\">Actual:</th>\n",
       "      <th>negative</th>\n",
       "      <td>14</td>\n",
       "      <td>2</td>\n",
       "      <td>15</td>\n",
       "    </tr>\n",
       "    <tr>\n",
       "      <th>neutral</th>\n",
       "      <td>0</td>\n",
       "      <td>1</td>\n",
       "      <td>4</td>\n",
       "    </tr>\n",
       "    <tr>\n",
       "      <th>positive</th>\n",
       "      <td>7</td>\n",
       "      <td>2</td>\n",
       "      <td>29</td>\n",
       "    </tr>\n",
       "  </tbody>\n",
       "</table>\n",
       "</div>"
      ],
      "text/plain": [
       "                 Predicted:                 \n",
       "                   negative neutral positive\n",
       "Actual: negative         14       2       15\n",
       "        neutral           0       1        4\n",
       "        positive          7       2       29"
      ]
     },
     "execution_count": 109,
     "metadata": {},
     "output_type": "execute_result"
    }
   ],
   "source": [
    "import model_evaluation_utils as meu\n",
    "meu.display_confusion_matrix_pretty(true_labels=sentiment_category, \n",
    "                                    predicted_labels=sentiment_category_tb, \n",
    "                                    classes=['negative', 'neutral', 'positive'])"
   ]
  },
  {
   "cell_type": "code",
   "execution_count": null,
   "metadata": {},
   "outputs": [],
   "source": []
  },
  {
   "cell_type": "code",
   "execution_count": null,
   "metadata": {
    "collapsed": true
   },
   "outputs": [],
   "source": []
  }
 ],
 "metadata": {
  "anaconda-cloud": {},
  "kernelspec": {
   "display_name": "Python 3",
   "language": "python",
   "name": "python3"
  },
  "language_info": {
   "codemirror_mode": {
    "name": "ipython",
    "version": 3
   },
   "file_extension": ".py",
   "mimetype": "text/x-python",
   "name": "python",
   "nbconvert_exporter": "python",
   "pygments_lexer": "ipython3",
   "version": "3.7.4"
  }
 },
 "nbformat": 4,
 "nbformat_minor": 2
}
